{
 "cells": [
  {
   "cell_type": "code",
   "execution_count": 2,
   "metadata": {
    "collapsed": false
   },
   "outputs": [
    {
     "ename": "SyntaxError",
     "evalue": "invalid syntax (<ipython-input-2-6a83261dba46>, line 2)",
     "output_type": "error",
     "traceback": [
      "\u001b[0;36m  File \u001b[0;32m\"<ipython-input-2-6a83261dba46>\"\u001b[0;36m, line \u001b[0;32m2\u001b[0m\n\u001b[0;31m    Oxford CS - Deep NLP 2017<br>\u001b[0m\n\u001b[0m            ^\u001b[0m\n\u001b[0;31mSyntaxError\u001b[0m\u001b[0;31m:\u001b[0m invalid syntax\n"
     ]
    }
   ],
   "source": [
    "## Practical 1: word2vec\n",
    "Oxford CS - Deep NLP 2017<br>\n",
    "https://www.cs.ox.ac.uk/teaching/courses/2016-2017/dl/"
   ]
  },
  {
   "cell_type": "markdown",
   "metadata": {},
   "source": [
    "This practical is presented as an IPython Notebook, with the code written for recent versions of **Python 3**. The code in this practical will not work with Python 2 unless you modify it. If you are using your own Python installation, ensure you have a setup identical to that described in the installation shell script (which is intended for use with the department lab machines). We will be unable to support installation on personal machines due to time constraints, so please use the lab machines and the setup script if you are unfamiliar with how to install Anaconda.\n",
    "\n",
    "To execute a notebook cell, press `shift-enter`. The return value of the last command will be displayed, if it is not `None`.\n",
    "\n",
    "Potentially useful library documentation, references, and resources:\n",
    "\n",
    "* IPython notebooks: <https://ipython.org/ipython-doc/3/notebook/notebook.html#introduction>\n",
    "* Numpy numerical array library: <https://docs.scipy.org/doc/>\n",
    "* Gensim's word2vec: <https://radimrehurek.com/gensim/models/word2vec.html>\n",
    "* Bokeh interactive plots: <http://bokeh.pydata.org/en/latest/> (we provide plotting code here, but click the thumbnails for more examples to copy-paste)\n",
    "* scikit-learn ML library (aka `sklearn`): <http://scikit-learn.org/stable/documentation.html>\n",
    "* nltk NLP toolkit: <http://www.nltk.org/>\n",
    "* tutorial for processing xml in python using `lxml`: <http://lxml.de/tutorial.html> (we did this for you below, but in case you need it in the future)"
   ]
  },
  {
   "cell_type": "code",
   "execution_count": 1,
   "metadata": {
    "collapsed": false
   },
   "outputs": [],
   "source": [
    "import numpy as np\n",
    "import os\n",
    "from random import shuffle\n",
    "import re\n",
    "from collections import Counter\n",
    "import sklearn as sk"
   ]
  },
  {
   "cell_type": "code",
   "execution_count": 3,
   "metadata": {
    "collapsed": false
   },
   "outputs": [
    {
     "data": {
      "text/html": [
       "\n",
       "    <div class=\"bk-root\">\n",
       "        <a href=\"http://bokeh.pydata.org\" target=\"_blank\" class=\"bk-logo bk-logo-small bk-logo-notebook\"></a>\n",
       "        <span id=\"d532203a-44f4-4e3a-a0f9-d024d496ae0f\">Loading BokehJS ...</span>\n",
       "    </div>"
      ]
     },
     "metadata": {},
     "output_type": "display_data"
    },
    {
     "data": {
      "application/javascript": [
       "\n",
       "(function(global) {\n",
       "  function now() {\n",
       "    return new Date();\n",
       "  }\n",
       "\n",
       "  var force = \"1\";\n",
       "\n",
       "  if (typeof (window._bokeh_onload_callbacks) === \"undefined\" || force !== \"\") {\n",
       "    window._bokeh_onload_callbacks = [];\n",
       "    window._bokeh_is_loading = undefined;\n",
       "  }\n",
       "\n",
       "\n",
       "  \n",
       "  if (typeof (window._bokeh_timeout) === \"undefined\" || force !== \"\") {\n",
       "    window._bokeh_timeout = Date.now() + 5000;\n",
       "    window._bokeh_failed_load = false;\n",
       "  }\n",
       "\n",
       "  var NB_LOAD_WARNING = {'data': {'text/html':\n",
       "     \"<div style='background-color: #fdd'>\\n\"+\n",
       "     \"<p>\\n\"+\n",
       "     \"BokehJS does not appear to have successfully loaded. If loading BokehJS from CDN, this \\n\"+\n",
       "     \"may be due to a slow or bad network connection. Possible fixes:\\n\"+\n",
       "     \"</p>\\n\"+\n",
       "     \"<ul>\\n\"+\n",
       "     \"<li>re-rerun `output_notebook()` to attempt to load from CDN again, or</li>\\n\"+\n",
       "     \"<li>use INLINE resources instead, as so:</li>\\n\"+\n",
       "     \"</ul>\\n\"+\n",
       "     \"<code>\\n\"+\n",
       "     \"from bokeh.resources import INLINE\\n\"+\n",
       "     \"output_notebook(resources=INLINE)\\n\"+\n",
       "     \"</code>\\n\"+\n",
       "     \"</div>\"}};\n",
       "\n",
       "  function display_loaded() {\n",
       "    if (window.Bokeh !== undefined) {\n",
       "      Bokeh.$(\"#d532203a-44f4-4e3a-a0f9-d024d496ae0f\").text(\"BokehJS successfully loaded.\");\n",
       "    } else if (Date.now() < window._bokeh_timeout) {\n",
       "      setTimeout(display_loaded, 100)\n",
       "    }\n",
       "  }\n",
       "\n",
       "  function run_callbacks() {\n",
       "    window._bokeh_onload_callbacks.forEach(function(callback) { callback() });\n",
       "    delete window._bokeh_onload_callbacks\n",
       "    console.info(\"Bokeh: all callbacks have finished\");\n",
       "  }\n",
       "\n",
       "  function load_libs(js_urls, callback) {\n",
       "    window._bokeh_onload_callbacks.push(callback);\n",
       "    if (window._bokeh_is_loading > 0) {\n",
       "      console.log(\"Bokeh: BokehJS is being loaded, scheduling callback at\", now());\n",
       "      return null;\n",
       "    }\n",
       "    if (js_urls == null || js_urls.length === 0) {\n",
       "      run_callbacks();\n",
       "      return null;\n",
       "    }\n",
       "    console.log(\"Bokeh: BokehJS not loaded, scheduling load and callback at\", now());\n",
       "    window._bokeh_is_loading = js_urls.length;\n",
       "    for (var i = 0; i < js_urls.length; i++) {\n",
       "      var url = js_urls[i];\n",
       "      var s = document.createElement('script');\n",
       "      s.src = url;\n",
       "      s.async = false;\n",
       "      s.onreadystatechange = s.onload = function() {\n",
       "        window._bokeh_is_loading--;\n",
       "        if (window._bokeh_is_loading === 0) {\n",
       "          console.log(\"Bokeh: all BokehJS libraries loaded\");\n",
       "          run_callbacks()\n",
       "        }\n",
       "      };\n",
       "      s.onerror = function() {\n",
       "        console.warn(\"failed to load library \" + url);\n",
       "      };\n",
       "      console.log(\"Bokeh: injecting script tag for BokehJS library: \", url);\n",
       "      document.getElementsByTagName(\"head\")[0].appendChild(s);\n",
       "    }\n",
       "  };var element = document.getElementById(\"d532203a-44f4-4e3a-a0f9-d024d496ae0f\");\n",
       "  if (element == null) {\n",
       "    console.log(\"Bokeh: ERROR: autoload.js configured with elementid 'd532203a-44f4-4e3a-a0f9-d024d496ae0f' but no matching script tag was found. \")\n",
       "    return false;\n",
       "  }\n",
       "\n",
       "  var js_urls = ['https://cdn.pydata.org/bokeh/release/bokeh-0.12.2.min.js', 'https://cdn.pydata.org/bokeh/release/bokeh-widgets-0.12.2.min.js', 'https://cdn.pydata.org/bokeh/release/bokeh-compiler-0.12.2.min.js'];\n",
       "\n",
       "  var inline_js = [\n",
       "    function(Bokeh) {\n",
       "      Bokeh.set_log_level(\"info\");\n",
       "    },\n",
       "    \n",
       "    function(Bokeh) {\n",
       "      \n",
       "      Bokeh.$(\"#d532203a-44f4-4e3a-a0f9-d024d496ae0f\").text(\"BokehJS is loading...\");\n",
       "    },\n",
       "    function(Bokeh) {\n",
       "      console.log(\"Bokeh: injecting CSS: https://cdn.pydata.org/bokeh/release/bokeh-0.12.2.min.css\");\n",
       "      Bokeh.embed.inject_css(\"https://cdn.pydata.org/bokeh/release/bokeh-0.12.2.min.css\");\n",
       "      console.log(\"Bokeh: injecting CSS: https://cdn.pydata.org/bokeh/release/bokeh-widgets-0.12.2.min.css\");\n",
       "      Bokeh.embed.inject_css(\"https://cdn.pydata.org/bokeh/release/bokeh-widgets-0.12.2.min.css\");\n",
       "    }\n",
       "  ];\n",
       "\n",
       "  function run_inline_js() {\n",
       "    \n",
       "    if ((window.Bokeh !== undefined) || (force === \"1\")) {\n",
       "      for (var i = 0; i < inline_js.length; i++) {\n",
       "        inline_js[i](window.Bokeh);\n",
       "      }if (force === \"1\") {\n",
       "        display_loaded();\n",
       "      }} else if (Date.now() < window._bokeh_timeout) {\n",
       "      setTimeout(run_inline_js, 100);\n",
       "    } else if (!window._bokeh_failed_load) {\n",
       "      console.log(\"Bokeh: BokehJS failed to load within specified timeout.\");\n",
       "      window._bokeh_failed_load = true;\n",
       "    } else if (!force) {\n",
       "      var cell = $(\"#d532203a-44f4-4e3a-a0f9-d024d496ae0f\").parents('.cell').data().cell;\n",
       "      cell.output_area.append_execute_result(NB_LOAD_WARNING)\n",
       "    }\n",
       "\n",
       "  }\n",
       "\n",
       "  if (window._bokeh_is_loading === 0) {\n",
       "    console.log(\"Bokeh: BokehJS loaded, going straight to plotting\");\n",
       "    run_inline_js();\n",
       "  } else {\n",
       "    load_libs(js_urls, function() {\n",
       "      console.log(\"Bokeh: BokehJS plotting callback run at\", now());\n",
       "      run_inline_js();\n",
       "    });\n",
       "  }\n",
       "}(this));"
      ]
     },
     "metadata": {},
     "output_type": "display_data"
    }
   ],
   "source": [
    "from bokeh.models import ColumnDataSource, LabelSet\n",
    "from bokeh.plotting import figure, show, output_file\n",
    "from bokeh.io import output_notebook\n",
    "output_notebook()"
   ]
  },
  {
   "cell_type": "markdown",
   "metadata": {},
   "source": [
    "### Part 0: Download the TED dataset"
   ]
  },
  {
   "cell_type": "code",
   "execution_count": 5,
   "metadata": {
    "collapsed": false
   },
   "outputs": [],
   "source": [
    "import urllib.request\n",
    "import zipfile\n",
    "import lxml.etree"
   ]
  },
  {
   "cell_type": "code",
   "execution_count": 6,
   "metadata": {
    "collapsed": false
   },
   "outputs": [],
   "source": [
    "# Download the dataset if it's not already there: this may take a minute as it is 75MB\n",
    "if not os.path.isfile('ted_en-20160408.zip'):\n",
    "    urllib.request.urlretrieve(\"https://wit3.fbk.eu/get.php?path=XML_releases/xml/ted_en-20160408.zip&filename=ted_en-20160408.zip\", filename=\"ted_en-20160408.zip\")"
   ]
  },
  {
   "cell_type": "code",
   "execution_count": 52,
   "metadata": {
    "collapsed": false
   },
   "outputs": [],
   "source": [
    "# For now, we're only interested in the subtitle text, so let's extract that from the XML:\n",
    "with zipfile.ZipFile('ted_en-20160408.zip', 'r') as z:\n",
    "    doc = lxml.etree.parse(z.open('ted_en-20160408.xml', 'r'))\n",
    "input_text = '\\n'.join(doc.xpath('//content/text()'))\n",
    "del doc"
   ]
  },
  {
   "cell_type": "code",
   "execution_count": 53,
   "metadata": {
    "collapsed": false
   },
   "outputs": [
    {
     "data": {
      "text/plain": [
       "1"
      ]
     },
     "execution_count": 53,
     "metadata": {},
     "output_type": "execute_result"
    }
   ],
   "source": [
    "np.size(input_text)"
   ]
  },
  {
   "cell_type": "markdown",
   "metadata": {},
   "source": [
    "### Part 1: Preprocessing\n",
    "\n",
    "In this part, we attempt to clean up the raw subtitles a bit, so that we get only sentences. The following substring shows examples of what we're trying to get rid of. Since it's hard to define precisely what we want to get rid of, we'll just use some simple heuristics."
   ]
  },
  {
   "cell_type": "code",
   "execution_count": 8,
   "metadata": {
    "collapsed": false,
    "scrolled": false
   },
   "outputs": [
    {
     "data": {
      "text/plain": [
       "' baby does.\\n(Video) Hyowon Gweon: See this? (Ball squeaks) Did you see that? (Ball squeaks) Cool. See this one? (Ball squeaks) Wow.\\nLaura Schulz: Told you. (Laughs)\\n(Vide'"
      ]
     },
     "execution_count": 8,
     "metadata": {},
     "output_type": "execute_result"
    }
   ],
   "source": [
    "i = input_text.find(\"Hyowon Gweon: See this?\")\n",
    "input_text[i-20:i+150]"
   ]
  },
  {
   "cell_type": "markdown",
   "metadata": {},
   "source": [
    "Let's start by removing all parenthesized strings using a regex:"
   ]
  },
  {
   "cell_type": "code",
   "execution_count": 9,
   "metadata": {
    "collapsed": true
   },
   "outputs": [],
   "source": [
    "input_text_noparens = re.sub(r'\\([^)]*\\)', '', input_text)"
   ]
  },
  {
   "cell_type": "markdown",
   "metadata": {},
   "source": [
    "We can verify the same location in the text is now clean as follows. We won't worry about the irregular spaces since we'll later split the text into sentences and tokenize it anyway."
   ]
  },
  {
   "cell_type": "code",
   "execution_count": 10,
   "metadata": {
    "collapsed": false
   },
   "outputs": [
    {
     "data": {
      "text/plain": [
       "\"hat the baby does.\\n Hyowon Gweon: See this?  Did you see that?  Cool. See this one?  Wow.\\nLaura Schulz: Told you. \\n HG: See this one?  Hey Clara, this one's for you. You \""
      ]
     },
     "execution_count": 10,
     "metadata": {},
     "output_type": "execute_result"
    }
   ],
   "source": [
    "i = input_text_noparens.find(\"Hyowon Gweon: See this?\")\n",
    "input_text_noparens[i-20:i+150]"
   ]
  },
  {
   "cell_type": "markdown",
   "metadata": {},
   "source": [
    "Now, let's attempt to remove speakers' names that occur at the beginning of a line, by deleting pieces of the form \"`<up to 20 characters>:`\", as shown in this example. Of course, this is an imperfect heuristic. "
   ]
  },
  {
   "cell_type": "code",
   "execution_count": 11,
   "metadata": {
    "collapsed": false
   },
   "outputs": [
    {
     "data": {
      "text/plain": [
       "[\"Here are two reasons companies fail: they only do more of the same, or they only do what's new\",\n",
       " 'To me the real, real solution to quality growth is figuring out the balance between two activities: exploration and exploitation',\n",
       " ' Both are necessary, but it can be too much of a good thing',\n",
       " 'Consider Facit',\n",
       " \" I'm actually old enough to remember them\"]"
      ]
     },
     "execution_count": 11,
     "metadata": {},
     "output_type": "execute_result"
    }
   ],
   "source": [
    "sentences_strings_ted = []\n",
    "for line in input_text_noparens.split('\\n'):\n",
    "    m = re.match(r'^(?:(?P<precolon>[^:]{,20}):)?(?P<postcolon>.*)$', line)\n",
    "    sentences_strings_ted.extend(sent for sent in m.groupdict()['postcolon'].split('.') if sent)\n",
    "\n",
    "# Uncomment if you need to save some RAM: these strings are about 50MB.\n",
    "# del input_text, input_text_noparens\n",
    "\n",
    "# Let's view the first few:\n",
    "sentences_strings_ted[:5]"
   ]
  },
  {
   "cell_type": "markdown",
   "metadata": {},
   "source": [
    "Now that we have sentences, we're ready to tokenize each of them into words. This tokenization is imperfect, of course. For instance, how many tokens is \"can't\", and where/how do we split it? We'll take the simplest naive approach of splitting on spaces. Before splitting, we remove non-alphanumeric characters, such as punctuation. You may want to consider the following question: why do we replace these characters with spaces rather than deleting them? Think of a case where this yields a different answer."
   ]
  },
  {
   "cell_type": "code",
   "execution_count": 12,
   "metadata": {
    "collapsed": false
   },
   "outputs": [],
   "source": [
    "sentences_ted = []\n",
    "for sent_str in sentences_strings_ted:\n",
    "    tokens = re.sub(r\"[^a-z0-9]+\", \" \", sent_str.lower()).split()\n",
    "    sentences_ted.append(tokens)"
   ]
  },
  {
   "cell_type": "markdown",
   "metadata": {},
   "source": [
    "Two sample processed sentences:"
   ]
  },
  {
   "cell_type": "code",
   "execution_count": 13,
   "metadata": {
    "collapsed": false
   },
   "outputs": [
    {
     "data": {
      "text/plain": [
       "266694"
      ]
     },
     "execution_count": 13,
     "metadata": {},
     "output_type": "execute_result"
    }
   ],
   "source": [
    "len(sentences_ted)"
   ]
  },
  {
   "cell_type": "code",
   "execution_count": 14,
   "metadata": {
    "collapsed": false
   },
   "outputs": [
    {
     "name": "stdout",
     "output_type": "stream",
     "text": [
      "['here', 'are', 'two', 'reasons', 'companies', 'fail', 'they', 'only', 'do', 'more', 'of', 'the', 'same', 'or', 'they', 'only', 'do', 'what', 's', 'new']\n",
      "['to', 'me', 'the', 'real', 'real', 'solution', 'to', 'quality', 'growth', 'is', 'figuring', 'out', 'the', 'balance', 'between', 'two', 'activities', 'exploration', 'and', 'exploitation']\n"
     ]
    }
   ],
   "source": [
    "print(sentences_ted[0])\n",
    "print(sentences_ted[1])"
   ]
  },
  {
   "cell_type": "markdown",
   "metadata": {},
   "source": [
    "### Part 2: Word Frequencies"
   ]
  },
  {
   "cell_type": "markdown",
   "metadata": {},
   "source": [
    "If you store the counts of the top 1000 words in a list called `counts_ted_top1000`, the code below will plot the histogram requested in the writeup."
   ]
  },
  {
   "cell_type": "code",
   "execution_count": 15,
   "metadata": {
    "collapsed": false,
    "scrolled": true
   },
   "outputs": [],
   "source": [
    "WC = {}\n",
    "\n",
    "l = len(sentences_ted)\n",
    "\n",
    "for i in range(l):\n",
    "    sl = len(sentences_ted[i])\n",
    "    for j in range(sl):\n",
    "        if sentences_ted[i][j] in WC:\n",
    "            WC[sentences_ted[i][j]] += 1\n",
    "        else:\n",
    "            WC[sentences_ted[i][j]] = 1       "
   ]
  },
  {
   "cell_type": "code",
   "execution_count": 16,
   "metadata": {
    "collapsed": false
   },
   "outputs": [],
   "source": [
    "d = Counter(WC).most_common(1000)\n",
    "\n",
    "counts_ted_top1000 = [None] * len(d)\n",
    "for i in range(len(d)):\n",
    "    counts_ted_top1000[i] = d[i][1]"
   ]
  },
  {
   "cell_type": "markdown",
   "metadata": {},
   "source": [
    "Plot distribution of top-1000 words"
   ]
  },
  {
   "cell_type": "code",
   "execution_count": 17,
   "metadata": {
    "collapsed": false,
    "scrolled": false
   },
   "outputs": [
    {
     "data": {
      "text/html": [
       "\n",
       "\n",
       "    <div class=\"bk-root\">\n",
       "        <div class=\"plotdiv\" id=\"7db644aa-c689-4a6a-846a-ebf4a4d74f87\"></div>\n",
       "    </div>\n",
       "<script type=\"text/javascript\">\n",
       "  \n",
       "  (function(global) {\n",
       "    function now() {\n",
       "      return new Date();\n",
       "    }\n",
       "  \n",
       "    var force = \"\";\n",
       "  \n",
       "    if (typeof (window._bokeh_onload_callbacks) === \"undefined\" || force !== \"\") {\n",
       "      window._bokeh_onload_callbacks = [];\n",
       "      window._bokeh_is_loading = undefined;\n",
       "    }\n",
       "  \n",
       "  \n",
       "    \n",
       "    if (typeof (window._bokeh_timeout) === \"undefined\" || force !== \"\") {\n",
       "      window._bokeh_timeout = Date.now() + 0;\n",
       "      window._bokeh_failed_load = false;\n",
       "    }\n",
       "  \n",
       "    var NB_LOAD_WARNING = {'data': {'text/html':\n",
       "       \"<div style='background-color: #fdd'>\\n\"+\n",
       "       \"<p>\\n\"+\n",
       "       \"BokehJS does not appear to have successfully loaded. If loading BokehJS from CDN, this \\n\"+\n",
       "       \"may be due to a slow or bad network connection. Possible fixes:\\n\"+\n",
       "       \"</p>\\n\"+\n",
       "       \"<ul>\\n\"+\n",
       "       \"<li>re-rerun `output_notebook()` to attempt to load from CDN again, or</li>\\n\"+\n",
       "       \"<li>use INLINE resources instead, as so:</li>\\n\"+\n",
       "       \"</ul>\\n\"+\n",
       "       \"<code>\\n\"+\n",
       "       \"from bokeh.resources import INLINE\\n\"+\n",
       "       \"output_notebook(resources=INLINE)\\n\"+\n",
       "       \"</code>\\n\"+\n",
       "       \"</div>\"}};\n",
       "  \n",
       "    function display_loaded() {\n",
       "      if (window.Bokeh !== undefined) {\n",
       "        Bokeh.$(\"#7db644aa-c689-4a6a-846a-ebf4a4d74f87\").text(\"BokehJS successfully loaded.\");\n",
       "      } else if (Date.now() < window._bokeh_timeout) {\n",
       "        setTimeout(display_loaded, 100)\n",
       "      }\n",
       "    }\n",
       "  \n",
       "    function run_callbacks() {\n",
       "      window._bokeh_onload_callbacks.forEach(function(callback) { callback() });\n",
       "      delete window._bokeh_onload_callbacks\n",
       "      console.info(\"Bokeh: all callbacks have finished\");\n",
       "    }\n",
       "  \n",
       "    function load_libs(js_urls, callback) {\n",
       "      window._bokeh_onload_callbacks.push(callback);\n",
       "      if (window._bokeh_is_loading > 0) {\n",
       "        console.log(\"Bokeh: BokehJS is being loaded, scheduling callback at\", now());\n",
       "        return null;\n",
       "      }\n",
       "      if (js_urls == null || js_urls.length === 0) {\n",
       "        run_callbacks();\n",
       "        return null;\n",
       "      }\n",
       "      console.log(\"Bokeh: BokehJS not loaded, scheduling load and callback at\", now());\n",
       "      window._bokeh_is_loading = js_urls.length;\n",
       "      for (var i = 0; i < js_urls.length; i++) {\n",
       "        var url = js_urls[i];\n",
       "        var s = document.createElement('script');\n",
       "        s.src = url;\n",
       "        s.async = false;\n",
       "        s.onreadystatechange = s.onload = function() {\n",
       "          window._bokeh_is_loading--;\n",
       "          if (window._bokeh_is_loading === 0) {\n",
       "            console.log(\"Bokeh: all BokehJS libraries loaded\");\n",
       "            run_callbacks()\n",
       "          }\n",
       "        };\n",
       "        s.onerror = function() {\n",
       "          console.warn(\"failed to load library \" + url);\n",
       "        };\n",
       "        console.log(\"Bokeh: injecting script tag for BokehJS library: \", url);\n",
       "        document.getElementsByTagName(\"head\")[0].appendChild(s);\n",
       "      }\n",
       "    };var element = document.getElementById(\"7db644aa-c689-4a6a-846a-ebf4a4d74f87\");\n",
       "    if (element == null) {\n",
       "      console.log(\"Bokeh: ERROR: autoload.js configured with elementid '7db644aa-c689-4a6a-846a-ebf4a4d74f87' but no matching script tag was found. \")\n",
       "      return false;\n",
       "    }\n",
       "  \n",
       "    var js_urls = [];\n",
       "  \n",
       "    var inline_js = [\n",
       "      function(Bokeh) {\n",
       "        Bokeh.$(function() {\n",
       "            var docs_json = {\"ed860327-c4f5-4edb-b3cb-30b1ca1348c6\":{\"roots\":{\"references\":[{\"attributes\":{\"plot\":{\"id\":\"a12bb045-2781-4298-a352-05c72aa01d0c\",\"subtype\":\"Figure\",\"type\":\"Plot\"}},\"id\":\"510a3191-7133-4c53-8d64-248742539b4d\",\"type\":\"SaveTool\"},{\"attributes\":{},\"id\":\"ec41e87b-e571-4306-b2c1-07596f2a0942\",\"type\":\"BasicTicker\"},{\"attributes\":{\"plot\":null,\"text\":\"Top-1000 words distribution\"},\"id\":\"732e77e3-bebb-4f90-80e5-345e5b7101a8\",\"type\":\"Title\"},{\"attributes\":{\"bottom\":{\"value\":0},\"fill_alpha\":{\"value\":0.1},\"fill_color\":{\"value\":\"#1f77b4\"},\"left\":{\"field\":\"left\"},\"line_alpha\":{\"value\":0.1},\"line_color\":{\"value\":\"#1f77b4\"},\"right\":{\"field\":\"right\"},\"top\":{\"field\":\"top\"}},\"id\":\"59e7b47b-469f-4001-a9dd-5a963402b50c\",\"type\":\"Quad\"},{\"attributes\":{\"plot\":{\"id\":\"a12bb045-2781-4298-a352-05c72aa01d0c\",\"subtype\":\"Figure\",\"type\":\"Plot\"}},\"id\":\"7bedb436-8938-4244-9481-89f73cd89632\",\"type\":\"ResetTool\"},{\"attributes\":{\"plot\":{\"id\":\"a12bb045-2781-4298-a352-05c72aa01d0c\",\"subtype\":\"Figure\",\"type\":\"Plot\"},\"ticker\":{\"id\":\"ec41e87b-e571-4306-b2c1-07596f2a0942\",\"type\":\"BasicTicker\"}},\"id\":\"ffd9d303-ae98-4b74-b6bf-76ca02a2049c\",\"type\":\"Grid\"},{\"attributes\":{\"data_source\":{\"id\":\"1b409561-8868-4d96-a4cb-d94555469711\",\"type\":\"ColumnDataSource\"},\"glyph\":{\"id\":\"466f2e0a-da3a-4ab2-9420-edeb776f0d70\",\"type\":\"Quad\"},\"hover_glyph\":null,\"nonselection_glyph\":{\"id\":\"59e7b47b-469f-4001-a9dd-5a963402b50c\",\"type\":\"Quad\"},\"selection_glyph\":null},\"id\":\"dc41342f-a9eb-47bf-9307-d5bf9945106a\",\"type\":\"GlyphRenderer\"},{\"attributes\":{\"formatter\":{\"id\":\"828f39f6-4e82-4db1-8f09-1101c9d62b67\",\"type\":\"BasicTickFormatter\"},\"plot\":{\"id\":\"a12bb045-2781-4298-a352-05c72aa01d0c\",\"subtype\":\"Figure\",\"type\":\"Plot\"},\"ticker\":{\"id\":\"6f6b7451-39ca-414f-8b10-2616ad941e95\",\"type\":\"BasicTicker\"}},\"id\":\"dee552be-a82f-4680-8b3e-1ddc940ae22d\",\"type\":\"LinearAxis\"},{\"attributes\":{\"callback\":null},\"id\":\"a0de20c8-f26c-4115-9145-f853ac53a1e0\",\"type\":\"DataRange1d\"},{\"attributes\":{\"callback\":null},\"id\":\"64648d1e-ce26-4c40-8bd8-b518319b5530\",\"type\":\"DataRange1d\"},{\"attributes\":{},\"id\":\"4d653c3f-9fd9-44df-98a6-3e283d613f2f\",\"type\":\"ToolEvents\"},{\"attributes\":{\"dimension\":1,\"plot\":{\"id\":\"a12bb045-2781-4298-a352-05c72aa01d0c\",\"subtype\":\"Figure\",\"type\":\"Plot\"},\"ticker\":{\"id\":\"6f6b7451-39ca-414f-8b10-2616ad941e95\",\"type\":\"BasicTicker\"}},\"id\":\"0037a99d-e9ba-49db-a1ff-94dcecae6f56\",\"type\":\"Grid\"},{\"attributes\":{\"active_drag\":\"auto\",\"active_scroll\":\"auto\",\"active_tap\":\"auto\",\"tools\":[{\"id\":\"5d61947d-dd18-47e1-8cd1-f223c0b6965a\",\"type\":\"PanTool\"},{\"id\":\"4c01cfba-d302-47ea-a814-deec5350a961\",\"type\":\"WheelZoomTool\"},{\"id\":\"7bedb436-8938-4244-9481-89f73cd89632\",\"type\":\"ResetTool\"},{\"id\":\"510a3191-7133-4c53-8d64-248742539b4d\",\"type\":\"SaveTool\"}]},\"id\":\"e9777478-cbe6-4f73-95a1-57bf4cfaa4cf\",\"type\":\"Toolbar\"},{\"attributes\":{},\"id\":\"828f39f6-4e82-4db1-8f09-1101c9d62b67\",\"type\":\"BasicTickFormatter\"},{\"attributes\":{\"plot\":{\"id\":\"a12bb045-2781-4298-a352-05c72aa01d0c\",\"subtype\":\"Figure\",\"type\":\"Plot\"}},\"id\":\"5d61947d-dd18-47e1-8cd1-f223c0b6965a\",\"type\":\"PanTool\"},{\"attributes\":{},\"id\":\"867bdd9d-94fc-4331-a5ed-a128bcb51273\",\"type\":\"BasicTickFormatter\"},{\"attributes\":{\"callback\":null,\"column_names\":[\"top\",\"left\",\"right\"],\"data\":{\"left\":[404.0,2477.44,4550.88,6624.32,8697.76,10771.2,12844.64,14918.08,16991.52,19064.96,21138.4,23211.84,25285.28,27358.72,29432.16,31505.600000000002,33579.04,35652.48,37725.92,39799.36,41872.8,43946.24,46019.68,48093.12,50166.56,52240.0,54313.44,56386.880000000005,58460.32,60533.76,62607.200000000004,64680.64,66754.08,68827.52,70900.96,72974.40000000001,75047.84,77121.28,79194.72,81268.16,83341.6,85415.04000000001,87488.48,89561.92,91635.36,93708.8,95782.24,97855.68000000001,99929.12,102002.56,104076.0,106149.44,108222.88,110296.32,112369.76000000001,114443.2,116516.64,118590.08,120663.52,122736.96,124810.40000000001,126883.84,128957.28,131030.72,133104.16,135177.6,137251.04,139324.48,141397.92,143471.36000000002,145544.80000000002,147618.24,149691.68,151765.12,153838.56,155912.0,157985.44,160058.88,162132.32,164205.76,166279.2,168352.64,170426.08000000002,172499.52000000002,174572.96,176646.4,178719.84,180793.28,182866.72,184940.16,187013.6,189087.04,191160.48,193233.92,195307.36000000002,197380.80000000002,199454.24,201527.68,203601.12,205674.56],\"right\":[2477.44,4550.88,6624.32,8697.76,10771.2,12844.64,14918.08,16991.52,19064.96,21138.4,23211.84,25285.28,27358.72,29432.16,31505.600000000002,33579.04,35652.48,37725.92,39799.36,41872.8,43946.24,46019.68,48093.12,50166.56,52240.0,54313.44,56386.880000000005,58460.32,60533.76,62607.200000000004,64680.64,66754.08,68827.52,70900.96,72974.40000000001,75047.84,77121.28,79194.72,81268.16,83341.6,85415.04000000001,87488.48,89561.92,91635.36,93708.8,95782.24,97855.68000000001,99929.12,102002.56,104076.0,106149.44,108222.88,110296.32,112369.76000000001,114443.2,116516.64,118590.08,120663.52,122736.96,124810.40000000001,126883.84,128957.28,131030.72,133104.16,135177.6,137251.04,139324.48,141397.92,143471.36000000002,145544.80000000002,147618.24,149691.68,151765.12,153838.56,155912.0,157985.44,160058.88,162132.32,164205.76,166279.2,168352.64,170426.08000000002,172499.52000000002,174572.96,176646.4,178719.84,180793.28,182866.72,184940.16,187013.6,189087.04,191160.48,193233.92,195307.36000000002,197380.80000000002,199454.24,201527.68,203601.12,205674.56,207748.0],\"top\":[0.0003892082722432286,3.327803071224632e-05,1.3504128404969522e-05,8.681225403194689e-06,8.198935103017207e-06,5.305193301952315e-06,4.340612701597344e-06,1.929161200709931e-06,2.893741801064899e-06,1.929161200709929e-06,9.645806003549663e-07,9.645806003549663e-07,1.929161200709929e-06,4.822903001774831e-07,9.645806003549646e-07,4.822903001774831e-07,0.0,4.82290300177484e-07,0.0,0.0,0.0,0.0,0.0,4.82290300177484e-07,0.0,0.0,0.0,4.82290300177484e-07,0.0,0.0,4.82290300177484e-07,0.0,4.822903001774823e-07,0.0,4.822903001774823e-07,4.822903001774857e-07,0.0,4.822903001774823e-07,0.0,4.822903001774823e-07,0.0,0.0,0.0,0.0,0.0,4.822903001774823e-07,0.0,0.0,0.0,0.0,4.822903001774823e-07,0.0,0.0,0.0,0.0,4.822903001774823e-07,0.0,0.0,0.0,0.0,4.822903001774857e-07,0.0,0.0,0.0,0.0,0.0,0.0,0.0,0.0,0.0,0.0,4.822903001774823e-07,0.0,0.0,0.0,0.0,0.0,0.0,0.0,0.0,0.0,0.0,0.0,0.0,0.0,0.0,0.0,0.0,0.0,0.0,0.0,0.0,0.0,0.0,0.0,0.0,0.0,0.0,0.0,4.822903001774823e-07]}},\"id\":\"1b409561-8868-4d96-a4cb-d94555469711\",\"type\":\"ColumnDataSource\"},{\"attributes\":{},\"id\":\"6f6b7451-39ca-414f-8b10-2616ad941e95\",\"type\":\"BasicTicker\"},{\"attributes\":{\"bottom\":{\"value\":0},\"fill_color\":{\"value\":\"#1f77b4\"},\"left\":{\"field\":\"left\"},\"line_color\":{\"value\":\"#555555\"},\"right\":{\"field\":\"right\"},\"top\":{\"field\":\"top\"}},\"id\":\"466f2e0a-da3a-4ab2-9420-edeb776f0d70\",\"type\":\"Quad\"},{\"attributes\":{\"plot\":{\"id\":\"a12bb045-2781-4298-a352-05c72aa01d0c\",\"subtype\":\"Figure\",\"type\":\"Plot\"}},\"id\":\"4c01cfba-d302-47ea-a814-deec5350a961\",\"type\":\"WheelZoomTool\"},{\"attributes\":{\"formatter\":{\"id\":\"867bdd9d-94fc-4331-a5ed-a128bcb51273\",\"type\":\"BasicTickFormatter\"},\"plot\":{\"id\":\"a12bb045-2781-4298-a352-05c72aa01d0c\",\"subtype\":\"Figure\",\"type\":\"Plot\"},\"ticker\":{\"id\":\"ec41e87b-e571-4306-b2c1-07596f2a0942\",\"type\":\"BasicTicker\"}},\"id\":\"f016f349-a191-4fe5-beba-dceb69ff97a1\",\"type\":\"LinearAxis\"},{\"attributes\":{\"below\":[{\"id\":\"f016f349-a191-4fe5-beba-dceb69ff97a1\",\"type\":\"LinearAxis\"}],\"left\":[{\"id\":\"dee552be-a82f-4680-8b3e-1ddc940ae22d\",\"type\":\"LinearAxis\"}],\"renderers\":[{\"id\":\"f016f349-a191-4fe5-beba-dceb69ff97a1\",\"type\":\"LinearAxis\"},{\"id\":\"ffd9d303-ae98-4b74-b6bf-76ca02a2049c\",\"type\":\"Grid\"},{\"id\":\"dee552be-a82f-4680-8b3e-1ddc940ae22d\",\"type\":\"LinearAxis\"},{\"id\":\"0037a99d-e9ba-49db-a1ff-94dcecae6f56\",\"type\":\"Grid\"},{\"id\":\"dc41342f-a9eb-47bf-9307-d5bf9945106a\",\"type\":\"GlyphRenderer\"}],\"title\":{\"id\":\"732e77e3-bebb-4f90-80e5-345e5b7101a8\",\"type\":\"Title\"},\"tool_events\":{\"id\":\"4d653c3f-9fd9-44df-98a6-3e283d613f2f\",\"type\":\"ToolEvents\"},\"toolbar\":{\"id\":\"e9777478-cbe6-4f73-95a1-57bf4cfaa4cf\",\"type\":\"Toolbar\"},\"toolbar_location\":\"above\",\"x_range\":{\"id\":\"a0de20c8-f26c-4115-9145-f853ac53a1e0\",\"type\":\"DataRange1d\"},\"y_range\":{\"id\":\"64648d1e-ce26-4c40-8bd8-b518319b5530\",\"type\":\"DataRange1d\"}},\"id\":\"a12bb045-2781-4298-a352-05c72aa01d0c\",\"subtype\":\"Figure\",\"type\":\"Plot\"}],\"root_ids\":[\"a12bb045-2781-4298-a352-05c72aa01d0c\"]},\"title\":\"Bokeh Application\",\"version\":\"0.12.2\"}};\n",
       "            var render_items = [{\"docid\":\"ed860327-c4f5-4edb-b3cb-30b1ca1348c6\",\"elementid\":\"7db644aa-c689-4a6a-846a-ebf4a4d74f87\",\"modelid\":\"a12bb045-2781-4298-a352-05c72aa01d0c\"}];\n",
       "            \n",
       "            Bokeh.embed.embed_items(docs_json, render_items);\n",
       "        });\n",
       "      },\n",
       "      function(Bokeh) {\n",
       "      }\n",
       "    ];\n",
       "  \n",
       "    function run_inline_js() {\n",
       "      \n",
       "      if ((window.Bokeh !== undefined) || (force === \"1\")) {\n",
       "        for (var i = 0; i < inline_js.length; i++) {\n",
       "          inline_js[i](window.Bokeh);\n",
       "        }if (force === \"1\") {\n",
       "          display_loaded();\n",
       "        }} else if (Date.now() < window._bokeh_timeout) {\n",
       "        setTimeout(run_inline_js, 100);\n",
       "      } else if (!window._bokeh_failed_load) {\n",
       "        console.log(\"Bokeh: BokehJS failed to load within specified timeout.\");\n",
       "        window._bokeh_failed_load = true;\n",
       "      } else if (!force) {\n",
       "        var cell = $(\"#7db644aa-c689-4a6a-846a-ebf4a4d74f87\").parents('.cell').data().cell;\n",
       "        cell.output_area.append_execute_result(NB_LOAD_WARNING)\n",
       "      }\n",
       "  \n",
       "    }\n",
       "  \n",
       "    if (window._bokeh_is_loading === 0) {\n",
       "      console.log(\"Bokeh: BokehJS loaded, going straight to plotting\");\n",
       "      run_inline_js();\n",
       "    } else {\n",
       "      load_libs(js_urls, function() {\n",
       "        console.log(\"Bokeh: BokehJS plotting callback run at\", now());\n",
       "        run_inline_js();\n",
       "      });\n",
       "    }\n",
       "  }(this));\n",
       "</script>"
      ]
     },
     "metadata": {},
     "output_type": "display_data"
    }
   ],
   "source": [
    "hist, edges = np.histogram(counts_ted_top1000, density=True, bins=100, normed=True)\n",
    "\n",
    "p = figure(tools=\"pan,wheel_zoom,reset,save\",\n",
    "           toolbar_location=\"above\",\n",
    "           title=\"Top-1000 words distribution\")\n",
    "p.quad(top=hist, bottom=0, left=edges[:-1], right=edges[1:], line_color=\"#555555\")\n",
    "show(p)"
   ]
  },
  {
   "cell_type": "markdown",
   "metadata": {},
   "source": [
    "### Part 3: Train Word2Vec"
   ]
  },
  {
   "cell_type": "code",
   "execution_count": 18,
   "metadata": {
    "collapsed": false
   },
   "outputs": [],
   "source": [
    "from gensim.models import Word2Vec"
   ]
  },
  {
   "cell_type": "code",
   "execution_count": 19,
   "metadata": {
    "collapsed": false
   },
   "outputs": [],
   "source": [
    "model_ted = Word2Vec(sentences_ted, min_count=10)"
   ]
  },
  {
   "cell_type": "code",
   "execution_count": 20,
   "metadata": {
    "collapsed": false
   },
   "outputs": [
    {
     "name": "stdout",
     "output_type": "stream",
     "text": [
      "14427\n"
     ]
    }
   ],
   "source": [
    "print(len(model_ted.vocab))"
   ]
  },
  {
   "cell_type": "markdown",
   "metadata": {},
   "source": [
    "### Part 4: Ted Learnt Representations"
   ]
  },
  {
   "cell_type": "markdown",
   "metadata": {},
   "source": [
    "Finding similar words: (see gensim docs for more functionality of `most_similar`)"
   ]
  },
  {
   "cell_type": "code",
   "execution_count": 21,
   "metadata": {
    "collapsed": false
   },
   "outputs": [
    {
     "data": {
      "text/plain": [
       "[('woman', 0.8645023703575134),\n",
       " ('guy', 0.8013980388641357),\n",
       " ('lady', 0.7564507722854614),\n",
       " ('boy', 0.7517989873886108),\n",
       " ('gentleman', 0.7314210534095764),\n",
       " ('girl', 0.7280215620994568),\n",
       " ('soldier', 0.7279913425445557),\n",
       " ('surgeon', 0.6753103733062744),\n",
       " ('kid', 0.6674375534057617),\n",
       " ('poet', 0.6671075224876404)]"
      ]
     },
     "execution_count": 21,
     "metadata": {},
     "output_type": "execute_result"
    }
   ],
   "source": [
    "model_ted.most_similar(\"man\")"
   ]
  },
  {
   "cell_type": "code",
   "execution_count": 22,
   "metadata": {
    "collapsed": false
   },
   "outputs": [
    {
     "data": {
      "text/plain": [
       "[('machine', 0.7457113862037659),\n",
       " ('software', 0.7199077606201172),\n",
       " ('device', 0.714401125907898),\n",
       " ('robot', 0.708403468132019),\n",
       " ('printer', 0.6558226346969604),\n",
       " ('chip', 0.6461496949195862),\n",
       " ('camera', 0.644477367401123),\n",
       " ('program', 0.6395647525787354),\n",
       " ('3d', 0.6327172517776489),\n",
       " ('simulation', 0.6199120879173279)]"
      ]
     },
     "execution_count": 22,
     "metadata": {},
     "output_type": "execute_result"
    }
   ],
   "source": [
    "model_ted.most_similar(\"computer\")"
   ]
  },
  {
   "cell_type": "code",
   "execution_count": 23,
   "metadata": {
    "collapsed": false
   },
   "outputs": [
    {
     "data": {
      "text/plain": [
       "[('knife', 0.6820816993713379),\n",
       " ('officer', 0.6762154698371887),\n",
       " ('driver', 0.6687833666801453),\n",
       " ('horse', 0.6658897399902344),\n",
       " ('chief', 0.6610320806503296),\n",
       " ('army', 0.6607373952865601),\n",
       " ('department', 0.6471673846244812),\n",
       " ('soldier', 0.6469913125038147),\n",
       " ('owner', 0.6416589617729187),\n",
       " ('truck', 0.6412670016288757)]"
      ]
     },
     "execution_count": 23,
     "metadata": {},
     "output_type": "execute_result"
    }
   ],
   "source": [
    "model_ted.most_similar(\"gun\")"
   ]
  },
  {
   "cell_type": "code",
   "execution_count": 24,
   "metadata": {
    "collapsed": false
   },
   "outputs": [
    {
     "data": {
      "text/plain": [
       "[('islam', 0.7859427332878113),\n",
       " ('politics', 0.75954669713974),\n",
       " ('belief', 0.7326904535293579),\n",
       " ('equality', 0.7068684101104736),\n",
       " ('religious', 0.7004959583282471),\n",
       " ('culture', 0.6913602352142334),\n",
       " ('gender', 0.6836018562316895),\n",
       " ('compassion', 0.677335798740387),\n",
       " ('violence', 0.6676831245422363),\n",
       " ('status', 0.6618347764015198)]"
      ]
     },
     "execution_count": 24,
     "metadata": {},
     "output_type": "execute_result"
    }
   ],
   "source": [
    "model_ted.most_similar(\"religion\")"
   ]
  },
  {
   "cell_type": "code",
   "execution_count": 25,
   "metadata": {
    "collapsed": false
   },
   "outputs": [
    {
     "data": {
      "text/plain": [
       "[('fork', 0.6957576870918274),\n",
       " ('melody', 0.6878770589828491),\n",
       " ('dolphin', 0.6723216772079468),\n",
       " ('matt', 0.6550450325012207),\n",
       " ('predator', 0.653942883014679),\n",
       " ('limp', 0.6420696973800659),\n",
       " ('spear', 0.6371723413467407),\n",
       " ('bunny', 0.6366810202598572),\n",
       " ('mounted', 0.634685754776001),\n",
       " ('crane', 0.6346005797386169)]"
      ]
     },
     "execution_count": 25,
     "metadata": {},
     "output_type": "execute_result"
    }
   ],
   "source": [
    "model_ted.most_similar(\"bug\")"
   ]
  },
  {
   "cell_type": "code",
   "execution_count": 26,
   "metadata": {
    "collapsed": false
   },
   "outputs": [
    {
     "data": {
      "text/plain": [
       "[('violence', 0.7553958892822266),\n",
       " ('corruption', 0.7259977459907532),\n",
       " ('conflict', 0.7104753851890564),\n",
       " ('terrorism', 0.6900291442871094),\n",
       " ('employment', 0.6776536107063293),\n",
       " ('crime', 0.6653692722320557),\n",
       " ('refugees', 0.6626020073890686),\n",
       " ('workforce', 0.6606540679931641),\n",
       " ('politics', 0.6517866253852844),\n",
       " ('discrimination', 0.6471254229545593)]"
      ]
     },
     "execution_count": 26,
     "metadata": {},
     "output_type": "execute_result"
    }
   ],
   "source": [
    "model_ted.most_similar(\"poverty\")"
   ]
  },
  {
   "cell_type": "markdown",
   "metadata": {},
   "source": [
    "#### t-SNE visualization\n",
    "To use the t-SNE code below, first put a list of the top 1000 words (as strings) into a variable `words_top_ted`. The following code gets the corresponding vectors from the model, assuming it's called `model_ted`:"
   ]
  },
  {
   "cell_type": "code",
   "execution_count": 27,
   "metadata": {
    "collapsed": false
   },
   "outputs": [],
   "source": [
    "words_top_ted = [None] * len(d)\n",
    "for i in range(len(d)):\n",
    "    words_top_ted[i] = d[i][0]\n",
    "\n",
    "# This assumes words_top_ted is a list of strings, the top 1000 words\n",
    "words_top_vec_ted = model_ted[words_top_ted]"
   ]
  },
  {
   "cell_type": "code",
   "execution_count": 28,
   "metadata": {
    "collapsed": false
   },
   "outputs": [],
   "source": [
    "from sklearn.manifold import TSNE\n",
    "tsne = TSNE(n_components=2, random_state=0)\n",
    "words_top_ted_tsne = tsne.fit_transform(words_top_vec_ted)"
   ]
  },
  {
   "cell_type": "code",
   "execution_count": 29,
   "metadata": {
    "collapsed": false
   },
   "outputs": [
    {
     "data": {
      "text/html": [
       "\n",
       "\n",
       "    <div class=\"bk-root\">\n",
       "        <div class=\"plotdiv\" id=\"8580b902-8ce3-4356-84e0-1dc9a774bf94\"></div>\n",
       "    </div>\n",
       "<script type=\"text/javascript\">\n",
       "  \n",
       "  (function(global) {\n",
       "    function now() {\n",
       "      return new Date();\n",
       "    }\n",
       "  \n",
       "    var force = \"\";\n",
       "  \n",
       "    if (typeof (window._bokeh_onload_callbacks) === \"undefined\" || force !== \"\") {\n",
       "      window._bokeh_onload_callbacks = [];\n",
       "      window._bokeh_is_loading = undefined;\n",
       "    }\n",
       "  \n",
       "  \n",
       "    \n",
       "    if (typeof (window._bokeh_timeout) === \"undefined\" || force !== \"\") {\n",
       "      window._bokeh_timeout = Date.now() + 0;\n",
       "      window._bokeh_failed_load = false;\n",
       "    }\n",
       "  \n",
       "    var NB_LOAD_WARNING = {'data': {'text/html':\n",
       "       \"<div style='background-color: #fdd'>\\n\"+\n",
       "       \"<p>\\n\"+\n",
       "       \"BokehJS does not appear to have successfully loaded. If loading BokehJS from CDN, this \\n\"+\n",
       "       \"may be due to a slow or bad network connection. Possible fixes:\\n\"+\n",
       "       \"</p>\\n\"+\n",
       "       \"<ul>\\n\"+\n",
       "       \"<li>re-rerun `output_notebook()` to attempt to load from CDN again, or</li>\\n\"+\n",
       "       \"<li>use INLINE resources instead, as so:</li>\\n\"+\n",
       "       \"</ul>\\n\"+\n",
       "       \"<code>\\n\"+\n",
       "       \"from bokeh.resources import INLINE\\n\"+\n",
       "       \"output_notebook(resources=INLINE)\\n\"+\n",
       "       \"</code>\\n\"+\n",
       "       \"</div>\"}};\n",
       "  \n",
       "    function display_loaded() {\n",
       "      if (window.Bokeh !== undefined) {\n",
       "        Bokeh.$(\"#8580b902-8ce3-4356-84e0-1dc9a774bf94\").text(\"BokehJS successfully loaded.\");\n",
       "      } else if (Date.now() < window._bokeh_timeout) {\n",
       "        setTimeout(display_loaded, 100)\n",
       "      }\n",
       "    }\n",
       "  \n",
       "    function run_callbacks() {\n",
       "      window._bokeh_onload_callbacks.forEach(function(callback) { callback() });\n",
       "      delete window._bokeh_onload_callbacks\n",
       "      console.info(\"Bokeh: all callbacks have finished\");\n",
       "    }\n",
       "  \n",
       "    function load_libs(js_urls, callback) {\n",
       "      window._bokeh_onload_callbacks.push(callback);\n",
       "      if (window._bokeh_is_loading > 0) {\n",
       "        console.log(\"Bokeh: BokehJS is being loaded, scheduling callback at\", now());\n",
       "        return null;\n",
       "      }\n",
       "      if (js_urls == null || js_urls.length === 0) {\n",
       "        run_callbacks();\n",
       "        return null;\n",
       "      }\n",
       "      console.log(\"Bokeh: BokehJS not loaded, scheduling load and callback at\", now());\n",
       "      window._bokeh_is_loading = js_urls.length;\n",
       "      for (var i = 0; i < js_urls.length; i++) {\n",
       "        var url = js_urls[i];\n",
       "        var s = document.createElement('script');\n",
       "        s.src = url;\n",
       "        s.async = false;\n",
       "        s.onreadystatechange = s.onload = function() {\n",
       "          window._bokeh_is_loading--;\n",
       "          if (window._bokeh_is_loading === 0) {\n",
       "            console.log(\"Bokeh: all BokehJS libraries loaded\");\n",
       "            run_callbacks()\n",
       "          }\n",
       "        };\n",
       "        s.onerror = function() {\n",
       "          console.warn(\"failed to load library \" + url);\n",
       "        };\n",
       "        console.log(\"Bokeh: injecting script tag for BokehJS library: \", url);\n",
       "        document.getElementsByTagName(\"head\")[0].appendChild(s);\n",
       "      }\n",
       "    };var element = document.getElementById(\"8580b902-8ce3-4356-84e0-1dc9a774bf94\");\n",
       "    if (element == null) {\n",
       "      console.log(\"Bokeh: ERROR: autoload.js configured with elementid '8580b902-8ce3-4356-84e0-1dc9a774bf94' but no matching script tag was found. \")\n",
       "      return false;\n",
       "    }\n",
       "  \n",
       "    var js_urls = [];\n",
       "  \n",
       "    var inline_js = [\n",
       "      function(Bokeh) {\n",
       "        Bokeh.$(function() {\n",
       "            var docs_json = {\"3de7902e-ad26-40a7-9619-3c22079473bf\":{\"roots\":{\"references\":[{\"attributes\":{},\"id\":\"9f47d898-9ded-4370-86cc-d73fe7c57934\",\"type\":\"ToolEvents\"},{\"attributes\":{\"below\":[{\"id\":\"84082442-7ed5-4768-9806-84de7b8f9cb5\",\"type\":\"LinearAxis\"}],\"left\":[{\"id\":\"f1117541-efa0-489a-9ed3-baa6e108d910\",\"type\":\"LinearAxis\"}],\"renderers\":[{\"id\":\"84082442-7ed5-4768-9806-84de7b8f9cb5\",\"type\":\"LinearAxis\"},{\"id\":\"a4d9c0b4-f4f5-4b16-891d-80342eeb10cf\",\"type\":\"Grid\"},{\"id\":\"f1117541-efa0-489a-9ed3-baa6e108d910\",\"type\":\"LinearAxis\"},{\"id\":\"29044dd5-580a-478a-a9ae-f29c6eaaf7bd\",\"type\":\"Grid\"},{\"id\":\"2ae27bc0-d4a0-4198-9e83-e9ece4d9ec73\",\"type\":\"GlyphRenderer\"},{\"id\":\"d70d6777-9823-4933-97b8-f214fef51416\",\"type\":\"LabelSet\"}],\"title\":{\"id\":\"e570ec9d-ceda-4881-beae-c1b60ce3bc78\",\"type\":\"Title\"},\"tool_events\":{\"id\":\"9f47d898-9ded-4370-86cc-d73fe7c57934\",\"type\":\"ToolEvents\"},\"toolbar\":{\"id\":\"96c5a8a1-62af-4eb9-8b75-95fa47a7242f\",\"type\":\"Toolbar\"},\"toolbar_location\":\"above\",\"x_range\":{\"id\":\"a4030731-de65-4b1d-8a30-0be3ef583895\",\"type\":\"DataRange1d\"},\"y_range\":{\"id\":\"24ed3b58-74a3-4440-b4fb-fb19949f0936\",\"type\":\"DataRange1d\"}},\"id\":\"bbf7ba16-5b23-4971-b0e9-75280abbf8f9\",\"subtype\":\"Figure\",\"type\":\"Plot\"},{\"attributes\":{\"plot\":{\"id\":\"bbf7ba16-5b23-4971-b0e9-75280abbf8f9\",\"subtype\":\"Figure\",\"type\":\"Plot\"}},\"id\":\"53dcf04e-683a-4a77-b71e-6f40883d57dc\",\"type\":\"ResetTool\"},{\"attributes\":{\"plot\":null,\"text\":\"word2vec T-SNE for most common words\"},\"id\":\"e570ec9d-ceda-4881-beae-c1b60ce3bc78\",\"type\":\"Title\"},{\"attributes\":{},\"id\":\"0d7f0ba5-5966-40c7-8435-4a34bb471bcc\",\"type\":\"BasicTicker\"},{\"attributes\":{\"callback\":null},\"id\":\"a4030731-de65-4b1d-8a30-0be3ef583895\",\"type\":\"DataRange1d\"},{\"attributes\":{},\"id\":\"00b67876-4295-4737-bb21-3f0c71fb24ac\",\"type\":\"BasicTickFormatter\"},{\"attributes\":{\"fill_alpha\":{\"value\":0.1},\"fill_color\":{\"value\":\"#1f77b4\"},\"line_alpha\":{\"value\":0.1},\"line_color\":{\"value\":\"#1f77b4\"},\"size\":{\"units\":\"screen\",\"value\":8},\"x\":{\"field\":\"x1\"},\"y\":{\"field\":\"x2\"}},\"id\":\"77f6e2cb-0156-4fe6-b749-0a16d20e58e2\",\"type\":\"Circle\"},{\"attributes\":{\"callback\":null},\"id\":\"24ed3b58-74a3-4440-b4fb-fb19949f0936\",\"type\":\"DataRange1d\"},{\"attributes\":{\"fill_color\":{\"value\":\"#1f77b4\"},\"line_color\":{\"value\":\"#1f77b4\"},\"size\":{\"units\":\"screen\",\"value\":8},\"x\":{\"field\":\"x1\"},\"y\":{\"field\":\"x2\"}},\"id\":\"8019a2ea-aef5-4620-817d-08ff53d5b78d\",\"type\":\"Circle\"},{\"attributes\":{\"active_drag\":\"auto\",\"active_scroll\":\"auto\",\"active_tap\":\"auto\",\"tools\":[{\"id\":\"b98d6254-54bc-4e47-9e34-ed1c818f4bd2\",\"type\":\"PanTool\"},{\"id\":\"ea216d48-100e-4d2a-ae2d-eb67bb65a988\",\"type\":\"WheelZoomTool\"},{\"id\":\"53dcf04e-683a-4a77-b71e-6f40883d57dc\",\"type\":\"ResetTool\"},{\"id\":\"7adc5480-66ad-4cb3-974a-4e660b2e6805\",\"type\":\"SaveTool\"}]},\"id\":\"96c5a8a1-62af-4eb9-8b75-95fa47a7242f\",\"type\":\"Toolbar\"},{\"attributes\":{\"plot\":{\"id\":\"bbf7ba16-5b23-4971-b0e9-75280abbf8f9\",\"subtype\":\"Figure\",\"type\":\"Plot\"}},\"id\":\"ea216d48-100e-4d2a-ae2d-eb67bb65a988\",\"type\":\"WheelZoomTool\"},{\"attributes\":{\"formatter\":{\"id\":\"9aaea2ad-3186-42cb-81f6-c4656f53810d\",\"type\":\"BasicTickFormatter\"},\"plot\":{\"id\":\"bbf7ba16-5b23-4971-b0e9-75280abbf8f9\",\"subtype\":\"Figure\",\"type\":\"Plot\"},\"ticker\":{\"id\":\"0d7f0ba5-5966-40c7-8435-4a34bb471bcc\",\"type\":\"BasicTicker\"}},\"id\":\"f1117541-efa0-489a-9ed3-baa6e108d910\",\"type\":\"LinearAxis\"},{\"attributes\":{\"plot\":{\"id\":\"bbf7ba16-5b23-4971-b0e9-75280abbf8f9\",\"subtype\":\"Figure\",\"type\":\"Plot\"},\"source\":{\"id\":\"247439a1-f2ea-40b6-8028-2ab02cbadc35\",\"type\":\"ColumnDataSource\"},\"text\":{\"field\":\"names\"},\"text_align\":\"center\",\"text_color\":{\"value\":\"#555555\"},\"text_font_size\":{\"value\":\"8pt\"},\"x\":{\"field\":\"x1\"},\"y\":{\"field\":\"x2\"},\"y_offset\":{\"value\":6}},\"id\":\"d70d6777-9823-4933-97b8-f214fef51416\",\"type\":\"LabelSet\"},{\"attributes\":{\"plot\":{\"id\":\"bbf7ba16-5b23-4971-b0e9-75280abbf8f9\",\"subtype\":\"Figure\",\"type\":\"Plot\"}},\"id\":\"b98d6254-54bc-4e47-9e34-ed1c818f4bd2\",\"type\":\"PanTool\"},{\"attributes\":{\"data_source\":{\"id\":\"247439a1-f2ea-40b6-8028-2ab02cbadc35\",\"type\":\"ColumnDataSource\"},\"glyph\":{\"id\":\"8019a2ea-aef5-4620-817d-08ff53d5b78d\",\"type\":\"Circle\"},\"hover_glyph\":null,\"nonselection_glyph\":{\"id\":\"77f6e2cb-0156-4fe6-b749-0a16d20e58e2\",\"type\":\"Circle\"},\"selection_glyph\":null},\"id\":\"2ae27bc0-d4a0-4198-9e83-e9ece4d9ec73\",\"type\":\"GlyphRenderer\"},{\"attributes\":{\"plot\":{\"id\":\"bbf7ba16-5b23-4971-b0e9-75280abbf8f9\",\"subtype\":\"Figure\",\"type\":\"Plot\"},\"ticker\":{\"id\":\"f267159d-2660-431e-a086-d6cf8b3f6819\",\"type\":\"BasicTicker\"}},\"id\":\"a4d9c0b4-f4f5-4b16-891d-80342eeb10cf\",\"type\":\"Grid\"},{\"attributes\":{},\"id\":\"f267159d-2660-431e-a086-d6cf8b3f6819\",\"type\":\"BasicTicker\"},{\"attributes\":{},\"id\":\"9aaea2ad-3186-42cb-81f6-c4656f53810d\",\"type\":\"BasicTickFormatter\"},{\"attributes\":{\"dimension\":1,\"plot\":{\"id\":\"bbf7ba16-5b23-4971-b0e9-75280abbf8f9\",\"subtype\":\"Figure\",\"type\":\"Plot\"},\"ticker\":{\"id\":\"0d7f0ba5-5966-40c7-8435-4a34bb471bcc\",\"type\":\"BasicTicker\"}},\"id\":\"29044dd5-580a-478a-a9ae-f29c6eaaf7bd\",\"type\":\"Grid\"},{\"attributes\":{\"callback\":null,\"column_names\":[\"x1\",\"x2\",\"names\"],\"data\":{\"names\":[\"the\",\"and\",\"to\",\"of\",\"a\",\"that\",\"i\",\"in\",\"it\",\"you\",\"we\",\"is\",\"s\",\"this\",\"so\",\"they\",\"was\",\"for\",\"are\",\"have\",\"but\",\"what\",\"on\",\"with\",\"can\",\"t\",\"about\",\"there\",\"be\",\"as\",\"at\",\"all\",\"not\",\"do\",\"my\",\"one\",\"re\",\"people\",\"like\",\"if\",\"from\",\"now\",\"our\",\"he\",\"an\",\"just\",\"these\",\"or\",\"when\",\"because\",\"very\",\"me\",\"out\",\"by\",\"them\",\"how\",\"know\",\"up\",\"going\",\"had\",\"more\",\"think\",\"who\",\"were\",\"see\",\"your\",\"their\",\"which\",\"would\",\"here\",\"really\",\"get\",\"ve\",\"then\",\"m\",\"world\",\"us\",\"time\",\"some\",\"has\",\"don\",\"actually\",\"into\",\"way\",\"where\",\"will\",\"years\",\"things\",\"other\",\"no\",\"could\",\"go\",\"well\",\"want\",\"been\",\"make\",\"right\",\"she\",\"said\",\"something\",\"those\",\"first\",\"two\",\"than\",\"much\",\"also\",\"look\",\"new\",\"thing\",\"little\",\"got\",\"back\",\"over\",\"most\",\"say\",\"even\",\"his\",\"life\",\"only\",\"work\",\"many\",\"take\",\"need\",\"did\",\"lot\",\"kind\",\"why\",\"good\",\"around\",\"every\",\"different\",\"down\",\"ll\",\"let\",\"her\",\"through\",\"same\",\"being\",\"come\",\"d\",\"day\",\"year\",\"three\",\"use\",\"doing\",\"put\",\"called\",\"any\",\"today\",\"percent\",\"made\",\"after\",\"thank\",\"tell\",\"great\",\"human\",\"find\",\"didn\",\"fact\",\"talk\",\"change\",\"started\",\"another\",\"idea\",\"big\",\"last\",\"own\",\"before\",\"its\",\"never\",\"should\",\"better\",\"give\",\"thought\",\"went\",\"might\",\"important\",\"000\",\"again\",\"able\",\"together\",\"still\",\"problem\",\"off\",\"next\",\"part\",\"course\",\"system\",\"him\",\"does\",\"each\",\"start\",\"show\",\"long\",\"ago\",\"story\",\"came\",\"brain\",\"few\",\"bit\",\"between\",\"used\",\"place\",\"technology\",\"women\",\"too\",\"old\",\"mean\",\"data\",\"water\",\"looking\",\"question\",\"maybe\",\"found\",\"love\",\"doesn\",\"end\",\"example\",\"10\",\"done\",\"point\",\"four\",\"real\",\"wanted\",\"ever\",\"understand\",\"school\",\"sort\",\"live\",\"call\",\"whole\",\"always\",\"children\",\"trying\",\"may\",\"person\",\"away\",\"feel\",\"believe\",\"try\",\"million\",\"working\",\"help\",\"everything\",\"five\",\"country\",\"thinking\",\"second\",\"using\",\"information\",\"money\",\"means\",\"power\",\"took\",\"times\",\"high\",\"space\",\"number\",\"kids\",\"home\",\"become\",\"create\",\"small\",\"design\",\"making\",\"best\",\"left\",\"getting\",\"future\",\"enough\",\"man\",\"quite\",\"city\",\"without\",\"sense\",\"happened\",\"comes\",\"social\",\"probably\",\"light\",\"less\",\"energy\",\"talking\",\"am\",\"building\",\"science\",\"food\",\"body\",\"told\",\"interesting\",\"half\",\"ask\",\"pretty\",\"hard\",\"play\",\"anything\",\"lives\",\"countries\",\"such\",\"coming\",\"family\",\"stuff\",\"dollars\",\"earth\",\"moment\",\"20\",\"imagine\",\"across\",\"side\",\"while\",\"saw\",\"happen\",\"okay\",\"once\",\"build\",\"having\",\"men\",\"later\",\"experience\",\"makes\",\"asked\",\"living\",\"says\",\"seen\",\"room\",\"hand\",\"simple\",\"health\",\"ways\",\"else\",\"case\",\"almost\",\"yet\",\"young\",\"days\",\"nothing\",\"care\",\"bad\",\"happens\",\"goes\",\"move\",\"states\",\"reason\",\"computer\",\"open\",\"learn\",\"africa\",\"process\",\"inside\",\"someone\",\"six\",\"far\",\"project\",\"mind\",\"remember\",\"single\",\"picture\",\"both\",\"whether\",\"problems\",\"community\",\"saying\",\"basically\",\"already\",\"within\",\"looked\",\"myself\",\"billion\",\"often\",\"possible\",\"business\",\"planet\",\"global\",\"everybody\",\"top\",\"public\",\"sure\",\"set\",\"wrong\",\"book\",\"car\",\"keep\",\"yes\",\"answer\",\"oh\",\"hope\",\"sometimes\",\"true\",\"history\",\"war\",\"child\",\"guy\",\"instead\",\"months\",\"ideas\",\"looks\",\"matter\",\"government\",\"amazing\",\"united\",\"since\",\"bring\",\"cells\",\"age\",\"job\",\"heard\",\"until\",\"face\",\"wasn\",\"100\",\"read\",\"control\",\"isn\",\"research\",\"30\",\"words\",\"u\",\"group\",\"under\",\"self\",\"somebody\",\"built\",\"state\",\"woman\",\"turn\",\"friends\",\"beautiful\",\"line\",\"knew\",\"couple\",\"order\",\"form\",\"yeah\",\"internet\",\"middle\",\"music\",\"piece\",\"nature\",\"head\",\"though\",\"stop\",\"everyone\",\"50\",\"places\",\"video\",\"learned\",\"language\",\"run\",\"night\",\"decided\",\"word\",\"study\",\"cancer\",\"works\",\"taking\",\"became\",\"exactly\",\"species\",\"society\",\"completely\",\"education\",\"against\",\"stories\",\"large\",\"share\",\"level\",\"heart\",\"america\",\"model\",\"gets\",\"questions\",\"mother\",\"god\",\"company\",\"turns\",\"ourselves\",\"happening\",\"hear\",\"art\",\"themselves\",\"must\",\"itself\",\"kinds\",\"rather\",\"students\",\"name\",\"hours\",\"disease\",\"front\",\"house\",\"huge\",\"couldn\",\"created\",\"universe\",\"ok\",\"animals\",\"american\",\"environment\",\"worked\",\"minutes\",\"ones\",\"black\",\"perhaps\",\"1\",\"past\",\"third\",\"along\",\"others\",\"finally\",\"sound\",\"early\",\"game\",\"thousands\",\"century\",\"least\",\"based\",\"per\",\"ted\",\"lots\",\"figure\",\"free\",\"particular\",\"guys\",\"happy\",\"news\",\"learning\",\"entire\",\"won\",\"gave\",\"machine\",\"india\",\"during\",\"systems\",\"air\",\"difference\",\"outside\",\"natural\",\"taken\",\"seven\",\"given\",\"changed\",\"leave\",\"cell\",\"15\",\"close\",\"behind\",\"cities\",\"full\",\"scale\",\"china\",\"difficult\",\"takes\",\"companies\",\"area\",\"yourself\",\"reality\",\"seeing\",\"easy\",\"turned\",\"cost\",\"eyes\",\"moving\",\"team\",\"population\",\"culture\",\"york\",\"hands\",\"began\",\"whatever\",\"needs\",\"terms\",\"image\",\"simply\",\"needed\",\"beginning\",\"father\",\"local\",\"realized\",\"media\",\"death\",\"parents\",\"walk\",\"view\",\"white\",\"market\",\"parts\",\"ocean\",\"economic\",\"eight\",\"powerful\",\"known\",\"week\",\"size\",\"felt\",\"humans\",\"certain\",\"spend\",\"longer\",\"phone\",\"wonderful\",\"cannot\",\"grow\",\"common\",\"center\",\"tried\",\"fish\",\"land\",\"oil\",\"deal\",\"interested\",\"political\",\"red\",\"gone\",\"amount\",\"weeks\",\"opportunity\",\"spent\",\"lost\",\"paper\",\"national\",\"quickly\",\"blue\",\"step\",\"poor\",\"green\",\"buy\",\"wouldn\",\"growth\",\"either\",\"patients\",\"sitting\",\"ability\",\"changes\",\"write\",\"challenge\",\"south\",\"low\",\"growing\",\"friend\",\"field\",\"2\",\"shows\",\"born\",\"rest\",\"climate\",\"40\",\"test\",\"street\",\"incredible\",\"surface\",\"average\",\"program\",\"value\",\"physical\",\"morning\",\"pay\",\"scientists\",\"hundreds\",\"girl\",\"feeling\",\"behavior\",\"met\",\"economy\",\"dna\",\"complex\",\"access\",\"risk\",\"animal\",\"structure\",\"feet\",\"attention\",\"anyone\",\"areas\",\"deep\",\"watch\",\"short\",\"absolutely\",\"speak\",\"brought\",\"die\",\"bottom\",\"numbers\",\"audience\",\"stage\",\"realize\",\"images\",\"law\",\"wrote\",\"understanding\",\"books\",\"knowledge\",\"literally\",\"movement\",\"giving\",\"ground\",\"eat\",\"force\",\"alone\",\"seems\",\"telling\",\"hold\",\"starting\",\"nice\",\"sea\",\"forward\",\"developed\",\"individual\",\"kid\",\"millions\",\"support\",\"miles\",\"running\",\"tools\",\"online\",\"result\",\"medical\",\"act\",\"technologies\",\"north\",\"development\",\"lab\",\"blood\",\"fear\",\"nobody\",\"map\",\"personal\",\"voice\",\"issue\",\"material\",\"key\",\"12\",\"recently\",\"theory\",\"cut\",\"cars\",\"sun\",\"fast\",\"changing\",\"clear\",\"playing\",\"especially\",\"girls\",\"soon\",\"patient\",\"fly\",\"choice\",\"creating\",\"europe\",\"normal\",\"relationship\",\"discovered\",\"talked\",\"gives\",\"generation\",\"dark\",\"type\",\"showed\",\"asking\",\"seem\",\"industry\",\"chance\",\"rate\",\"designed\",\"hour\",\"issues\",\"color\",\"fun\",\"several\",\"class\",\"computers\",\"innovation\",\"university\",\"english\",\"tiny\",\"focus\",\"save\",\"allow\",\"solve\",\"digital\",\"developing\",\"film\",\"network\",\"special\",\"wall\",\"baby\",\"situation\",\"solution\",\"box\",\"knows\",\"reasons\",\"stand\",\"meet\",\"dead\",\"haven\",\"begin\",\"anybody\",\"impact\",\"term\",\"pictures\",\"beyond\",\"please\",\"produce\",\"ice\",\"shape\",\"non\",\"resources\",\"robot\",\"cool\",\"groups\",\"likely\",\"stay\",\"truth\",\"major\",\"available\",\"rights\",\"obviously\",\"experiment\",\"evidence\",\"writing\",\"cause\",\"modern\",\"drug\",\"becomes\",\"incredibly\",\"bigger\",\"guess\",\"aren\",\"product\",\"drugs\",\"nine\",\"lived\",\"involved\",\"perfect\",\"google\",\"month\",\"effect\",\"similar\",\"putting\",\"pick\",\"eye\",\"message\",\"web\",\"violence\",\"quality\",\"evolution\",\"office\",\"security\",\"basic\",\"indeed\",\"solar\",\"general\",\"towards\",\"drive\",\"present\",\"send\",\"listen\",\"worth\",\"revolution\",\"explain\",\"hundred\",\"certainly\",\"died\",\"teach\",\"ready\",\"journey\",\"25\",\"walking\",\"hit\",\"led\",\"approach\",\"international\",\"200\",\"games\",\"scientific\",\"communities\",\"potential\",\"60\",\"chinese\",\"crazy\",\"device\",\"camera\",\"source\",\"sex\",\"rules\",\"carbon\",\"sounds\",\"boy\",\"reach\",\"starts\",\"west\",\"examples\",\"3\",\"measure\",\"particularly\",\"success\",\"software\",\"totally\",\"suddenly\",\"action\",\"higher\",\"college\",\"code\",\"eventually\",\"democracy\",\"minute\",\"among\",\"sit\",\"largest\",\"hospital\",\"showing\",\"period\",\"notice\",\"mass\",\"develop\",\"dream\",\"onto\",\"break\",\"add\",\"memory\",\"plants\",\"everywhere\",\"zero\",\"11\",\"favorite\",\"speed\",\"response\",\"schools\",\"moved\",\"wants\",\"individuals\",\"extremely\",\"wait\",\"table\",\"movie\",\"follow\",\"anyway\",\"medicine\",\"trust\",\"plant\",\"biggest\",\"organization\",\"watching\",\"road\",\"creative\",\"choose\",\"worse\",\"lead\",\"500\",\"results\",\"exciting\",\"grew\",\"materials\",\"jobs\",\"positive\",\"plan\",\"east\",\"poverty\",\"strong\",\"fall\",\"safe\",\"essentially\",\"door\",\"object\",\"happiness\",\"vision\",\"continue\",\"son\",\"further\",\"doctor\",\"student\",\"including\",\"role\",\"named\",\"objects\",\"extraordinary\",\"standing\",\"skin\",\"usually\",\"african\",\"conversation\",\"leaders\",\"projects\",\"allowed\",\"models\",\"supposed\",\"faster\",\"interest\",\"fight\",\"police\",\"families\",\"connected\",\"tree\",\"5\",\"screen\",\"cases\",\"goal\",\"somewhere\",\"buildings\",\"shown\",\"finding\"],\"x1\":[-16.695617818448987,0.9372998791192484,-11.012194171573425,-24.004799718890677,-11.628828315708,-13.31327103431535,11.847591150689151,-5.0170214000029,-13.615358496979592,-5.557002355383887,-5.991260559153429,-0.6818637681401709,-0.47853057699413626,-13.226501069946437,-12.759157791104656,-6.07482455918749,3.7818448460178278,-9.332072575248162,3.999834011765134,3.6053724541697747,-13.09350638137039,2.2231374534135875,13.572424645968763,9.163212149113756,-27.261171279743696,-10.176230364799116,-8.397830760965176,-6.530616140532296,2.1664832193032058,-17.88086352056006,-2.3357662393908964,-11.568408473527189,-10.665444141599881,3.151490932858329,10.984276858140364,-3.6267253200828375,4.101120357623223,-12.91753098200601,-9.727400654854542,-19.689764063012838,-1.618308809698773,-8.14116526333605,-10.301277116654555,9.331790594231046,-12.151024471772535,-10.919980113017107,-7.707373254853213,-20.047520863077253,11.645224187169969,-12.967972195128525,-23.60291575685729,12.976842625897925,16.003868354915493,-11.086688816329904,-11.796995148880404,-12.146449262896976,6.828937063371929,13.926253416499039,-5.240021815865814,-3.277626254581077,7.535392613846964,6.7773221195608295,-13.705261150621823,3.984025909738635,6.8992603682771145,3.7778644889503945,-12.501623892071732,-13.624182992333084,-26.95215863633194,-7.797651610975789,-23.06969409442822,6.051202564912307,1.2987462206956997,11.247452963980065,3.4154405077287073,-17.042906254523153,-11.372935971770328,-6.328434460232156,3.606789000412472,-3.4417678930188256,-2.814027219311789,-11.098040786314696,13.802404963714517,-19.35101641851903,-5.174762697161531,-26.459266670429557,-21.553088918632987,-12.025212719783658,-13.310076157167183,10.556496247067848,-26.91992320111475,7.633448216452478,6.804119887265194,14.949072211545593,-14.620430744153412,1.2568917310916403,8.028456998244575,9.538785306546968,10.95244915357988,2.5119152130539577,-7.710176024726387,-2.6485070998844953,2.563133744169054,-7.773216031690474,0.9818220848753778,-11.146363924719942,-3.3551485453724905,-10.137263972110606,-12.055886567587415,13.501250312326983,16.855620490038845,15.599060331510607,1.2101353936448875,-25.235777734362962,9.697202017697002,-9.060698755573654,11.037966362273341,-17.683374045379665,-9.125794294245413,-3.9166788764220426,1.7643025418319995,5.197777769086296,14.937330371554602,17.238974076158218,4.030182661462704,0.8191279733950328,7.789787385845568,-2.883287521819656,1.2189223955814368,-16.328006840884704,-19.03010773428619,16.284479587632163,-26.61180349544342,8.60306522014765,10.244665464490275,13.570398000325731,-10.431493836346428,-14.2678447542868,8.092224501250183,-27.166363547629796,-3.2287124837807792,-19.97691396855683,2.4223053333458697,-0.38351042750768877,-1.3321028247804947,5.699019252750171,-3.1809272968778948,-18.3991456112886,-8.698837228553867,-4.147668747278627,-2.9869316968519244,-2.1639813995699906,8.433119464433661,5.707616995421391,-20.34257962365496,-21.455526021178404,3.175268338995951,-2.7036713866455,-14.519343282321381,4.981102471125513,-15.167328402275576,17.708404575218992,-11.79868549927095,-17.39715307443817,-18.82745759177959,-7.77867927924326,-21.0139185803476,-1.5398069968397274,-14.535720349667997,-17.47534661247631,-25.832086122507985,6.877620277460716,4.467498357370909,3.8110295906187983,4.418051607634428,-25.642975328768053,-23.51513859570743,-3.109547481098032,10.785621977581448,-5.2528130087568865,-6.8218473455247794,-9.771319402895159,-18.44643885409784,16.359883211004206,-7.633441849407769,-19.397300571174984,-11.969933039996912,-15.187352046916095,12.863302574024317,13.002729666013797,-16.180626151422757,2.599108449756284,6.032442088464481,-27.339703237514453,-1.7558547075837745,-7.8584769216036,4.313863591992126,21.54599617975191,2.9203975590656457,11.760545728524718,-12.785425714001457,-5.179490594098348,-15.992850303365811,-15.376187458546893,-13.996400260837541,-24.60110217753622,-0.7901724397375521,8.582884009321031,-14.381787868279392,15.03721126395438,-3.39997836426049,-15.933824017420553,-8.61941523081363,0.46565339981700304,0.9464315406983604,-2.6700854232490423,17.109607845082817,9.554002833954787,0.8097044799461366,-2.2003810347847947,-6.883069753583284,2.082747031983961,-14.809086609597808,16.06377741388343,-17.478517654431055,4.536038531484902,9.423403331324922,0.8201665461910667,7.422366725939451,7.611383763360288,-9.398357182969544,-9.963563778182492,-12.601358807152002,-5.329074109500108,-25.57264939261714,5.5050294006623375,16.835412298406744,-4.62274996706091,7.020806210113096,1.2884756066651597,-3.0567479978283543,-2.433433708720889,-0.0593399078445076,2.861597820569095,1.4970462230044774,-15.689014343685402,6.384465670795419,-2.920192004746729,-6.197932444389149,-14.39319628570958,-8.914731448779222,-1.6304225026734398,-22.499651827378358,2.159345253914572,-21.291751348357007,11.884708533342824,-11.859256991609083,-5.2493825785363954,-12.398234873723133,16.133930164077587,1.418108327856561,0.5792306977439684,-17.39449669016483,-13.087929309464794,-2.722055883010658,-16.051171515557794,13.906561792480728,-1.6505984774860771,-22.87169524797699,-24.991315856591942,6.915488358958447,-23.416517209269948,-16.08778126662376,-14.369715670077824,-16.235705861292658,-1.7272694946449532,1.5229042117258749,-22.065081689802653,-8.705470195304198,16.993944409712114,7.3975123717349085,-9.995339169232032,6.264090542633203,3.418919166529418,-8.74460793605836,-18.60530581719005,-10.13144225123389,21.289711483792882,4.39940165831625,-22.888454684534633,-0.1515615408139403,4.518403622497913,-24.106142980303094,-4.974100592316385,6.381886336270664,2.7226663584305575,-15.716607811566556,-13.513107234535752,-18.251544844583155,10.674811190638316,-10.186454618606438,-11.948829307210646,-20.200196701577326,20.774698837738114,-6.664794257774647,0.34387790498408066,7.240941356541838,1.204513695910907,18.751895206967045,10.458241968203799,1.5139276034079951,2.651650043250807,9.448924715815938,10.413082622100246,0.6313770258947037,9.747250350780556,-13.932265934262325,-1.7113029334146506,-17.874986668754058,1.3726549690842247,4.139122879626465,-10.967593143689895,11.094938270254453,0.6474737768700068,16.567118103099126,18.962985985817507,-20.928457795529887,-22.644177411176948,-14.443393553524247,4.814239520278717,-14.842590314327094,-6.152582124039043,-9.544624623594206,-13.63609902920249,-21.036413264288434,2.7918960537880704,-13.02395061862339,-2.879989284743995,-1.4996629467594407,1.4509902168932318,6.914934945345234,-14.9253160272786,-22.875754271100718,10.326135551533275,-7.091382459467588,3.4142917654403817,-14.522170019358741,-13.484800920967343,13.625035133142537,5.261857296070034,1.3784566970881187,0.9313337921203413,-6.190255373957655,-17.844439442249097,7.0704635576159705,-16.883241680268725,10.961833494585573,-12.015778395610772,-19.067818492604964,-16.987760275540182,-23.491853380121633,9.768097691849771,-10.779240992349663,-9.003488184065194,-4.695119855453916,-3.0972021955070392,12.319446625149535,-3.0313318363300454,-10.936081107243217,-12.663443584204671,-22.63833060527273,20.784463212549074,-22.819522230082477,4.058099276815858,17.053043640095265,-21.963971398038186,-7.772883047286329,-4.767932886931421,-7.86974486957473,13.391966164158525,17.710023028674005,3.6339146432721865,9.848922185465197,-14.676947196399476,9.98294672557003,-15.310845287845657,-10.850542249944322,-12.89934589808676,-15.480175734033002,-17.279873497263246,5.529393899017454,7.126241634527037,-10.50418833350889,-21.03618639700034,-15.567102776545381,-4.413509303441726,-13.462530847859961,-20.76456111805348,-22.13189077413358,-14.080588436021014,-2.3395910059523484,5.1157091829534815,13.096134394669129,-3.9592571381347037,-4.388927468724806,1.5102097240341654,-1.8344029815015563,20.84687595449738,-1.7797100532836312,-0.3903902077944103,3.4349240149069424,-1.9489611989486413,-1.798615042003619,-6.931944932915249,0.37418823589224814,-8.435600578847149,-14.896870114137178,-6.049671604611528,12.369103786049962,-22.39654149694719,5.155904489461385,-3.739750052215342,-18.907500790474074,6.669048607755936,7.02120278490779,-10.902423983851964,-20.89971252112053,15.861249927658564,3.3900304747573218,2.912900052611025,-6.317525024497043,-13.183483848138868,9.736527730414096,-9.347627179612333,-12.5577609686827,1.2898558792462882,12.000894454032881,-20.993443030087178,19.48066442684504,-10.022486483750347,3.295314480454518,4.049426584081492,-0.041732896227528314,-12.685013841191694,9.279822317992824,1.6121352616278901,-10.73642920773739,7.479197644768298,14.107746239536487,16.595546626278907,2.708233195974258,-6.471703630229551,-0.5055243440684198,-0.30201146224000647,-1.4121683572698105,3.4393367316110384,-9.168496891310731,-11.48939746734081,-21.724214804991153,-6.704755019775489,-22.321788885209543,-13.37284700433538,-8.804310258955972,-17.387958956407278,4.681725136923289,-4.044105456397467,21.617247485616964,-14.560238707654474,-12.820096320731476,1.1577923934072747,-15.404287987392015,6.464974683994561,4.277998834373881,-6.036741372077147,9.086183821594457,-12.230225247679504,-1.8443502983254159,5.39452585133296,-18.53301620559941,-12.629168862938593,-25.59222204035475,-14.78324765105185,-13.273004133506657,6.509898960700152,-11.944226285083221,5.310723658430234,-20.68016918924965,-0.5112417680037052,15.538722226959994,16.3599194405292,-18.25384008347501,-2.6045226556799013,-2.2283082907832603,-20.58432694306871,9.262757611875077,-12.193487063699155,-15.918345311083646,-19.4331909277736,-0.0927630628750582,-20.91809906245555,-10.681719042811856,17.09746016428906,-8.942954797722505,-1.5474533532695376,-8.345232553141269,-2.9844176835753506,13.226594587266849,-13.414069082947716,10.91950309742867,-5.915567250692612,-3.7636703318349403,9.208488182396392,2.8882066445881565,-19.317556406681017,-2.921042872036236,-16.25813205754657,-2.353078101122278,12.3708201017895,3.7237334602281047,3.2386573129868745,-7.569402758526148,-17.438116850957208,-8.95727694367946,-8.568358413119784,-12.18935667727003,-16.681083974878128,-15.287651282263635,-2.5557338956548503,1.8416048107885081,10.27033635933351,-14.726471904820148,-2.484844230889283,-14.848823696192019,15.172232427183213,-19.22307752763572,13.51889932348628,-18.355451038972245,-1.4552870550671444,0.7778824706545833,-3.7345926805048832,-1.9173439131004344,5.015784768591382,12.762233755202917,0.507919665809285,0.9250743256879728,12.95691235511276,-13.17469063318896,-10.357976246004487,-10.448798152675963,-14.73181369120554,-5.011961921109736,1.4575387507304145,-15.362385947314088,-8.972083504798505,3.568944569236824,-19.23074707042634,-0.8623914341399599,-5.002396505150001,9.112075408488623,-7.694358249647627,20.28496823020272,10.93217237072082,-6.110267478196166,-23.499242527386972,-21.2175366331835,-10.747291357651191,20.201955702014534,17.373214919720635,-18.966835959289465,14.693835189371296,-22.286923356956635,10.790974643281256,-11.08927254779747,16.401608665962225,-6.166227099697312,6.4592406497029,-21.084465708123194,2.88974081113663,-20.385266609523292,-14.123676550955597,-11.077602822137484,7.326737249620526,-13.48231048282025,17.081793673877318,-20.651761018642894,-12.282549017887739,15.825209361158178,-22.74978549866356,0.661701636422816,-20.181006923798964,-3.779744591845786,-19.508463112406407,-9.20203637894806,3.3562661369673505,-12.125600131722758,-18.214659420539046,-1.7014636523654891,5.624604013331578,18.34926822631394,-20.839752894607315,-25.337553699735874,4.489935160220382,-19.66259871049778,7.655392165821529,16.70554671366465,14.106902355837144,14.780096337000987,14.342395525166436,-17.09217854481905,-25.45868002125343,-21.676652697007246,17.332796757926697,-1.3024949248236095,-8.19286882035051,-20.995791823163255,-17.357334176798794,-1.73153169458337,-0.8148860094583238,12.199346340673292,-20.387332678858126,0.3068865996042341,17.3843350068849,10.256744315611455,-12.256890269399232,17.510620522729308,3.8614785480932907,-2.5714626307455752,-22.949489429683645,-18.96306583459076,-14.117350329379917,11.913938177980468,-6.362703243582802,-14.776765318426985,3.3715607098136275,-18.540174536438993,-13.359194160651409,11.8695814781259,1.044412416750463,6.76291782730059,-9.23525622657913,-1.3000941635566479,0.11019671032698881,5.970644607802368,-14.251272222937057,-23.648935938675848,-0.09801271933487207,-6.811041791543018,14.898713181850207,-21.74150040604791,16.141482118393103,-3.1991472437473525,-6.706258365746151,-21.30300541238964,-18.87609292756545,14.028398015908842,3.134314310824409,-16.06352110719615,2.8813309753300334,7.009402469247665,-13.24182470638928,-19.724062208058882,1.308626800199312,-22.77109140631507,-11.791572428709726,-19.604614861996165,-1.275245142189385,-3.249823746162313,-12.723946967940705,-12.30530232650266,-21.606301437714453,-16.111107291464663,4.59367860015985,-12.601113348739114,18.75078923655734,5.324386149129582,-24.101313299222586,-7.468641748704133,4.898591454967886,-0.21131016581714812,6.396856521635925,17.02415392447068,-10.694185245721048,-9.356024301637039,12.882435545258488,6.8798490571947015,-9.679344104458247,-18.211277880287223,1.880931907789635,-21.329046255672512,-8.757331220261388,-21.711630643500417,11.898036357927316,-20.20052556770954,-1.4020209925898848,15.073783872624464,4.822271787010103,-14.998834684025596,-8.52313839706084,-5.40731536587887,4.797616155227041,5.915846053515665,-6.32802035455989,-20.845510917661983,15.880391375546056,-3.2027704588319317,-4.425936129633207,-12.852627150663212,6.8966861460710955,2.9142946953608133,-0.9156060821764032,-21.580403857027175,11.099581646985163,-14.768315455919366,-7.32444209326276,-15.32418663305428,-21.211838628391135,-15.266833546299615,-14.896176232360697,-13.289612941403558,-21.741822818533766,-7.378025049884126,20.276932144345743,-13.8374204036996,4.026535895611097,-9.750185513638744,-21.14562807974021,3.9472833744888094,-18.9398158866843,-11.446950169671714,-20.936478592681606,0.17241790233034232,-3.8749657219742626,-20.42270047582444,7.949607051958913,-13.330983566223551,16.296182189673246,0.5399671595735471,-17.862286909196722,-20.458561768029128,10.103624517891907,-12.81719618942149,-13.13543059148684,0.18878210110468208,5.207491197923968,6.8407269775671615,-17.06405797529942,-9.171811992162542,-14.504459229028122,-9.229667707438919,-18.742855972714608,0.36306984332367453,1.9167648948890121,1.447010051889797,-17.261440114206607,18.319224119752,-11.368895517872872,1.460431621095635,4.455564289741619,-6.530136670822523,-20.52579842209255,-16.910662597104654,-3.8635763357222106,-4.631087986419725,-19.46528285662605,-16.825920999690503,19.19071609482701,-9.1775602475808,0.974043464961819,-18.719632342981708,-13.629719781525674,-20.51596694349319,9.376858829303144,-10.811545835176062,18.217976138720758,-16.14979722882643,2.224546766861382,0.554031009805368,-0.4573211236533554,-10.36718294042254,-17.031787332463317,11.14195378007301,-10.127073190488366,-19.841454675311148,15.0492917663077,6.429746290378452,-17.97980177396804,-18.53611693771947,12.762580666600533,14.092271800452066,-22.894424806624347,6.807304304754774,5.455656505952692,11.625318189645263,-2.1972028068224683,1.5462113483453601,4.541228018853801,-16.83357088273549,-19.931985287008878,-9.253328684292079,-3.386244070186226,8.73122879773559,0.0810613512600459,15.62664980543247,-13.005871227474994,-18.66031441487814,-15.346503632550869,10.455211418318111,-20.945546529997603,-14.459443332951455,-7.999929829800421,5.714510513876608,-13.810003832507752,-17.485105710496054,-7.49846691328537,-19.522477524032457,-9.378005228704325,-5.905004249500283,-20.314976335470842,8.729209823350654,-15.094993803889809,-17.661437289353767,-20.19542131378536,0.8056786108229711,-23.475822633663263,6.1833047845933224,8.932710053015585,-1.9419324666063584,-19.34080055049957,-14.771026538440461,0.3458066798195182,0.6252010919718887,-25.420566829870406,-9.762891415108289,-7.502394273283844,-19.584494639690682,-16.855424121621322,-19.626981755726298,-1.4500344744006526,5.4725703921106374,20.518789193367446,3.7419183797489124,-9.600657260250077,-18.79134851541175,-21.32619310027445,-20.819750038929477,15.967109900760374,-21.223818027798096,-20.570011093090503,-9.801460175792903,-10.773299609218245,-18.240275865579246,-3.353561102413845,6.277421264067546,-13.912497030200743,5.188970202407297,4.222504445403704,-8.761560087786052,-19.82317625641194,4.7236005682222535,0.08467568300272003,-9.636677407405047,-0.20211808034673956,4.06788131710695,-6.761810371792101,-16.50307562990583,-0.26940718169584865,11.23009074389834,8.867058215495575,-4.633179649096491,-12.837035224483966,-20.93202560537439,-0.47313426664296404,8.054773483031907,-18.610345760253484,-14.777030722430254,-20.75012303560838,-0.4374053773980666,-17.76133952256424,-8.712547201322561,10.623945358031058,11.045728495730765,-12.170314892388689,-11.669373314793594,-14.129012396633785,-10.252349608171535,-5.926761129577089,6.9815328019698795,6.289752098452503,0.8215622557498279,-13.83988486952514,-10.131742406981271,-1.2574323739248314,-1.620726511985737,-12.611904853329095,-19.09621164710033,-8.075041189687537,-7.5379843564461435,10.848954861977969,-19.845288429057963,6.0104279783780425,9.069731005030244,-8.16667073151437,10.940424822686865,-20.866103565926448,-19.305374189329825,-13.824342494669343,7.034599848373116,-16.351453594421702,15.90332934321978,-0.04700137207864391,-14.889260145345027,6.92579648825518,-10.856820092525446,0.17138611262265024,-16.805383796064387,13.220685540767134,5.071339959354154,5.0274170848624395,-18.589673247512977,-12.788289503104771,11.500488152360198,-10.605841884183308,-0.5905750080773337,5.19545302927414,-4.015246996141128,-18.409301313356256,-15.233878408250856,-0.9590547167510681,14.55111013427413,-14.18904505492475,-23.500388614755334,7.236175051778702,15.006192786126805,11.007072503072699,6.347581072358137,-8.906042194487942,-19.60808604084439,-12.77395712742238,-11.128387417659765,-16.69577027401533,-21.27682334780996,10.250070246118723,14.859440631339714,-19.678197957937865,4.464814837779862,6.375783042599678,1.5320194806263479,-1.2196486531469555,-10.833045755102692,-22.51308491713283,1.0626479631620656,-13.894545630758868,-15.06695890449678,-19.771802061794986,-16.511872700186238,-13.354749139245687,-18.982985233391993,-20.157716844968206,7.932014679969607,-8.718867439385464,-9.043476242343257,16.073557306713216,10.526338272904422,-19.52158808147253,-18.1772395314108,1.9894835734226861,6.3195279455551985,5.3496818279091904,5.99200242480756,8.567589731239718,-13.86047726050548,-20.864775123726364,8.05484654495418,-12.889949953749655,-22.08906415459049,11.722450391882317,20.307471319129487,-11.24729724872514,-15.863532950262254,-17.669835460593433,-15.473403243336259,-11.465262228468458,-5.994975649376712,-14.446059594556377,-6.165750936260072,6.048882139228058,-20.206068637835475,-0.501385599408697,-17.607526165645513,-14.445633300057521,-6.222884300228268,14.560325622943056,-0.9743008683779218,14.998886150033389,-11.31257889820798,-17.948449545106197,11.630894721082846,-13.056853656401257,-2.67892405414507,-9.180539792208291],\"x2\":[-11.145261328756515,1.994719520368833,-3.6291246241630954,-3.845853232803085,-2.1762525555079373,-2.7949058078378806,-10.82726098330253,-11.343796027291507,-1.2456700396588558,15.91591691229982,15.978664468585137,-8.542969569703834,-8.901342321089746,-2.3554399104352712,-3.892659379946947,15.99787523636544,-6.128870927378578,-3.4582859668591572,13.448024488216445,5.281450161233717,-3.8535620775234767,19.3641430370755,2.246308637662386,2.0086943977931755,-6.115336652470214,-5.525498962280166,-4.526834786250623,-6.809475603549563,4.725467514033994,-2.654556123143319,-10.463805322841505,-10.354918972066933,-6.523364866491591,3.261810703456167,-13.254726028519704,8.188212353932178,13.124137336747484,18.234634841858174,-4.459767281070331,8.098753384036531,-11.498676450232939,-11.801699485899306,16.72521763675859,-13.332747463437695,-1.2830748844189053,-7.3697666868811424,18.099371419070692,10.078645813523268,-2.051633739487512,-3.756278955004653,0.6571090192614177,-11.212118348686682,-0.589253463375737,-13.603332730631287,16.42424922673757,-4.133269981081658,0.4745495270370545,0.9795966036914553,-3.2311162654152734,-12.645589817947092,17.69322539883805,-0.7904781967041526,20.749013843298282,13.530094675663085,2.695393440526805,-8.485645728045371,16.791730500336605,-2.5465637001160832,-7.297409214610631,-11.977143803904264,-0.5772664459724748,9.733026053904316,3.624548548506932,-0.5320895041377429,-14.253958221016678,-18.699520137201986,16.292946826941545,-14.33231891172986,-17.942584898081254,-12.699301382963474,20.723244779599575,-5.0260248897428275,-0.3796890642182928,-3.193337532331472,1.9014426268379143,-5.721597385294921,16.151294489998246,9.997306402205835,7.009561783519228,-6.8016812831859506,-7.0125965306181515,9.291164414754576,-6.195555343539164,-8.868435018710079,3.098608130669721,9.09253003640265,-5.433269983369024,-13.197026419898691,-4.2707427420949555,20.411362462718856,18.102450354362787,8.491624088621462,-24.555440804479026,-2.1990246898345633,13.309665263435495,-5.474608455526633,-5.32353437200626,2.3811447796872725,8.958974499659359,13.08931745072897,-5.972608574843625,0.5263382224572704,-15.600258644317293,-0.7134212941025935,-3.1515979926957907,-9.950176803557476,-13.332080515444991,-4.888410021356289,-8.135583118054697,5.030048558785954,-20.85211746828623,9.130849188910577,-8.832199571484907,-8.15336104061795,-18.5798596439379,24.343354567400226,-7.531050416894901,13.788833259608976,-15.077259539665551,2.846939826548986,2.155591154949978,-1.2504074202653461,-5.666757151262245,-6.568284665013226,-13.194965448641783,-0.22532004869941538,-2.7763962202759416,-7.493088729946965,9.414021673876471,-7.6970050237074625,16.02579659746385,17.202026345088733,-24.5476980746684,8.134650645864928,-5.390629559968584,10.26550986395005,-7.066613456935035,9.717719285082726,-11.687119886932317,-23.770803050479568,1.6730176366119114,-17.703608679842045,-2.259889926024726,1.9932876354810665,5.214625732757705,-3.66430540077059,9.949018896529648,20.471020595959235,-4.887733282802585,1.8214665047168492,4.837883366236714,-10.01055380393163,-1.5906979339694347,-7.268402437320635,4.316547430847128,-16.980353564302074,-2.211567509329573,-16.069457336753175,0.10210227825980323,7.510600940051703,-6.439686020241523,16.664247817764426,9.111382882781365,-2.938727022417461,-4.764781137809707,-5.872067980252324,5.30075460076056,-24.498499064680132,-0.7495713497534628,-2.6648158578061696,12.692707340161316,-7.102692217510662,-8.789710059513165,-0.6240429142827231,-17.047900499511435,-7.838514665386115,-6.683351613766088,1.703865706431191,-11.185145253176161,-6.640407768064653,3.213186689767378,6.17272455140359,2.7089782417485595,5.250981020552514,-18.84395226036483,11.745770848432212,-4.731440028134083,8.741862202466137,-22.737980711855027,10.181105345810042,-13.866840972006592,-0.8366739519017832,-5.1803190024073915,7.383973289857994,18.990463648784623,1.1540142113210832,-19.332241608983043,-3.6890972281180727,8.392385559049872,11.337532973510893,-5.192328346281024,9.97785922884311,-10.03581484181078,-3.074389422472331,-11.954476356176754,20.818269671041698,13.044602083947852,11.533339370938464,-25.63058623100772,-1.4276194262671753,-14.006938052218054,-24.525330733525013,-2.04465958308738,-9.119083256564474,7.5092757380978306,2.953679597791897,-9.710201290691453,24.34223862549112,4.858673238277433,-4.001976174357196,2.8762828233325157,-8.398498278705777,18.995951634416674,-3.0673459043216624,-5.755565735845678,-13.212646287400647,-0.9487994189979421,-7.161328342163095,-0.34299858565994407,5.461557102201126,-24.363195811867904,-3.5641322647453344,5.639676273119076,21.056231051489537,-24.662873772872288,-18.252855104384924,-1.9010346879053956,8.252988310779948,1.0192816437944532,8.3936646617355,10.414574732984747,-8.152018612006083,-6.387533785385478,-5.338604579171507,14.025178251520176,18.151188781718165,3.626770877859918,-20.258974254636687,18.991528037094135,2.752323653264501,7.322853875170503,8.691919388733778,5.297762857452001,1.7709480886576234,2.11996119154808,-12.805269949433622,7.419275330204731,2.9153864990886085,-8.474930351392691,1.4859163548799437,-13.329851805682488,0.02524267797736971,-17.560383764063232,-8.567695878580162,-7.749579800931584,-4.228056991124929,-9.003262006582702,-11.898691880971516,-9.041764594535293,9.984722406767268,17.642124367281962,8.294708790226146,-1.9548457621186015,-14.25031427587642,1.7159628957385458,-10.636000564200316,9.969268505454902,8.377895815372367,-1.1548702559215094,4.62028530729648,-22.974331489348458,0.7506414626573327,0.7619799945609039,12.46168053005833,4.550931269760833,20.78593075934232,17.400230113591864,14.969886932562654,-2.124733269391793,5.979812709966656,20.025286476438247,9.565409866452429,14.097911696464978,0.27477701514395514,-14.116895611015488,-25.517409112606327,2.569186192148066,-15.258018229748492,5.694935761695985,1.654918771074078,-4.032624677930333,4.432609245036056,-5.522423471545308,0.21918822217661776,8.70346574708593,3.3328677328261467,19.027924456280846,-18.638970959479373,-5.827826837956606,-6.829958775986107,-0.8768636038152293,-12.076959812837336,-4.4549941422907064,-1.050470491399348,4.05058869465894,5.559817888856763,1.9056822044358377,-14.805254833367936,11.14389686299111,21.25731847387827,-4.8725310623164875,-5.724486423124527,-7.5277319550760575,20.12469120860723,15.690001086251868,20.92481045796122,-12.522194873454037,13.790790192106057,-7.509644672528179,-8.862031708282954,9.216373795024621,-19.401794161978344,-2.667708267947468,14.026646946836475,0.44948194535200864,3.274065706539644,-18.472215137842255,3.1546958856351814,3.3598221484127326,22.781557538890834,-24.375742751507023,12.993703973506099,5.313366501803544,-4.763329059235621,1.649768009129694,1.6005475228412376,11.677949464787643,-9.91952065019712,11.00985365550054,13.572790503770491,-13.290269024790202,-4.004328017547853,2.2099935503377637,-7.0885815388069355,-10.772125394305181,-5.407744224500254,-10.982190006038795,-24.29178904224908,-9.210909602132189,-5.530403234451572,-13.365508240045251,0.24955810366429737,-11.846561560878872,22.421708918253252,11.385795758048177,-13.944802621011238,-3.58982015895129,3.493873557746916,-5.751217162117396,-3.4049379379375933,3.438688670969252,6.838540711809857,-5.828039322930065,-6.149960115732177,-5.4602262526378444,-8.612050304466477,-9.119931843148997,-5.975834821727397,-10.837531229018374,-16.51784852658137,-12.451799267835309,-13.520946520302177,0.036505583505287986,15.733146233632308,11.907820454216509,-8.620765471064272,-6.35362353317928,-14.913387705635568,4.965488002085479,-17.072006402213738,-16.400203412196902,9.593354934679546,15.19360700529988,7.027831583116143,5.275328438102789,-1.3907845592379608,-16.20912528813893,6.370234415762261,18.533686310181373,-25.94259487758826,1.8157969645304226,6.710073645850197,18.544675114254165,5.487720946944094,-25.621164451599753,13.935755046424937,-17.299596341612837,6.781036558419267,3.3055054683944087,-5.027057354594677,22.756644898989382,0.500045722204346,-13.661156857173793,-13.082162956522897,9.182259275465949,19.76681193685134,4.350659421795135,8.554413004624681,-3.6135941083472445,-22.73486876392409,9.51087497957049,4.4164329434166145,-5.499333838058315,3.7715842271160196,-18.00238876153735,-11.755677899669601,12.288069052238733,-4.530522251362212,4.979757421953848,-9.935062007757544,6.157640110576816,22.424058606867227,-25.805331997843584,14.441026486913128,12.828030803312261,-1.7421757650112,-15.468896718742672,8.262294273505365,5.408904792110039,-9.401509708568765,-11.694427472324584,4.562376132499129,15.41607436892414,-7.247685371723964,2.393834593067356,-6.187360735004406,-0.9412434050670533,11.401876139497634,-9.11164301033086,-6.782185457885554,-14.26011993182946,-14.790409563297898,12.922620742473342,5.270787532783937,4.831330760626561,10.177831764750774,7.2302255593680105,-18.252876075302087,2.550918736827196,-8.582651984806601,10.785545450492124,-10.345277549116892,-10.356946400095891,5.572908512842808,5.125521224899468,15.867553140802292,-4.917234583262212,1.9648318567569714,-10.642290553781987,16.154424357460286,-6.483102864131885,-0.5770324078088569,10.78938023926807,17.832919831492376,19.28041722636888,-9.92571371915633,15.247879576065877,15.412207729269875,5.565969527237893,3.8800475447329568,4.311935420633971,20.152845832330144,-1.5982517252747042,-3.7829457764143277,-5.533092819861212,12.307823402857675,-15.61879772026839,-4.0007277110264425,-3.1568927779385723,15.446136918820576,12.932933193013403,6.628892505879511,-9.636447073698225,-25.399174969225434,-16.668505148325227,8.193075687388601,1.0077221209424874,16.292648463194393,-0.2891263272816578,-9.548929585713752,-16.756763851155966,13.116259846420508,-19.92371881337346,-12.310235687052346,10.903009290631774,-2.3292944607317696,-22.42780764838009,7.4870854631479755,-18.535513095322266,10.150797232529879,-0.2337355133118315,1.5730794106623478,14.916700884069703,-2.594840315766478,-7.907830878844001,-0.39513861080656865,-13.4192349564804,20.072679581973656,-5.303284351258492,13.48434320532031,-18.121892537913553,-17.272287408966832,12.738588996038223,10.973391003100359,-5.954709116261238,3.7078290080693006,-0.4295120587078537,0.05651797095557515,-24.24368372218755,0.9685797637776665,-2.7792645025271185,5.421123688636337,14.929515552790324,-24.959115566950953,11.71660539360993,2.4937436563581503,14.38639471499978,-1.409271258435524,5.325266232897121,-18.06199060410567,12.431148892093788,-7.396438846057987,14.845338042249292,6.0133820636828865,-8.655949531453414,-4.553297702711529,-5.311756719426603,12.436518415814778,5.16585531168535,8.538663402245382,5.077098917466803,6.016177864700368,6.328789309595263,-10.062189616133509,-8.28763078288439,-19.386388144441508,4.9929016013258245,-9.826669034911294,11.054126987170514,-6.518339927548377,-7.405087503155011,11.861125299546986,-7.738442048259461,-9.050368085622598,-4.373757831547717,-10.299577300917212,-13.938475300861723,-2.088300157990207,-12.2369354401392,-11.484137687427797,19.69217351397526,8.094539895612845,0.9250487433423082,6.632483662013093,-11.076831600727427,13.497494499732895,10.10062722315121,-10.99414439656782,-24.23945884478625,0.6887847152612706,-1.7404253256465,16.864358939020402,6.956534447868221,-3.2620102273614573,11.748302023853627,1.5741798624661942,-13.797834842278787,16.061432497079625,3.122254784631599,4.921538001710468,-6.643103643684937,8.03535948247219,0.9760429942689884,-16.83041155568359,-9.418532065880207,9.550509276173297,9.824602393429874,10.451756143825838,-5.7263519254817306,-2.4582154225909827,-12.001421657171866,7.9958514886542,0.051501360292498896,8.329532964235758,15.683032554660045,-8.753208828098442,-13.891690319783494,-2.78353525679952,11.83063233182555,-13.810775980861644,11.953404427759946,8.072704751985668,8.605087716313575,-11.79729509975367,8.15419622998476,7.990457328677018,20.124625815992218,-10.613224191260562,11.050504358534369,16.92593921895895,4.9043265133546345,9.496417677251355,5.928125539857582,1.8569964118352977,-8.32007316360299,-18.713479336528916,18.15195167052387,0.605412412655528,-10.766398735322637,5.008751235603029,-25.372075478517573,-5.724427516206233,-3.6659530259958495,-9.95236173469535,-11.272200176570284,-25.378002082306587,4.014595013045363,7.1898256255711654,7.67420046094646,10.012823390426151,-21.51541111658674,4.681719395851092,-6.736477313236413,-0.5420285799682573,5.4182360101493,8.273902262472022,15.47791899099545,-19.917304323258588,-12.455333295731641,-7.6640271418690045,-4.476696253614067,-2.9620802038441014,-10.214462420792968,4.879011946569025,0.24785975913477276,5.219201944793344,10.672865721681315,6.144007214263535,5.511756027169721,13.202358553921668,-9.328593493130851,22.688785520157758,14.20336670261807,10.054546189005851,5.039712568119778,3.0728166889613293,-6.4747262209556915,4.296068103601006,-0.8335006787443425,5.517869321624118,11.332882116756474,13.417609285284346,-13.528774941482332,7.3736379286391065,0.5761494867499928,13.948655103825084,-14.165380341486518,-3.6944579660059156,-5.303093861078716,13.787045709146488,-6.2889870387559075,2.648579064239966,-9.02724489939598,2.115922899109821,9.252851609783526,7.080879303461673,-0.25962043707762367,-7.669086137215897,-8.806317483271373,-1.044869797767247,7.274751775290671,-3.7130373290050156,3.174433793982785,9.941595029229164,-9.991700829038372,0.2645366473281643,6.112167450750184,-12.172980441570179,-19.893172252627338,4.972762222539734,13.20426987380246,5.212892030163702,12.21978175607875,2.5406811078968046,-3.8035443124242287,-14.23342111167031,-7.054716008646375,12.22841513084467,-18.701199946340783,-11.026264894685989,5.648006685959448,7.857599861862497,-7.510701770626049,22.402111297534496,4.307369999687943,-1.7707843325701857,-11.017471983444214,-8.431788634909747,4.409054458562226,-0.3282927268666258,-24.41561206948667,-15.937939956249364,-5.115054548299777,8.369242266627488,13.258786308268416,9.895365490872255,12.065302656758798,-0.6390519907226264,2.568795661047779,3.642107084891184,-10.741631510672939,19.16200480178054,11.865362004137713,-11.8914119515757,7.655608582034915,-8.078229133109517,0.652774410052149,-18.123151252612363,-3.1026936935306386,-6.371613013144226,-1.8644357797686166,-1.7235189437096419,-6.713930279568296,-9.844273861941517,9.582806691488887,1.8034085897358478,-4.230470903914278,-0.3890395725811166,-9.060226393422813,-10.988115838881628,-8.348189955417336,10.117160005713007,-1.24550862458966,16.128454239359,13.733087645197648,8.229849921107128,-5.668784235272963,-23.31395745145034,-16.80673655920201,12.03857331007245,-9.946704150539832,-10.230064005341553,-15.460416099388851,8.199328542471001,-2.526484578488928,7.412801541195197,6.627739752102604,6.99923025422052,3.2281283071679105,-12.067994712774727,11.632645395209746,3.993650892682819,1.6980889372310024,7.618022719676727,-11.909868199313413,-7.250900929351116,-8.251839271913402,10.99404810216386,-5.92336217922173,-2.611200675720945,7.4709792162916635,5.578941317768514,3.479277662026105,18.86170166486189,6.063242167323631,22.668175346896856,-3.8390703614600064,-7.007441065610873,14.221414153264758,-10.08913943720741,-6.060446539051864,7.699492249148388,10.00138750829413,4.015296957942828,-1.2738856260095957,13.44311871478408,13.083625532076587,3.219322366328633,15.767586025182458,-1.9573082235597203,7.166221035890198,-6.937183274342187,-12.865555008997292,-0.38917102146922705,-15.521458721100874,-6.587290234497475,4.337849067126246,-6.039327514299767,-0.37967098285439554,-7.6432589755499,-12.1468824561729,-10.752260702272094,-8.093236667512523,0.1713712668787778,17.018959497474906,-4.461284722937197,18.62678749996325,-9.099246009033706,14.266122942565167,-24.117247087928174,-1.2765570004397893,-2.4912758165460267,-3.6182515219068088,2.768646368389281,16.80120952951097,-4.030043114048514,1.7523023240624667,2.513641601171909,7.360574808804146,7.009817343155783,-11.314310440344677,3.905025814624425,-14.722147208011588,-6.916966684849098,-4.503809209970763,3.366996552007458,-13.458434763865046,-0.29118699206393367,-6.554671452402193,7.051018029317406,-12.060280563619349,-10.062473914090862,6.629301013872966,-9.520818948817242,8.875021422966293,5.21087406466382,-4.629260127766571,-11.663323861995616,3.316264424736092,-23.564246193317913,-7.6357770690303735,-2.2747431443159094,3.6240865823479247,-3.0486241156391376,-6.0987874688579415,-25.079402388878773,5.215163021753227,6.835177666524059,0.13872076204855063,2.6833646275122085,-13.590889318083123,-24.963493782284626,13.258064386427744,-11.382277855293596,15.756897498192583,-6.573933342681522,-25.184901656523056,-14.69575233702421,-5.77544894070754,13.11456368624153,12.929305074111598,0.48746881732346126,-9.052305675310949,12.071853561087337,7.731565439741981,-9.265021246136866,-12.247164785269012,8.368745993000255,-8.132183629546827,-18.146797144330815,14.138417997378697,-25.21887451639237,6.925455125015337,-10.321009934164874,-6.997094298840656,3.803352708411614,-7.133321360627951,0.5253156778374565,-9.586541001345594,17.279408925259418,-10.09650828157062,3.7408353007986492,-0.1393845358484475,-9.900659908860652,16.692410533590582,-13.880380420009907,6.627460409620438,-13.556961885629295,3.3181886216582748,-5.447304065905372,-11.03055414037814,1.8002103106959353,6.4146725751865965,7.404277118119733,-6.61861287925165,2.5377816769187755,6.845834731029698,7.422538625035287,-5.592282246890767,12.467601878135138,2.2215031174045317,7.212118374214867,-23.95098061978321,-9.25738794142683,10.083189699523404,-7.244727373314699,15.706539292745125,-0.4764586990229362,-6.3771037030982045,16.068422651896675,0.20172376360690872,5.935657877820586,6.452125139503369,10.731225280856938,6.167322186731146,-6.2702119242822185,-10.349664066009868,-8.739460058856654,6.549189408215554,-13.305365263426072,-13.008434618944072,3.524438940342225,8.461934742991696,-0.6968750681385676,5.901265369672086,16.961251736106536,6.8366205011149574,-24.911633376943836,13.840053969315525,4.544520433346753,0.4268565718854576,12.427074069710134,14.726725747567146,-0.4375841352356108,-6.738758911929262,-18.555750138135714,-14.828014582015408,1.2232791120982582,7.1798096945329295,-2.4624877967228147,-2.084188694015159,4.610913736334449,12.017724112997458,-6.7327524926355125,-6.669825575942985,6.235402914585022,-10.400598803436008,16.893494759652185,-11.501425652625093,-10.4844534310309,-13.868526457789258,-8.430327565753375,-11.542454620064607,12.562213894115093,4.866649728958628,4.888379062482886,7.60842671544823,-8.888080370353764,-15.665248064943222,-6.437669116363664,15.520001447182583,13.870107598742337,-1.7951332001501947,12.275022000223293,-2.3980756312700073,16.996339216926998,-7.840646555250207,4.79685939390365,-15.120460224915844,16.555358373329735,-0.9819723539752538,8.42257790735685,-25.174707273648945,7.9666390405497784,14.533460926036586,-8.011356235206298,2.2792135579657984,13.180729872135654,-1.1717787205601513,0.43937605545942915]}},\"id\":\"247439a1-f2ea-40b6-8028-2ab02cbadc35\",\"type\":\"ColumnDataSource\"},{\"attributes\":{\"formatter\":{\"id\":\"00b67876-4295-4737-bb21-3f0c71fb24ac\",\"type\":\"BasicTickFormatter\"},\"plot\":{\"id\":\"bbf7ba16-5b23-4971-b0e9-75280abbf8f9\",\"subtype\":\"Figure\",\"type\":\"Plot\"},\"ticker\":{\"id\":\"f267159d-2660-431e-a086-d6cf8b3f6819\",\"type\":\"BasicTicker\"}},\"id\":\"84082442-7ed5-4768-9806-84de7b8f9cb5\",\"type\":\"LinearAxis\"},{\"attributes\":{\"plot\":{\"id\":\"bbf7ba16-5b23-4971-b0e9-75280abbf8f9\",\"subtype\":\"Figure\",\"type\":\"Plot\"}},\"id\":\"7adc5480-66ad-4cb3-974a-4e660b2e6805\",\"type\":\"SaveTool\"}],\"root_ids\":[\"bbf7ba16-5b23-4971-b0e9-75280abbf8f9\"]},\"title\":\"Bokeh Application\",\"version\":\"0.12.2\"}};\n",
       "            var render_items = [{\"docid\":\"3de7902e-ad26-40a7-9619-3c22079473bf\",\"elementid\":\"8580b902-8ce3-4356-84e0-1dc9a774bf94\",\"modelid\":\"bbf7ba16-5b23-4971-b0e9-75280abbf8f9\"}];\n",
       "            \n",
       "            Bokeh.embed.embed_items(docs_json, render_items);\n",
       "        });\n",
       "      },\n",
       "      function(Bokeh) {\n",
       "      }\n",
       "    ];\n",
       "  \n",
       "    function run_inline_js() {\n",
       "      \n",
       "      if ((window.Bokeh !== undefined) || (force === \"1\")) {\n",
       "        for (var i = 0; i < inline_js.length; i++) {\n",
       "          inline_js[i](window.Bokeh);\n",
       "        }if (force === \"1\") {\n",
       "          display_loaded();\n",
       "        }} else if (Date.now() < window._bokeh_timeout) {\n",
       "        setTimeout(run_inline_js, 100);\n",
       "      } else if (!window._bokeh_failed_load) {\n",
       "        console.log(\"Bokeh: BokehJS failed to load within specified timeout.\");\n",
       "        window._bokeh_failed_load = true;\n",
       "      } else if (!force) {\n",
       "        var cell = $(\"#8580b902-8ce3-4356-84e0-1dc9a774bf94\").parents('.cell').data().cell;\n",
       "        cell.output_area.append_execute_result(NB_LOAD_WARNING)\n",
       "      }\n",
       "  \n",
       "    }\n",
       "  \n",
       "    if (window._bokeh_is_loading === 0) {\n",
       "      console.log(\"Bokeh: BokehJS loaded, going straight to plotting\");\n",
       "      run_inline_js();\n",
       "    } else {\n",
       "      load_libs(js_urls, function() {\n",
       "        console.log(\"Bokeh: BokehJS plotting callback run at\", now());\n",
       "        run_inline_js();\n",
       "      });\n",
       "    }\n",
       "  }(this));\n",
       "</script>"
      ]
     },
     "metadata": {},
     "output_type": "display_data"
    }
   ],
   "source": [
    "p = figure(tools=\"pan,wheel_zoom,reset,save\",\n",
    "           toolbar_location=\"above\",\n",
    "           title=\"word2vec T-SNE for most common words\")\n",
    "\n",
    "source = ColumnDataSource(data=dict(x1=words_top_ted_tsne[:,0],\n",
    "                                    x2=words_top_ted_tsne[:,1],\n",
    "                                    names=words_top_ted))\n",
    "\n",
    "p.scatter(x=\"x1\", y=\"x2\", size=8, source=source)\n",
    "\n",
    "labels = LabelSet(x=\"x1\", y=\"x2\", text=\"names\", y_offset=6,\n",
    "                  text_font_size=\"8pt\", text_color=\"#555555\",\n",
    "                  source=source, text_align='center')\n",
    "p.add_layout(labels)\n",
    "\n",
    "show(p)"
   ]
  },
  {
   "cell_type": "markdown",
   "metadata": {},
   "source": [
    "Interesitng example can be seen above where the cluster clearly contains words used for comparison. While words ending in \"er\" could be expected to be classified toghether due to their common suffix, the algorithm has also successfully clustered in \"more\" and \"less\" based on the common neighbours."
   ]
  },
  {
   "cell_type": "code",
   "execution_count": 30,
   "metadata": {
    "collapsed": false
   },
   "outputs": [
    {
     "data": {
      "text/plain": [
       "0.60563246034446616"
      ]
     },
     "execution_count": 30,
     "metadata": {},
     "output_type": "execute_result"
    }
   ],
   "source": [
    "model_ted.similarity('car', 'bicycle')"
   ]
  },
  {
   "cell_type": "code",
   "execution_count": 31,
   "metadata": {
    "collapsed": false
   },
   "outputs": [
    {
     "data": {
      "text/plain": [
       "0.60563248"
      ]
     },
     "execution_count": 31,
     "metadata": {},
     "output_type": "execute_result"
    }
   ],
   "source": [
    "car = model_ted['car']\n",
    "bicycle = model_ted['bicycle']\n",
    "\n",
    "np.dot(car, bicycle)/(np.linalg.norm(car)*np.linalg.norm(bicycle))"
   ]
  },
  {
   "cell_type": "markdown",
   "metadata": {},
   "source": [
    "As it can be seen the similarity measure of the model and the cosine distance are exactly the same."
   ]
  },
  {
   "cell_type": "markdown",
   "metadata": {},
   "source": [
    "### Part 5: Wiki Learnt Representations"
   ]
  },
  {
   "cell_type": "markdown",
   "metadata": {},
   "source": [
    "Download dataset"
   ]
  },
  {
   "cell_type": "code",
   "execution_count": 32,
   "metadata": {
    "collapsed": true
   },
   "outputs": [],
   "source": [
    "if not os.path.isfile('wikitext-103-raw-v1.zip'):\n",
    "    urllib.request.urlretrieve(\"https://s3.amazonaws.com/research.metamind.io/wikitext/wikitext-103-raw-v1.zip\", filename=\"wikitext-103-raw-v1.zip\")"
   ]
  },
  {
   "cell_type": "code",
   "execution_count": 33,
   "metadata": {
    "collapsed": false
   },
   "outputs": [],
   "source": [
    "with zipfile.ZipFile('wikitext-103-raw-v1.zip', 'r') as z:\n",
    "    input_text = str(z.open('wikitext-103-raw/wiki.train.raw', 'r').read())"
   ]
  },
  {
   "cell_type": "markdown",
   "metadata": {},
   "source": [
    "Preprocess sentences (note that it's important to remove small sentences for performance)"
   ]
  },
  {
   "cell_type": "code",
   "execution_count": 34,
   "metadata": {
    "collapsed": false
   },
   "outputs": [],
   "source": [
    "sentences_wiki = []\n",
    "for line in input_text.split('\\n'):\n",
    "    s = [x for x in line.split('.') if x and len(x.split()) >= 5]\n",
    "    sentences_wiki.extend(s)\n",
    "    \n",
    "for s_i in range(len(sentences_wiki)):\n",
    "    sentences_wiki[s_i] = re.sub(\"[^a-z]\", \" \", sentences_wiki[s_i].lower())\n",
    "    sentences_wiki[s_i] = re.sub(r'\\([^)]*\\)', '', sentences_wiki[s_i])\n",
    "del input_text"
   ]
  },
  {
   "cell_type": "code",
   "execution_count": 35,
   "metadata": {
    "collapsed": false
   },
   "outputs": [
    {
     "name": "stdout",
     "output_type": "stream",
     "text": [
      "3902491\n",
      "780498\n"
     ]
    }
   ],
   "source": [
    "# sample 1/5 of the data\n",
    "shuffle(sentences_wiki)\n",
    "print(len(sentences_wiki))\n",
    "sentences_wiki = sentences_wiki[:int(len(sentences_wiki)/5)]\n",
    "print(len(sentences_wiki))"
   ]
  },
  {
   "cell_type": "markdown",
   "metadata": {},
   "source": [
    "Now, repeat all the same steps that you performed above. You should be able to reuse essentially all the code."
   ]
  },
  {
   "cell_type": "code",
   "execution_count": 36,
   "metadata": {
    "collapsed": true
   },
   "outputs": [],
   "source": [
    "sentences_wiki_tok = []\n",
    "for sent_str in sentences_wiki:\n",
    "    tokens = re.sub(r\"[^a-z0-9]+\", \" \", sent_str.lower()).split()\n",
    "    sentences_wiki_tok.append(tokens)"
   ]
  },
  {
   "cell_type": "code",
   "execution_count": 37,
   "metadata": {
    "collapsed": false
   },
   "outputs": [
    {
     "name": "stdout",
     "output_type": "stream",
     "text": [
      "['n', 'n', 'antitumor', 'properties', 'n', 'n', 'research', 'conducted', 'in', 'suggests', 'that', 'extracts', 'from', 'polyozellus', 'multiplex', 'may', 'have', 'suppressive', 'effects', 'on', 'stomach', 'cancer']\n"
     ]
    }
   ],
   "source": [
    "print(sentences_wiki_tok[1])"
   ]
  },
  {
   "cell_type": "code",
   "execution_count": 38,
   "metadata": {
    "collapsed": false
   },
   "outputs": [],
   "source": [
    "WCw = {}\n",
    "\n",
    "lw = len(sentences_wiki_tok)\n",
    "\n",
    "for i in range(lw):\n",
    "    sl = len(sentences_wiki_tok[i])\n",
    "    for j in range(sl):\n",
    "        if sentences_wiki_tok[i][j] in WCw:\n",
    "            WCw[sentences_wiki_tok[i][j]] += 1\n",
    "        else:\n",
    "            WCw[sentences_wiki_tok[i][j]] = 1       "
   ]
  },
  {
   "cell_type": "code",
   "execution_count": 39,
   "metadata": {
    "collapsed": true
   },
   "outputs": [],
   "source": [
    "dw = Counter(WCw).most_common(1000)"
   ]
  },
  {
   "cell_type": "code",
   "execution_count": 40,
   "metadata": {
    "collapsed": true
   },
   "outputs": [],
   "source": [
    "model_wiki = Word2Vec(sentences_wiki_tok, min_count=10)"
   ]
  },
  {
   "cell_type": "code",
   "execution_count": 41,
   "metadata": {
    "collapsed": false
   },
   "outputs": [
    {
     "name": "stdout",
     "output_type": "stream",
     "text": [
      "48893\n"
     ]
    }
   ],
   "source": [
    "print(len(model_wiki.vocab))"
   ]
  },
  {
   "cell_type": "code",
   "execution_count": 42,
   "metadata": {
    "collapsed": false
   },
   "outputs": [
    {
     "data": {
      "text/plain": [
       "[('fried', 0.8737301826477051),\n",
       " ('sauce', 0.8504369258880615),\n",
       " ('potato', 0.8235470652580261),\n",
       " ('cheese', 0.8227880597114563),\n",
       " ('steak', 0.8113231062889099),\n",
       " ('beef', 0.8104126453399658),\n",
       " ('onions', 0.808318555355072),\n",
       " ('beans', 0.7983804941177368),\n",
       " ('pork', 0.7913760542869568),\n",
       " ('tomato', 0.7893295884132385)]"
      ]
     },
     "execution_count": 42,
     "metadata": {},
     "output_type": "execute_result"
    }
   ],
   "source": [
    "model_wiki.most_similar(\"chicken\")"
   ]
  },
  {
   "cell_type": "code",
   "execution_count": 43,
   "metadata": {
    "collapsed": false
   },
   "outputs": [
    {
     "data": {
      "text/plain": [
       "[('pork', 0.8989481925964355),\n",
       " ('vegetables', 0.867498517036438),\n",
       " ('meat', 0.8623645901679993),\n",
       " ('butter', 0.8610756397247314),\n",
       " ('potatoes', 0.8494815230369568),\n",
       " ('spices', 0.8425906896591187),\n",
       " ('beans', 0.8400148153305054),\n",
       " ('dried', 0.8358799815177917),\n",
       " ('cheese', 0.8328332304954529),\n",
       " ('salted', 0.8305286765098572)]"
      ]
     },
     "execution_count": 43,
     "metadata": {},
     "output_type": "execute_result"
    }
   ],
   "source": [
    "model_wiki.most_similar(\"beef\")"
   ]
  },
  {
   "cell_type": "code",
   "execution_count": 44,
   "metadata": {
    "collapsed": false
   },
   "outputs": [
    {
     "data": {
      "text/plain": [
       "[('beef', 0.8989483118057251),\n",
       " ('beans', 0.8678421974182129),\n",
       " ('butter', 0.8673344254493713),\n",
       " ('vegetables', 0.8629944324493408),\n",
       " ('potatoes', 0.8441775441169739),\n",
       " ('salted', 0.8238231539726257),\n",
       " ('onions', 0.8178487420082092),\n",
       " ('garlic', 0.8150165677070618),\n",
       " ('fried', 0.8108026385307312),\n",
       " ('meat', 0.8103172779083252)]"
      ]
     },
     "execution_count": 44,
     "metadata": {},
     "output_type": "execute_result"
    }
   ],
   "source": [
    "model_wiki.most_similar(\"pork\")"
   ]
  },
  {
   "cell_type": "code",
   "execution_count": 45,
   "metadata": {
    "collapsed": true
   },
   "outputs": [],
   "source": [
    "words_top_wiki = [None] * len(dw)\n",
    "for i in range(len(dw)):\n",
    "    words_top_wiki[i] = dw[i][0]\n",
    "\n",
    "words_top_vec_ted = model_ted[words_top_ted]"
   ]
  },
  {
   "cell_type": "markdown",
   "metadata": {},
   "source": [
    "#### t-SNE visualization"
   ]
  },
  {
   "cell_type": "code",
   "execution_count": 46,
   "metadata": {
    "collapsed": false
   },
   "outputs": [],
   "source": [
    "# This assumes words_top_ted is a list of strings, the top 1000 words\n",
    "words_top_vec_wiki = model_wiki[words_top_wiki]\n",
    "\n",
    "tsne = TSNE(n_components=2, random_state=0)\n",
    "words_top_wiki_tsne = tsne.fit_transform(words_top_vec_wiki)"
   ]
  },
  {
   "cell_type": "code",
   "execution_count": 47,
   "metadata": {
    "collapsed": false
   },
   "outputs": [
    {
     "data": {
      "text/html": [
       "\n",
       "\n",
       "    <div class=\"bk-root\">\n",
       "        <div class=\"plotdiv\" id=\"88c5d456-dd33-4586-a4d9-113624aced93\"></div>\n",
       "    </div>\n",
       "<script type=\"text/javascript\">\n",
       "  \n",
       "  (function(global) {\n",
       "    function now() {\n",
       "      return new Date();\n",
       "    }\n",
       "  \n",
       "    var force = \"\";\n",
       "  \n",
       "    if (typeof (window._bokeh_onload_callbacks) === \"undefined\" || force !== \"\") {\n",
       "      window._bokeh_onload_callbacks = [];\n",
       "      window._bokeh_is_loading = undefined;\n",
       "    }\n",
       "  \n",
       "  \n",
       "    \n",
       "    if (typeof (window._bokeh_timeout) === \"undefined\" || force !== \"\") {\n",
       "      window._bokeh_timeout = Date.now() + 0;\n",
       "      window._bokeh_failed_load = false;\n",
       "    }\n",
       "  \n",
       "    var NB_LOAD_WARNING = {'data': {'text/html':\n",
       "       \"<div style='background-color: #fdd'>\\n\"+\n",
       "       \"<p>\\n\"+\n",
       "       \"BokehJS does not appear to have successfully loaded. If loading BokehJS from CDN, this \\n\"+\n",
       "       \"may be due to a slow or bad network connection. Possible fixes:\\n\"+\n",
       "       \"</p>\\n\"+\n",
       "       \"<ul>\\n\"+\n",
       "       \"<li>re-rerun `output_notebook()` to attempt to load from CDN again, or</li>\\n\"+\n",
       "       \"<li>use INLINE resources instead, as so:</li>\\n\"+\n",
       "       \"</ul>\\n\"+\n",
       "       \"<code>\\n\"+\n",
       "       \"from bokeh.resources import INLINE\\n\"+\n",
       "       \"output_notebook(resources=INLINE)\\n\"+\n",
       "       \"</code>\\n\"+\n",
       "       \"</div>\"}};\n",
       "  \n",
       "    function display_loaded() {\n",
       "      if (window.Bokeh !== undefined) {\n",
       "        Bokeh.$(\"#88c5d456-dd33-4586-a4d9-113624aced93\").text(\"BokehJS successfully loaded.\");\n",
       "      } else if (Date.now() < window._bokeh_timeout) {\n",
       "        setTimeout(display_loaded, 100)\n",
       "      }\n",
       "    }\n",
       "  \n",
       "    function run_callbacks() {\n",
       "      window._bokeh_onload_callbacks.forEach(function(callback) { callback() });\n",
       "      delete window._bokeh_onload_callbacks\n",
       "      console.info(\"Bokeh: all callbacks have finished\");\n",
       "    }\n",
       "  \n",
       "    function load_libs(js_urls, callback) {\n",
       "      window._bokeh_onload_callbacks.push(callback);\n",
       "      if (window._bokeh_is_loading > 0) {\n",
       "        console.log(\"Bokeh: BokehJS is being loaded, scheduling callback at\", now());\n",
       "        return null;\n",
       "      }\n",
       "      if (js_urls == null || js_urls.length === 0) {\n",
       "        run_callbacks();\n",
       "        return null;\n",
       "      }\n",
       "      console.log(\"Bokeh: BokehJS not loaded, scheduling load and callback at\", now());\n",
       "      window._bokeh_is_loading = js_urls.length;\n",
       "      for (var i = 0; i < js_urls.length; i++) {\n",
       "        var url = js_urls[i];\n",
       "        var s = document.createElement('script');\n",
       "        s.src = url;\n",
       "        s.async = false;\n",
       "        s.onreadystatechange = s.onload = function() {\n",
       "          window._bokeh_is_loading--;\n",
       "          if (window._bokeh_is_loading === 0) {\n",
       "            console.log(\"Bokeh: all BokehJS libraries loaded\");\n",
       "            run_callbacks()\n",
       "          }\n",
       "        };\n",
       "        s.onerror = function() {\n",
       "          console.warn(\"failed to load library \" + url);\n",
       "        };\n",
       "        console.log(\"Bokeh: injecting script tag for BokehJS library: \", url);\n",
       "        document.getElementsByTagName(\"head\")[0].appendChild(s);\n",
       "      }\n",
       "    };var element = document.getElementById(\"88c5d456-dd33-4586-a4d9-113624aced93\");\n",
       "    if (element == null) {\n",
       "      console.log(\"Bokeh: ERROR: autoload.js configured with elementid '88c5d456-dd33-4586-a4d9-113624aced93' but no matching script tag was found. \")\n",
       "      return false;\n",
       "    }\n",
       "  \n",
       "    var js_urls = [];\n",
       "  \n",
       "    var inline_js = [\n",
       "      function(Bokeh) {\n",
       "        Bokeh.$(function() {\n",
       "            var docs_json = {\"6968747d-e3fb-423a-8039-361551da8f12\":{\"roots\":{\"references\":[{\"attributes\":{},\"id\":\"e46efc01-d57e-4749-8b60-07b57c9dac0a\",\"type\":\"ToolEvents\"},{\"attributes\":{\"active_drag\":\"auto\",\"active_scroll\":\"auto\",\"active_tap\":\"auto\",\"tools\":[{\"id\":\"4eef7d97-cc1d-4a55-bd79-c896612a7ee8\",\"type\":\"PanTool\"},{\"id\":\"37a6b8a3-0a46-4254-93aa-edc2e0770711\",\"type\":\"WheelZoomTool\"},{\"id\":\"b1cd14cb-1df4-4bad-9714-4807799777ba\",\"type\":\"ResetTool\"},{\"id\":\"72e489f8-ba82-497f-9aaf-610144f23d9d\",\"type\":\"SaveTool\"}]},\"id\":\"f808a406-25b5-4d94-b9d1-5bf75d6779bf\",\"type\":\"Toolbar\"},{\"attributes\":{\"plot\":{\"id\":\"c4771b26-e647-4b5b-b401-269624ebf844\",\"subtype\":\"Figure\",\"type\":\"Plot\"}},\"id\":\"37a6b8a3-0a46-4254-93aa-edc2e0770711\",\"type\":\"WheelZoomTool\"},{\"attributes\":{\"formatter\":{\"id\":\"ab9c9495-fc2b-4fb2-b04a-42277dc3e2f2\",\"type\":\"BasicTickFormatter\"},\"plot\":{\"id\":\"c4771b26-e647-4b5b-b401-269624ebf844\",\"subtype\":\"Figure\",\"type\":\"Plot\"},\"ticker\":{\"id\":\"51ca43b9-2c26-4de7-bbd8-32905ae72057\",\"type\":\"BasicTicker\"}},\"id\":\"8d3e298f-57d9-43a1-b483-967c9de4f8f2\",\"type\":\"LinearAxis\"},{\"attributes\":{\"dimension\":1,\"plot\":{\"id\":\"c4771b26-e647-4b5b-b401-269624ebf844\",\"subtype\":\"Figure\",\"type\":\"Plot\"},\"ticker\":{\"id\":\"51ca43b9-2c26-4de7-bbd8-32905ae72057\",\"type\":\"BasicTicker\"}},\"id\":\"f09aee36-23db-4c81-bde1-115ca149132a\",\"type\":\"Grid\"},{\"attributes\":{},\"id\":\"51ca43b9-2c26-4de7-bbd8-32905ae72057\",\"type\":\"BasicTicker\"},{\"attributes\":{\"plot\":{\"id\":\"c4771b26-e647-4b5b-b401-269624ebf844\",\"subtype\":\"Figure\",\"type\":\"Plot\"},\"source\":{\"id\":\"68b960ea-99b6-451c-8099-4f88caa2bcdf\",\"type\":\"ColumnDataSource\"},\"text\":{\"field\":\"names\"},\"text_align\":\"center\",\"text_color\":{\"value\":\"#555555\"},\"text_font_size\":{\"value\":\"8pt\"},\"x\":{\"field\":\"x1\"},\"y\":{\"field\":\"x2\"},\"y_offset\":{\"value\":6}},\"id\":\"a0a1dbe9-cc2d-4581-8231-0bf805a18041\",\"type\":\"LabelSet\"},{\"attributes\":{\"fill_alpha\":{\"value\":0.1},\"fill_color\":{\"value\":\"#1f77b4\"},\"line_alpha\":{\"value\":0.1},\"line_color\":{\"value\":\"#1f77b4\"},\"size\":{\"units\":\"screen\",\"value\":8},\"x\":{\"field\":\"x1\"},\"y\":{\"field\":\"x2\"}},\"id\":\"50f9aea1-6ff4-447a-bcf2-9bb1fbf08f3b\",\"type\":\"Circle\"},{\"attributes\":{\"plot\":null,\"text\":\"word2vec T-SNE for most common words\"},\"id\":\"d7c47208-2482-49fe-8456-f018f3a598be\",\"type\":\"Title\"},{\"attributes\":{\"plot\":{\"id\":\"c4771b26-e647-4b5b-b401-269624ebf844\",\"subtype\":\"Figure\",\"type\":\"Plot\"}},\"id\":\"4eef7d97-cc1d-4a55-bd79-c896612a7ee8\",\"type\":\"PanTool\"},{\"attributes\":{\"plot\":{\"id\":\"c4771b26-e647-4b5b-b401-269624ebf844\",\"subtype\":\"Figure\",\"type\":\"Plot\"}},\"id\":\"b1cd14cb-1df4-4bad-9714-4807799777ba\",\"type\":\"ResetTool\"},{\"attributes\":{\"formatter\":{\"id\":\"56dfeba2-250e-4724-9437-58484615916c\",\"type\":\"BasicTickFormatter\"},\"plot\":{\"id\":\"c4771b26-e647-4b5b-b401-269624ebf844\",\"subtype\":\"Figure\",\"type\":\"Plot\"},\"ticker\":{\"id\":\"aab6faf9-6ae7-4d0d-a984-678b65088ff1\",\"type\":\"BasicTicker\"}},\"id\":\"12b75225-1e10-42da-a407-f0b58a237997\",\"type\":\"LinearAxis\"},{\"attributes\":{\"plot\":{\"id\":\"c4771b26-e647-4b5b-b401-269624ebf844\",\"subtype\":\"Figure\",\"type\":\"Plot\"},\"ticker\":{\"id\":\"aab6faf9-6ae7-4d0d-a984-678b65088ff1\",\"type\":\"BasicTicker\"}},\"id\":\"75ee41ba-a751-4bf0-99a5-342dbfcb43fb\",\"type\":\"Grid\"},{\"attributes\":{\"fill_color\":{\"value\":\"#1f77b4\"},\"line_color\":{\"value\":\"#1f77b4\"},\"size\":{\"units\":\"screen\",\"value\":8},\"x\":{\"field\":\"x1\"},\"y\":{\"field\":\"x2\"}},\"id\":\"adbad3c1-ec73-4515-8b74-375b077f9c52\",\"type\":\"Circle\"},{\"attributes\":{\"callback\":null},\"id\":\"862b9165-29e4-4671-98b9-f9f842c29545\",\"type\":\"DataRange1d\"},{\"attributes\":{\"callback\":null,\"column_names\":[\"x1\",\"x2\",\"names\"],\"data\":{\"names\":[\"the\",\"of\",\"and\",\"in\",\"to\",\"n\",\"a\",\"was\",\"s\",\"on\",\"x\",\"as\",\"for\",\"that\",\"with\",\"by\",\"is\",\"his\",\"at\",\"he\",\"from\",\"it\",\"were\",\"xe\",\"an\",\"had\",\"which\",\"xc\",\"be\",\"this\",\"but\",\"first\",\"are\",\"not\",\"their\",\"after\",\"one\",\"her\",\"also\",\"its\",\"they\",\"two\",\"or\",\"have\",\"who\",\"been\",\"new\",\"has\",\"she\",\"when\",\"time\",\"during\",\"xa\",\"other\",\"would\",\"into\",\"all\",\"i\",\"more\",\"while\",\"over\",\"him\",\"game\",\"later\",\"only\",\"up\",\"most\",\"about\",\"out\",\"three\",\"th\",\"between\",\"than\",\"there\",\"some\",\"film\",\"may\",\"xb\",\"before\",\"year\",\"no\",\"made\",\"second\",\"such\",\"where\",\"season\",\"years\",\"war\",\"world\",\"both\",\"however\",\"used\",\"then\",\"song\",\"through\",\"being\",\"series\",\"these\",\"them\",\"against\",\"album\",\"m\",\"many\",\"team\",\"north\",\"city\",\"became\",\"united\",\"number\",\"several\",\"part\",\"four\",\"including\",\"well\",\"can\",\"early\",\"state\",\"under\",\"south\",\"music\",\"day\",\"so\",\"episode\",\"states\",\"said\",\"following\",\"known\",\"could\",\"although\",\"work\",\"american\",\"did\",\"began\",\"until\",\"because\",\"released\",\"like\",\"called\",\"t\",\"high\",\"end\",\"people\",\"british\",\"long\",\"since\",\"around\",\"life\",\"each\",\"september\",\"national\",\"if\",\"us\",\"west\",\"same\",\"found\",\"back\",\"best\",\"took\",\"five\",\"million\",\"along\",\"another\",\"d\",\"show\",\"km\",\"any\",\"final\",\"you\",\"group\",\"area\",\"century\",\"use\",\"august\",\"school\",\"off\",\"received\",\"october\",\"john\",\"what\",\"will\",\"line\",\"due\",\"system\",\"government\",\"single\",\"east\",\"july\",\"june\",\"games\",\"march\",\"home\",\"november\",\"third\",\"much\",\"down\",\"large\",\"set\",\"general\",\"april\",\"left\",\"major\",\"family\",\"place\",\"house\",\"york\",\"based\",\"played\",\"company\",\"december\",\"january\",\"just\",\"we\",\"history\",\"included\",\"character\",\"army\",\"road\",\"king\",\"now\",\"band\",\"won\",\"name\",\"main\",\"six\",\"wrote\",\"led\",\"last\",\"described\",\"men\",\"near\",\"death\",\"according\",\"own\",\"air\",\"within\",\"those\",\"st\",\"times\",\"video\",\"river\",\"record\",\"c\",\"de\",\"release\",\"named\",\"next\",\"league\",\"top\",\"battle\",\"late\",\"b\",\"way\",\"production\",\"very\",\"even\",\"small\",\"original\",\"still\",\"species\",\"ship\",\"february\",\"club\",\"make\",\"u\",\"route\",\"old\",\"force\",\"great\",\"man\",\"storm\",\"public\",\"though\",\"again\",\"held\",\"built\",\"days\",\"play\",\"book\",\"division\",\"university\",\"among\",\"service\",\"french\",\"further\",\"power\",\"side\",\"having\",\"german\",\"role\",\"h\",\"do\",\"story\",\"members\",\"match\",\"white\",\"continued\",\"point\",\"career\",\"park\",\"player\",\"water\",\"came\",\"often\",\"town\",\"black\",\"order\",\"local\",\"former\",\"despite\",\"england\",\"party\",\"half\",\"take\",\"island\",\"support\",\"without\",\"form\",\"written\",\"few\",\"considered\",\"version\",\"county\",\"songs\",\"different\",\"period\",\"development\",\"moved\",\"english\",\"become\",\"lost\",\"building\",\"military\",\"little\",\"court\",\"ii\",\"international\",\"given\",\"country\",\"forces\",\"tropical\",\"president\",\"london\",\"re\",\"performance\",\"church\",\"gave\",\"street\",\"lead\",\"tour\",\"my\",\"never\",\"short\",\"attack\",\"royal\",\"position\",\"xd\",\"returned\",\"similar\",\"land\",\"published\",\"went\",\"class\",\"track\",\"produced\",\"highway\",\"run\",\"aircraft\",\"e\",\"television\",\"stated\",\"using\",\"making\",\"control\",\"children\",\"live\",\"total\",\"western\",\"star\",\"women\",\"week\",\"ships\",\"father\",\"recorded\",\"include\",\"throughout\",\"per\",\"upon\",\"how\",\"right\",\"fire\",\"good\",\"himself\",\"me\",\"love\",\"australia\",\"head\",\"once\",\"central\",\"rock\",\"instead\",\"players\",\"design\",\"less\",\"title\",\"writing\",\"characters\",\"age\",\"across\",\"developed\",\"light\",\"months\",\"previous\",\"return\",\"law\",\"f\",\"away\",\"southern\",\"young\",\"seven\",\"sea\",\"remained\",\"station\",\"political\",\"ten\",\"hurricane\",\"eight\",\"died\",\"r\",\"ft\",\"created\",\"red\",\"field\",\"office\",\"style\",\"james\",\"eventually\",\"result\",\"son\",\"too\",\"william\",\"center\",\"noted\",\"night\",\"reported\",\"college\",\"felt\",\"act\",\"low\",\"reached\",\"america\",\"award\",\"together\",\"construction\",\"race\",\"various\",\"win\",\"followed\",\"announced\",\"sent\",\"miles\",\"areas\",\"should\",\"seen\",\"japanese\",\"full\",\"served\",\"george\",\"level\",\"northern\",\"performed\",\"taken\",\"range\",\"established\",\"chart\",\"campaign\",\"member\",\"located\",\"action\",\"killed\",\"australian\",\"common\",\"points\",\"appeared\",\"football\",\"able\",\"caused\",\"started\",\"post\",\"born\",\"others\",\"thought\",\"modern\",\"get\",\"features\",\"front\",\"mm\",\"present\",\"success\",\"works\",\"heavy\",\"body\",\"formed\",\"playing\",\"behind\",\"originally\",\"critics\",\"added\",\"director\",\"site\",\"addition\",\"bridge\",\"project\",\"rather\",\"decided\",\"saw\",\"see\",\"strong\",\"feet\",\"every\",\"special\",\"sold\",\"fourth\",\"eastern\",\"soon\",\"kingdom\",\"championship\",\"almost\",\"stage\",\"completed\",\"damage\",\"popular\",\"important\",\"open\",\"region\",\"david\",\"command\",\"fleet\",\"leading\",\"o\",\"case\",\"ground\",\"initially\",\"france\",\"art\",\"go\",\"non\",\"close\",\"opened\",\"coast\",\"hall\",\"recording\",\"awards\",\"working\",\"weeks\",\"union\",\"population\",\"towards\",\"guns\",\"free\",\"brought\",\"mother\",\"michael\",\"cup\",\"event\",\"worked\",\"provided\",\"mi\",\"henry\",\"scored\",\"l\",\"least\",\"average\",\"wanted\",\"records\",\"does\",\"sound\",\"washington\",\"generally\",\"scene\",\"help\",\"troops\",\"hit\",\"xce\",\"runs\",\"training\",\"ever\",\"allowed\",\"featured\",\"victory\",\"events\",\"robert\",\"wife\",\"studio\",\"either\",\"magazine\",\"navy\",\"mid\",\"council\",\"summer\",\"put\",\"placed\",\"nine\",\"co\",\"far\",\"designed\",\"finished\",\"europe\",\"example\",\"human\",\"joined\",\"brown\",\"start\",\"opening\",\"base\",\"hours\",\"list\",\"believed\",\"crew\",\"association\",\"earlier\",\"european\",\"al\",\"largest\",\"replaced\",\"official\",\"operation\",\"squadron\",\"beginning\",\"rest\",\"minutes\",\"mph\",\"shot\",\"involved\",\"review\",\"saying\",\"society\",\"change\",\"media\",\"successful\",\"met\",\"significant\",\"month\",\"particularly\",\"big\",\"forced\",\"come\",\"possible\",\"japan\",\"process\",\"police\",\"better\",\"must\",\"research\",\"radio\",\"available\",\"cast\",\"community\",\"test\",\"highest\",\"lower\",\"previously\",\"captain\",\"films\",\"additional\",\"increased\",\"middle\",\"relationship\",\"business\",\"praised\",\"charles\",\"taking\",\"appearance\",\"section\",\"ended\",\"thomas\",\"canada\",\"outside\",\"stone\",\"passed\",\"social\",\"above\",\"going\",\"winds\",\"units\",\"turned\",\"real\",\"reviews\",\"rights\",\"thus\",\"chief\",\"elements\",\"enough\",\"space\",\"move\",\"san\",\"critical\",\"future\",\"ordered\",\"infantry\",\"goal\",\"signed\",\"failed\",\"g\",\"interest\",\"female\",\"gold\",\"don\",\"cross\",\"hill\",\"spent\",\"parts\",\"overall\",\"v\",\"district\",\"gun\",\"type\",\"california\",\"round\",\"germany\",\"told\",\"board\",\"positive\",\"plan\",\"castle\",\"program\",\"directed\",\"staff\",\"lines\",\"brother\",\"lake\",\"find\",\"bill\",\"hand\",\"paul\",\"money\",\"india\",\"grand\",\"groups\",\"news\",\"committee\",\"attempt\",\"study\",\"battalion\",\"uk\",\"reception\",\"prior\",\"person\",\"personal\",\"evidence\",\"cover\",\"plot\",\"room\",\"musical\",\"election\",\"give\",\"port\",\"introduced\",\"p\",\"whose\",\"term\",\"already\",\"itself\",\"food\",\"novel\",\"green\",\"our\",\"limited\",\"stars\",\"complete\",\"past\",\"usually\",\"whom\",\"bay\",\"score\",\"governor\",\"asked\",\"loss\",\"claimed\",\"sometimes\",\"required\",\"background\",\"issue\",\"square\",\"entire\",\"debut\",\"students\",\"quickly\",\"anti\",\"indian\",\"smith\",\"ny\",\"industry\",\"effects\",\"press\",\"education\",\"response\",\"britain\",\"minister\",\"flight\",\"woman\",\"movement\",\"village\",\"turn\",\"carried\",\"arrived\",\"episodes\",\"operations\",\"car\",\"idea\",\"earth\",\"science\",\"k\",\"richard\",\"estimated\",\"teams\",\"la\",\"especially\",\"influence\",\"speed\",\"surface\",\"services\",\"mark\",\"peter\",\"islands\",\"fifth\",\"decision\",\"becoming\",\"shows\",\"commercial\",\"dark\",\"writer\",\"virginia\",\"centre\",\"length\",\"civil\",\"material\",\"voice\",\"structure\",\"might\",\"scenes\",\"appointed\",\"pressure\",\"living\",\"latter\",\"department\",\"running\",\"changes\",\"nearly\",\"language\",\"experience\",\"suggested\",\"larger\",\"blue\",\"destroyed\",\"tracks\",\"proposed\",\"cut\",\"pop\",\"entered\",\"leaving\",\"remaining\",\"shortly\",\"compared\",\"commander\",\"daughter\",\"producer\",\"child\",\"los\",\"defeated\",\"date\",\"depression\",\"god\",\"course\",\"percent\",\"nature\",\"married\",\"higher\",\"provide\",\"today\",\"approximately\",\"naval\",\"immediately\",\"spanish\",\"queen\",\"self\",\"brigade\",\"winning\",\"leader\",\"report\",\"lack\",\"soviet\",\"wide\",\"view\",\"size\",\"network\",\"empire\",\"finally\",\"whether\",\"fact\",\"regular\",\"nd\",\"manager\",\"current\",\"guitar\",\"agreed\",\"intended\",\"subsequently\",\"helped\",\"health\",\"officer\",\"done\",\"awarded\",\"related\",\"professional\",\"planned\",\"chicago\",\"ball\",\"hot\",\"railway\",\"natural\",\"chinese\",\"private\",\"cost\",\"fans\",\"upper\",\"museum\",\"regiment\",\"lyrics\",\"yet\",\"fort\",\"johnson\",\"associated\",\"contract\",\"edward\",\"plans\",\"face\",\"longer\",\"your\",\"supported\",\"corps\",\"initial\",\"probably\",\"moving\",\"countries\",\"j\",\"soldiers\",\"singles\",\"lord\",\"appear\",\"forward\",\"status\",\"conference\",\"remains\",\"extended\",\"got\",\"trade\",\"jackson\",\"create\",\"books\",\"captured\",\"changed\",\"copies\",\"buildings\",\"albums\",\"friend\",\"friends\",\"something\",\"effect\",\"location\",\"federal\",\"numerous\",\"information\",\"key\",\"mostly\",\"cm\",\"issued\",\"mixed\",\"minor\",\"themselves\",\"edition\",\"leave\",\"likely\",\"know\",\"inspired\",\"suffered\",\"atlantic\",\"independent\",\"billboard\",\"pacific\",\"always\",\"valley\",\"includes\",\"pass\",\"energy\",\"problems\",\"difficult\",\"feature\",\"unit\",\"minute\",\"officers\"],\"x1\":[4.7045923692803395,5.12446871057711,-2.7162682731611407,6.741976595521023,-1.8236460109527832,-9.789560759612922,7.295799852467118,-22.2462974525531,-11.840158311595163,7.350808304228855,-10.292811143829816,-2.3159653140245213,4.463876409811245,-14.865322337594618,-3.879156520204988,-1.265826797655865,-22.24371986623528,-4.255595759413032,15.20833546571222,-10.435736874680602,-0.587266351128173,-3.6525835255828865,-4.0217963406424255,-17.041476254217297,6.944283431578555,-4.722277833965896,-15.452055508423003,-12.737600515566655,3.019853036193216,-3.16735879831688,-14.670034552287328,3.2346580089735424,-4.022458440336071,-0.04816448215481639,-3.615843442978463,17.51763039756253,10.744858445124486,-4.310461655501549,1.2822773969544483,-3.5608578629985033,-8.599622053154805,13.531162634370043,3.8709639264190394,-4.6380132402371075,2.627258600630813,-6.362701601966558,3.095314163621981,-4.715051243777596,-10.45029754132639,-16.28312399346476,6.1121113779121705,8.328167736398017,-11.404966819889093,13.828903729493229,0.6996578198642686,16.861512011595167,12.250822376212946,-8.023008582423161,11.32431814506785,-4.235897663330395,16.773174741310786,-2.945429084048787,10.05315805494755,3.0154577813270658,2.016624431869304,14.078867705571145,-0.07630729789212902,9.861677736889186,14.79973823487296,13.40062814618787,-21.314882692371725,18.230527600293723,1.9979145627249781,0.7040515216051623,14.278999346971583,-8.274118083688442,1.4619362833248615,-11.319629688797406,17.54490087232328,11.216239669931094,2.739496984489096,-3.7744746806649023,3.2989975288555793,-19.83539499177046,-15.999207878047942,10.926585918959963,13.403478598137683,13.422010045985662,18.294596767114914,12.698219898746766,-14.584766487103302,-16.662910635720273,1.4311312757530585,-9.398103259048673,16.93111262448708,4.1770379061961895,-6.995757206881413,14.49978116449802,-2.5419185752863784,6.28806138768673,-9.557491172090046,-9.869168395145863,14.157798585940569,14.16192277066033,19.07688362150327,10.829274088730838,-5.165379105000053,17.28713969081062,11.809449401690644,13.809311388425366,-5.685489453554134,13.257184325612316,-8.76242032680373,-19.805708001397587,1.3351158910897223,3.755065133053198,9.055483795645305,7.701769628316608,19.00614199147544,-8.447832099370745,11.185024895222563,-5.07341755976603,-7.7828112034228125,20.99033767267569,-20.430852859326208,17.45682178155506,-15.981109918345833,0.7442279576627449,-14.548941491515478,-6.338171870946247,16.93327282491276,-0.8111454832313327,-11.64152456900811,-0.10695593173574805,-14.186387062340085,-11.356194770790982,0.138458944260614,-15.097275412329422,-6.694039256013516,1.9449559450528304,1.5489696478770916,1.825932183987128,15.772856965161262,0.19798267071845832,-0.9355469090183811,16.44026900989931,15.704093551909876,8.382856498079358,22.889581460032424,15.641806429737056,-13.966727028436939,16.37712081343693,18.584555826075018,6.020044391792843,-22.526071244413867,15.080995575901015,4.349924960636016,-5.052096677835449,12.961341243634065,10.959888250959311,16.33305583841086,7.3105687970280835,-10.478738758336108,7.6967361671618715,-13.657533389582758,3.7156060701312064,2.9351407667746066,-7.959874106399311,11.727360860473649,13.202747487893639,4.10328479120501,-7.767623955489414,22.927018970533478,6.948514588086916,14.873077474338817,-12.876897944884204,22.82603127410948,-15.34513016450337,-13.12652870843753,1.0425618785521749,6.272181864880406,31.93137214686788,-4.326876658754962,9.404001641981779,-9.203351060781332,18.62507543832155,22.82229324587926,22.74862235334033,10.054144370242655,22.388903588906945,9.425919858725154,22.514346829102596,3.358598604748918,-19.110498124162213,14.988441798072603,3.804026729357163,-6.099033541662555,-14.805250456227203,22.403367289005697,-5.7770706475988245,-5.2635672638952045,17.51058238019064,7.441043557273831,6.910792688718946,8.471582305073818,-8.540174969848273,-7.611120867883614,10.823367888045102,22.445579183110063,22.482402388682424,1.2556489274383966,-8.165108795808749,-1.7248396297637405,-9.779109205340697,-7.525651759958467,-20.071797097761035,10.340479186493697,18.077386725866162,0.3653140690383223,-9.544608387586159,-7.412266397419509,3.9744685559199397,5.647948095491837,13.071171350577634,-20.36422300684669,-14.159143792146121,3.1068539274236926,-21.36222462261446,-17.819450313536976,15.229459825275795,18.870983693138744,-12.4546478303019,3.73024558537898,-24.931033128969442,6.998686177943632,4.032549429149172,-21.316171495684642,8.388660582097108,-5.605242241309095,12.912553137821734,-7.779750391279611,-10.455951906883994,0.33024567976307767,10.507655094598714,-15.119094507018778,3.382625111029146,14.671075400126103,3.9529916938185137,-22.703844540007186,3.9020469978569428,-11.179267841698305,-1.5203678933117786,-5.145844429045095,-5.314167736643967,1.225397203463078,0.4822005578613151,4.135942705321156,1.8028197029664423,7.214517363792472,-23.480575570281705,22.634039835820914,14.65729798738274,-2.3613683380692554,16.371087973870445,10.401153718302265,3.5081404026096137,-19.96885134380849,1.6961507062929957,2.893426081712102,-25.347692952512272,9.60354298997249,-14.577675709133844,1.5728941396289142,-14.478406955949664,-15.814900501907522,13.033210124208484,-6.612176175872203,-4.2826828843630125,-21.189419055627212,7.142898848840497,8.702297581170642,11.710054505143653,15.616364821081538,2.6436891306094603,0.20035057839367515,8.026152559234593,-4.708003439235672,15.551578653043158,-7.625450901048038,-12.356687268542359,-0.16002326976442602,-6.441920265370794,-15.086478188889979,12.072982262229893,6.824324840142512,-12.133222711980176,7.664826517819022,15.363696322828364,11.740912711342293,12.813669271957654,2.1173792244511755,-12.64078062087415,3.355537818558393,12.18623428779837,5.885276211044627,-2.6092139109003205,10.719272247019358,-14.285885833085894,31.819381220542873,19.682707806383327,10.772817270170808,9.866340858229496,-3.744934326389916,14.58898770400056,-4.496664201820298,4.099014852909778,-4.374897415411022,-13.006244779125902,14.193500683027093,-22.4614784191073,-4.570153584111749,11.493821373207942,-9.88892240917678,13.538475558186576,5.069305349472051,-4.33327409891696,-11.920619085905805,15.579307956678567,-4.634039100189443,-7.378883454727009,8.518193917143666,13.643405499073507,1.7176777508629915,6.944127852143445,-11.271686103135142,15.836285331223685,-13.783339398761148,17.749284727291137,-19.54762816567198,-25.373315122681422,1.7103227580470193,9.334500413267735,0.17880303226197,6.565918686509816,8.615131675510224,-11.634680489142632,10.917283870953508,-1.7355776333395754,7.0568973943390265,-6.08961500200958,0.8114649635394031,0.21055502833711717,-21.241981651326107,18.08498686911812,5.292247269306834,-17.0365876367677,-11.35167925494482,-6.754111758390764,12.903308454743714,-12.647273559178025,-13.326242670965502,12.11141238495555,-10.285895283644917,-12.355723873331568,10.408552957244702,-3.6079265838963686,-23.216368040948364,-11.278134700027026,14.421764888737435,-20.56627748320576,-8.263694212482733,-3.805145374335062,-0.011857784514103959,2.6004902059239514,-8.466182506973704,11.092868475496708,17.671782166208157,-10.049791650396918,3.117652492902359,10.075272132595284,-23.51639087251944,18.153326885471742,-11.557269985752965,-8.926957476338819,8.223945573050019,9.60594025489741,7.397433029581516,-13.16068175715629,5.987934528079097,-20.556836866087828,1.5454365636809886,-3.1918268575542066,-7.114745588146214,-7.252283891773099,19.42461332736331,6.322017685824067,-1.798471578932381,17.918204749906877,-8.32553254352785,1.9080026277327584,13.392586434310322,-5.118500359116428,6.539874175971516,3.9587553311816572,-13.389686142636897,-7.564006569426033,2.465488877123197,16.56102963021385,-13.464766881250547,4.811321688222995,13.207129485636715,3.889342936635218,-1.5311352244422822,6.826870302443853,-11.065954503015346,14.973946749990901,17.632134870571008,3.474619947381948,12.804487868233176,15.354283330248496,-6.660421921576721,9.123602242306331,9.56079816192996,12.92958944995194,-25.355924517559455,12.79403016874655,-8.341138388912444,-11.821173837205977,-10.14336161085278,-14.602134375512954,6.275859359380596,5.002908467522589,6.7129009020541925,-7.842350388672313,-15.507288166720326,1.4631817124233018,-5.7617845249222395,18.702352425510743,-5.3975191629468515,-15.887575868112222,9.706053850841764,-20.933028155927637,9.804200166558122,-22.495294146834727,6.340385620822222,-20.852815966961753,6.193259718456501,2.1977396029068044,-10.372086185492282,17.837050131244276,6.088777887848807,13.723716654071007,8.063747003210198,10.89737911177269,13.697228629835138,-0.1454344890561323,-12.681870748639822,-19.64609365369762,-15.025825538388014,-13.36874476769695,13.209195933409699,0.957021135423781,-10.377978586316038,15.268644190070532,4.561001503258365,-9.708256146994776,-15.524368355593628,2.458365565896951,17.629922791176156,-11.124491214670925,-13.680558678878803,-11.644954869694542,-14.497797177007609,-10.956957520830306,-1.711397463363601,-15.005763976704737,-15.49634554811643,-1.4135217188231175,-8.23245577877522,16.84477082351112,-2.612092997385007,-3.756168845020927,-10.002692318877957,14.748661900892518,-16.82502859012161,-14.215066771210735,-11.274124972143913,6.64131234688577,-8.035853156011502,3.9426600696362883,-22.114934311390595,-1.77767549734719,-2.293837820445081,-8.77687647531044,7.678763288453836,-11.252469867015838,-1.6619554420308122,10.591883277011584,-6.559582697802746,1.925623974043264,5.192609299196965,-14.775193021592276,-6.855999982589546,6.814785427812971,0.8244914991498249,0.040020727772894255,-12.440408292557521,-14.392543112358858,9.976168097653122,-5.713974148240312,10.178798709866896,-5.113368566343444,8.154464877087001,-17.36557416722662,-11.84785539649884,-1.2041141504948207,1.7104840537473598,-10.105158930192093,8.223936815328312,5.6596326863641915,-12.382173699312684,3.3878181093563957,17.600517566367262,1.4539295773108585,20.989605236360067,12.872530168402747,10.91397484530799,6.897753056856332,-11.316839764571379,-4.038501438324821,10.231017264272474,-3.4272765374906107,6.1359348199980355,13.407530234521392,-14.519514071193067,-16.727371782374497,-22.91293663927251,-5.505500039893222,-12.703209427988691,-0.1666765009465217,4.76724979908772,0.9901586765400776,18.939103142506756,-7.102641516085254,-2.4278738962521387,4.971137915336087,1.5019734044692414,-11.38882481292845,16.136928192053674,8.133889122052034,-9.983608232812145,6.091258719938709,-6.266712130414226,13.16695157375118,12.22003646884874,13.035565901812836,17.30694706299205,-19.784335124509024,5.012078511915162,-14.859228857115479,18.314672593144927,-14.042456206349769,12.913681185912534,13.126829165696766,-9.622355197561436,-13.466879751431028,-13.428785458911918,-16.240949054097182,-6.3348982819438096,-11.554656523048905,8.899658900749168,10.793282990666299,-17.51200064603281,-7.7930385959040445,-0.8054998457626503,-8.578734545696866,8.318343466226676,1.9094749403869566,-9.039449103959496,-4.1291556203748545,-19.359122865284768,-5.252418140215541,-17.028334530213325,-3.7309155935286187,-20.516634861338535,-0.9734517066442998,-16.811538792042178,-10.023366816999358,-0.10536106355662199,8.743465169348845,-15.053196896523106,18.29025744160006,-10.071500959844245,3.5746669737756647,-3.3269577523470195,13.851218157491745,3.8683302807174043,8.685253198110326,4.681359052001578,-12.455091326526476,-14.588644366876366,12.701833753968529,-13.02686935208842,-19.14947016229764,-16.618035342800262,-10.477085985514945,18.225661574804498,-1.2705503428956282,1.191900167468863,-10.3484898646591,5.8427599525216465,1.7308773034209146,2.627031511216635,6.11498601232412,12.760447045271953,13.103497930053493,-22.120315370294094,-18.320301446716524,11.972437744558524,3.76501999801944,16.49155147169874,-14.509971948583082,5.431427092923192,-12.55789012231024,14.830331862508306,-21.61783273665358,-22.50945217719415,1.6245097363975107,5.477678947783052,12.22107051743423,-14.149901484267446,-4.300568254981406,-10.700218534479935,-2.8982981778708043,-18.88929489250357,10.684278755111883,-3.1014307017065867,-1.5899646875499145,10.283563145824699,-10.310721661471117,-5.028220902773695,13.598267336263275,-0.10722784248217393,-7.3894730812936436,-16.27774546155096,-2.555597855360552,-3.3385706504918122,18.308541873867362,-3.856590456705158,-17.1320345025681,8.213873153159103,1.1316715246030804,-3.086173880229348,14.752125467977578,-4.340705908279442,7.418728706113045,10.539647296993339,20.399769103531472,5.324864551202802,4.202921346032582,-0.12674265741113122,-16.19499517490754,-8.25010526661715,5.191975932502028,-4.056299843228744,4.693258945961407,16.530679448053533,11.385849585142452,-21.277703852339187,-15.829420283297827,-4.628676814359666,6.385889810725438,6.36820138936342,-10.788529079930722,-15.166008322352232,16.904655610022665,6.757491331018448,-7.216561644674602,-12.468919293185618,9.429226905768502,3.6332863856182427,-14.049959912475627,-14.534672589065272,-21.120893543277138,-12.488278111680607,1.9334069892320578,-0.52569987779774,5.751829034841509,3.7670410400539502,-15.666068035648879,-5.182383318292343,-5.60003731048891,5.628317396235477,-2.4806404447548402,10.225577497667302,-0.6732200907642122,-0.05926529821365012,-16.09212335464816,-20.511495496532845,-4.9553447735211895,-10.635230829893187,-16.73800705837985,-11.413808981991004,-1.8310312947680747,3.3129181338660105,17.241136202794983,-15.329455622194468,7.0664239524406645,10.473252946757414,-10.057593013024729,-5.339903987492956,-3.2873193178728504,-11.402239143100301,11.313509411675911,-19.27097791127134,-8.960651620743711,9.591919703831612,9.45844511100271,18.755261964313185,-20.406385461338278,8.415487762375427,-1.8782774078865623,23.103715475173004,9.474244217773101,-3.6406866082464764,-13.062442450768781,-17.931956503716112,6.08356410413072,18.831496301225087,12.694414282987935,-1.4329419940414099,5.7432345027698695,5.652281123178204,-14.231646695496265,-1.3668607658529752,17.9332269879492,16.525704319317008,11.801031730430369,-2.2040393609909383,8.603740602515918,-2.6150948546043056,-3.0922076144644097,-20.85892177777125,16.475359611457023,-0.7441634432204923,17.666151965040235,2.0356840108683887,2.7870373656490006,0.09604583553941654,-8.767919234269609,-7.137583500633978,6.649867731460643,-8.153118898196725,5.626768573295255,-2.212310008551684,14.17273157422305,-12.822712501771885,-11.328063934244426,-11.51412279686459,-3.0376076270057952,0.09904475995243445,4.38196488865859,1.6725744897098977,-5.873069150336801,6.379738748457735,-5.836028573629079,-4.179945436580535,-10.035073052180815,4.401617871456274,1.8218485625615222,4.327723187587749,2.6289620953514965,14.202691758055147,-4.963454265476468,1.71497317199163,-18.1086575366958,-6.500398260496262,-21.874270284112736,3.3668063829600725,-16.82827202418199,-9.359773788884151,0.318647464239992,8.298325872503503,5.32245769219342,5.825213436551037,6.9605146795619905,1.5081081657200444,13.756633945141182,16.549641995941208,-13.795833036918806,10.428728178279725,12.43338883656126,-2.6725145769474117,-1.3341648261784154,7.0129932227860285,-5.272050018908365,19.153853931108934,1.7389756203671811,-21.15341940308361,1.5864839395111492,11.178604336785073,10.091131148426351,-2.2679106339640014,-13.591350056303204,-9.782381346251006,-7.805691821622048,-22.060845707693105,-3.2038141957389725,-2.3901161037228045,2.956178850890382,-2.990718932491457,-11.235875454360226,-15.106726499039919,-23.21648261245176,14.592377633285972,0.3295232716887704,0.4808572191261533,-1.8267204273616526,2.2923730990539033,2.7964998501059153,11.370733331093376,-13.606176683710169,-14.278292375173542,14.853775431276407,3.3923934169309433,-0.22548571455868222,-4.793397263778949,7.683618820978446,11.698994189855554,5.3145931831621915,-13.855824895320316,8.399590304010477,9.688202356142476,-8.935246465207005,13.470677175286099,-6.724918214666915,-8.941995177767618,-4.562232452927137,0.9868715785861328,-9.018646926585662,-15.405112606875223,2.61038616043709,0.5846920612495802,4.516075555721391,8.49790148900004,-4.152899911096863,-3.6173627514443236,8.982911835350968,14.636888115167974,-1.9034801199542377,-23.36139374204128,3.3141873604283725,7.381927110995658,-8.797986803399844,-10.27875142468307,-22.735431599764556,-4.660574716206025,-8.388040546330041,-10.608802084466035,-5.499506694533711,6.3081171720166465,1.3307650617389513,-12.260375812462495,-16.412970665234948,18.553407888180534,-14.204511959918259,2.124603769484172,9.770538519621939,-8.06429927161335,3.859801811175162,-25.356519439005538,-5.194527127466427,0.7110123889400666,10.804481914744366,-0.3919541437069616,-8.032107411175318,3.214340780322253,-1.8647617744773677,-1.3779151186452656,10.076437000102887,13.82496125959593,1.246739489501237,15.404883989812555,18.06963317145101,2.5499948480265227,-20.831535856244727,-6.995738875224027,-15.072341098020374,-2.324903291927603,-0.5847663242422456,14.918268783698908,2.049622540905931,-0.9178773807780142,-10.059408590032678,14.135395511065674,19.43186793923596,3.3214955972952422,-13.827657058319863,-0.6433800269750264,5.56211750353678,-21.303536122020553,19.06641334548255,0.9030162999665667,-10.599639632841562,-17.41718091233209,-17.41784011786107,1.1507218117412688,-16.42589572281703,9.6874179965218,-16.826040318082924,-10.384397852475125,-13.760350549983558,-7.182280391381426,13.965403443169972,-17.494048102309996,8.893275228275991,-13.126411183108264,-10.925322846951511,9.147114501532519,0.8837353009075506,14.786044975218811,11.313019968369765,0.8563791221042836,1.531701567270918,3.5919388067183298,9.503912423076832,-20.81333388491606,-9.07741349901541,-0.2685829732824522,11.067817553294926,-13.689312838981513,-7.424279141410396,-0.7980668726814657,-16.201812932109565,22.787345840329575,4.9124716850576675,7.488721720753183,-6.074424646374021,-13.455857147143323,-20.820163008493566,3.641516121589367,-0.9091062908828778,-3.4617573169887144,17.555377067469557,-12.118325837708635,-18.264543084548322,-10.297541039685877,-16.419729676179312,-7.451186297244523,15.005859954559652,5.2599773468118824,15.236440863443335,-1.0810051256937658,-11.01736692868517,-13.534807510660777,12.19989454043376,-13.286399398256107,-1.8840087045974148,-6.2974979329149985,-5.761159042175302,-11.357919916830097,18.38269109100859,8.553559432423967,-10.197251618633485,17.322265882506144,17.13382480461667,-4.6175192708603126,-2.3420951770221836,10.098924096897576,8.903504260307402,13.697053002375492,-2.072275087021501,-5.755104125523562,3.262737442648425,-11.224060301730894,-14.866549701330545,0.1740003350405901,-5.6325107713390965,-2.4823470492948543,-4.5493018516942865,-1.6330774875522636,-2.288968806086048,-0.15491052938164962,-13.160558905575261,-8.830501050789753,16.013782596995505,14.76722034060286,-10.898032484967406,16.050595642018724,1.1032499479140636,12.693690895510763,-9.219458766180074,-2.494183354238019,0.9104444225920678,-2.7423570490352835,-3.0179891695501637,-7.722711225628206,-21.005696779110764,11.84761367214397,-17.506857737719304],\"x2\":[-5.891668379940373,-5.56886944390821,-3.569286966035297,-5.543212407612171,-7.785574072616419,1.8714190660338967,-10.03410883745884,-11.643999820756404,2.575286993308384,-6.606660948279649,-2.4285432897740353,-6.4948654255633524,-4.241125381791441,9.379466374335712,-7.2670257783268095,-6.917925455329255,-11.642459618377385,10.394156248450717,15.065561973041525,12.066727007391869,-8.77603583710229,5.562038342877303,-23.25879306209412,11.362719584049106,-9.807848364763666,20.385007235863473,8.747609334281448,-1.8234296656455018,-6.540430048430214,5.446394424078443,7.566752389362559,-15.284388716044724,-23.257871635471588,-4.344801048001549,10.976839045309395,-10.938133488629253,-12.47741459555417,10.378083593841287,-5.586546672066054,11.623654019975435,11.188074716500322,-10.364114847756314,-2.275407187906523,20.23663700503851,-20.253233733891726,-2.704012781046982,-5.081237029671497,20.3426220478592,12.081857283282734,8.189809740680284,-12.192228842792082,-5.714610200311501,-2.7595773192359903,-6.3412166444797,22.314749703748603,18.160680526069335,-7.586024773076164,10.65801014178749,-3.293575908464085,-6.680465719796611,15.966503468317104,9.621923855445983,-14.090897489071525,-10.175848039108589,-2.6749862109460008,19.340744485586836,-0.024913412026720705,-7.70207084195558,20.015249976720572,-10.550612209004802,-8.47829629348192,15.74380299807858,-1.6021126056449682,-2.8635393920122234,-7.977879924004415,16.161253843374034,22.659325539661133,-2.426764725662686,-10.93595961171591,-18.945491052267634,-2.4567980675763157,-19.02286188904524,-15.912007725093805,-12.320917377136707,8.438480288938326,-20.384135668874997,-17.004019107200214,4.746281665932266,4.88828559289156,-7.759044492976918,7.6151946152637695,-12.578239810850791,-9.374721551758231,6.516699216939514,17.42671315070375,-5.676086261065754,16.513888137486706,-7.016310979079516,9.88367969880399,-2.0334479829906917,6.822090491893877,0.2741936050316514,-8.169461972734652,-0.5823350183450033,12.371176326281306,12.474333231864684,-19.7129265995532,4.623457937065051,-11.143416037069784,-8.68045521684688,-0.6482674390031382,-10.624686436113516,-6.955307824478143,-12.242789126494541,21.675576652635637,-11.856359141532394,7.964203928041577,-4.221899264522721,12.339106272706395,5.173579956992338,-18.738420928061927,6.2233312649337185,17.087524184336374,3.0746384443328028,5.953238029554922,-10.930535914466711,-8.48659022562243,22.211176267277967,7.6303927501313185,3.709791747098201,8.081178403437892,22.034775602729855,-17.999875851591966,-9.646043363393693,7.837703998780284,-8.42203300215885,-1.5431110970232649,-7.42776589776078,7.808104277010652,9.677039352848436,-12.29397765412415,5.706742688555636,7.524255811684155,9.788205636703726,-5.34697003446211,16.425516860651815,-3.8413463347807357,-9.966212659004436,-2.8864874956509445,5.1665265959079685,9.314734700133247,3.6318675414755224,12.428398719098398,-9.194452896991585,5.223169036631906,19.45969121607475,-17.511019596148632,-17.079542901462567,-10.7323243135998,-10.180568808185116,16.847034429959546,-10.03168797413931,-0.7005266140761455,-17.088665786374488,15.558347866706159,-2.7480046721137055,-14.672066098628608,10.619693754006075,7.586762589368599,11.448908063839484,7.997390173192779,-2.941413282748493,-2.784520005778836,21.50483936755831,19.71972818809801,-13.463919751023209,-2.6835177872741633,2.5009721596869836,10.464577771459389,22.098306355908672,16.17122502718611,-2.313304341283903,1.7721551264665825,6.830069084196371,8.397344129137123,12.427347301226904,-2.6713362625079506,-2.428818628889363,-14.086990880367296,-2.457682729139519,1.464267854883471,-2.8467667529790655,-16.036132362482824,-10.820491544771166,19.697361629928352,9.39593711887285,-8.91021605701843,-1.0201992053215336,-2.7665659940921383,-15.421305311373152,-3.106315984033082,-3.6636836801629857,-12.03885934693282,12.317854101197817,10.469446312842761,-4.602566069373835,-11.113166013454778,2.6533232974557728,-2.7108860933471055,-2.355897466233825,-3.0773356121343847,10.800230324325115,-4.901632004039786,-8.392779364308302,13.915912659643542,-5.161818417061287,16.956929761188615,-0.5849944354554331,-3.0889191742749,5.604965865488857,-13.314626932920413,6.532233037034875,-6.5824553875154255,-10.698602837284968,6.720430362867927,-16.557679325397746,-14.633944071474172,3.2486978215122604,-4.607127399088837,15.04949489732663,-5.742122244525458,-4.918499924807294,1.3735874834350221,-2.455324902890445,-5.038693643340737,-0.04745912049404098,-8.470870290015771,-16.4023932037061,13.445590447907978,14.275845770587296,0.13122423491551954,0.7526318864059154,-21.918743098406594,-2.065927826459441,-7.45615516553525,-14.393131320254382,-1.4776285521065362,-17.035392713077634,-0.8309079597381166,-12.098703104107972,-1.3353070917112508,-12.687884384736877,3.7098280112342557,6.590358261724349,-2.0085044496150353,9.122797610460713,-7.217325834076145,-2.5079996674367067,17.743980685777622,-4.359040330835104,-2.3586422753260776,-1.1781586078280957,-18.03765972790886,3.8275566827026006,17.81513259337039,-10.407512289849858,-4.419902870422807,0.09327572883166801,3.5659393884863686,2.7628591993100238,3.9949580961668727,7.661781331285346,-8.48355871015764,-12.385297954629426,-11.37750004169837,-16.809692981740042,-10.761801510322172,13.999835233151673,-5.7127572326636145,21.23686328681128,-3.5912025650326487,0.7964805935157044,8.152711178102658,-7.83120821067195,13.122542724266697,0.636510253785983,20.359273130007722,6.120969917386771,13.119739776720946,-0.5779769122500931,-16.715254335758324,15.013230995928659,-3.517844735515464,-4.557673555243402,2.2336228987501214,-17.950541852765845,2.2864643931457316,-3.645392627425811,14.470921500880438,-1.5103177048816347,12.915757623733377,-18.245616819462498,-2.784163831664711,14.614103356962875,4.03277318715296,-8.333792764482334,4.501148769610375,1.193795580600027,-4.166444064428609,6.610329113976385,7.06741838462927,-11.127706284474447,-16.89441973536073,12.64327588466342,-8.09438860756342,-3.9626742105463264,1.0852832687316287,-7.964261137334512,-9.554592885624984,4.478509685893048,17.027850838661255,11.414566814197606,6.697706286764509,-6.368507404565127,-12.12044772748534,3.4923868506417053,-16.37590253324414,8.331281383192616,-19.9575883812665,-14.223199315482969,14.754867632071338,6.147782589698977,-1.0184597790126597,7.878747027757312,0.8350535452057515,5.209120991040006,-13.11389222243171,5.451064837334793,-4.6852857651243776,2.739170332289624,17.88257371536969,11.215077138541375,-7.536123298721223,-14.859028108172762,13.90323441767964,-19.77741966295023,16.61381179905539,-10.247886774673335,-13.99691324537855,10.172710523556153,-4.383805760628367,9.807050821134412,-0.5929180710716463,0.5818516267660533,5.538295671679428,11.549158166149626,-16.49789027758334,-5.131972545790591,12.365191035663004,-7.483201803668821,-18.199318006639942,-0.4414320878912589,5.9183305598929605,-8.911801609741005,17.88340906930539,-13.236018220069043,-3.294103161277421,-0.36601248285253285,1.8057542630376908,6.651957850608799,-3.0944498551193655,-19.054017309871693,13.099291336998805,5.421296947185787,2.5148237365012704,-10.156303622104312,11.300587998754974,-4.259687358395744,5.194588633275281,-18.69523384049833,-4.406706212679772,-5.741925965367427,-9.061845346478076,-7.187189838856796,-5.620857443445629,-9.8764863059369,-6.815606447503465,10.441465088305282,0.01823129702779447,1.688347789702116,-0.15006861904559754,9.430439413350804,9.735304974643407,8.886902038804198,6.2735072666711735,1.5281259540366925,-9.306165161627112,10.976299948108558,5.8098912864775745,-6.318788273994631,-3.315857303076922,2.0352934261442144,-1.38528383758576,6.498006103375728,5.110553350492212,14.07318123308333,-12.41740806423883,16.772975817704232,-10.259026310873345,3.571612555925256,-16.923389314847505,-10.20671221431085,-15.452758095337687,7.658295668547963,-0.929975414419751,19.636703035443972,11.390164067006063,3.6409023812902146,-10.712716158305513,11.47245438490537,-17.921529591024235,16.369145077404507,4.938785661066405,-11.280023963420492,2.7584966753613007,-10.741143550680459,-17.703546304779522,-1.0435034495361468,19.091884146700753,-8.55361557598,3.421581267148953,14.107633252238427,10.64650343452996,4.268499693071493,2.623175079404499,-8.313608948434645,-1.0238676780854425,-4.372766738159558,6.66148770158238,2.334283496573608,12.424029024003929,5.984932589670668,-18.8977198874621,5.7142643256572505,20.66495373543277,6.26255697503435,7.315037319103254,10.780386912876573,-15.78055157344281,7.8155493852343385,-20.832881150835934,17.742691365443076,15.09207197737529,-4.376588363817184,-7.7898916178759965,-13.819061356231582,-12.167092577813113,4.95874174771948,-15.347683103388427,15.788741190747299,11.399700341546977,22.253432646837023,-10.639833012491959,7.7765212665384915,-7.956082125639799,-13.051512079260664,2.1670592265557556,15.17957360613891,11.455122558985662,-9.237151546975262,-14.222156301357764,22.14233453846447,-10.904775069908014,8.786708463914941,5.167963472367886,-3.2715971273030955,-11.402907210907744,4.227680686619035,-16.22049217619194,7.752748423882383,-3.1565837504505985,-10.803666306806507,-9.601147239287615,-1.274526240345524,-15.65637942039035,-16.67588375435439,-17.916168464493715,10.176505073991038,-19.915359854880695,0.019665993752604076,5.6476467132379415,-3.7644020598592616,-16.62755607553178,-8.164299351655144,0.9648867598486378,19.467458563758893,-3.9098752705034068,-1.496349593020131,4.120211067098757,7.5176050454078345,0.5849643445947691,-10.77105427907517,-10.796390223262872,-4.281875254836253,-6.061978623567817,6.84605890909086,-11.018612571364184,4.662579281719541,14.634693853190885,-6.626340031868089,16.611461708220695,3.6586733656160577,-1.4421038036710425,-16.9695658207303,-18.86508010798538,-17.17218329644838,7.786588223911174,19.076803354807794,-9.920121486358871,-3.3261287504965495,-14.241323359367579,-16.11356745147629,11.446490496032292,-8.62781550607573,3.081479599558066,-3.9287858652390204,-7.7610257579714865,-12.665343482980504,-12.736862156388536,-0.9936847658410664,-0.2580270507167523,-3.220236865394865,-5.1155995187696215,11.402836430182957,2.9223201181370793,-1.3627960437215807,-4.929898712467471,-7.855968190047171,-0.17418275928508065,3.8437837072431864,14.137133849153628,-6.412688699044547,5.889488761124442,4.660567480968156,-16.07936593148541,-1.9376532938711337,8.0472001357623,-13.00365025487242,11.766225192195227,12.793707726538353,4.424334894244239,-20.826367497527432,2.376667071539667,-16.88587659125586,5.593900290286057,10.212363346457778,17.246237626552688,-1.510010983281881,-4.4664633341505855,-15.736155873119127,-3.6671741437117316,3.0522598348519323,-3.926449797481879,-6.134061405315856,-13.072566382649274,-12.005652384369315,15.742617599876324,2.1490918991565553,-12.283053785979293,-0.09103361979855695,-8.314832594938832,-9.44955061526412,-17.09728718506628,0.14014538993366848,22.029747249461767,4.392516171569512,9.730652959338514,-3.2379148022712245,14.703854700245534,-8.60645427249364,-4.823203657830416,-13.758207456655574,11.610841139151226,-11.823711155762886,-1.8591288503916297,-4.531853239594072,-15.499091940680204,-8.773393126262535,-13.822578307448575,-4.3314810260763466,2.5626963942074017,-4.650120025273748,4.2265892475181746,-2.2990104455115024,15.263730999930376,5.691529290770485,-12.00093319254454,6.64395769754899,-12.990811527549345,-15.707574001526433,-12.137636825987853,-10.809300321148939,0.8610766093433699,-10.884316047501093,-12.528840533368472,-17.937407384056037,6.245859746486697,-0.6254123721956565,1.3946071617706606,-14.743877537654171,2.728104172045224,-12.369519532850594,-14.158887089176341,3.517948757881292,-16.604285968831622,-12.68153494189118,4.773873123146172,-2.355366888403881,5.519165857089759,-10.469056747881442,6.033162713541984,0.2501002497394371,-17.7377721320416,-11.617709151932985,3.7736659335555616,-1.7977185429441138,-5.00724272956717,-12.246171381822746,-7.1337347518544805,-16.270763561631757,15.110314104343372,-13.353831686305428,-6.7751439569376295,15.243939407640474,7.079847327834758,5.7664742218833105,-0.21743146367502786,14.94691192373293,-0.3381952366291846,-14.787919078595705,-3.9682823784277312,-19.85860497689025,0.22387283456960105,-1.5494252441457812,-15.840755413033245,-16.070965524571736,-2.081386461320339,5.968977236291538,2.768071825607999,-3.6528666578301,-2.1462518107454986,22.045939670607176,7.4476818396666316,2.0865358550913067,-2.4958414212914652,-16.96467143737638,5.746944692629723,5.6661421764395925,-17.690505503520953,10.747664182724359,-5.728216550855666,-0.33378235037307713,16.20792473983609,-8.530710574314257,-3.916326015203609,11.581178074846735,-5.634668166318741,3.7739720806400605,6.310265087112329,2.1458894775411035,-16.88011595665779,-15.10375028704362,15.858955077245126,-18.01175706079279,2.3592361643036663,5.169151066317804,-4.817280919056341,1.3546272387137308,-15.455854375497998,4.812236019430642,11.827857294150256,-18.59579411826886,14.772536771205734,-3.293301573369598,-16.10920998364855,1.200805843243754,6.928260483177794,6.479149226644918,-4.6915520902954855,-1.4502772644819988,0.7664599061132884,6.789012798024594,12.860909562465084,-14.169010062754326,9.753470304935812,7.548142648512329,-3.791295258382342,-15.802731379189217,-5.4714566146274635,-10.964507828102079,-14.406917280068965,-17.46492835337298,-1.9585294961582336,2.2893504716040387,3.5013771811470016,3.212803458673901,4.069783093178382,3.4229173870687686,13.691468413698615,-16.926700677377568,0.058001404706894105,-10.242706619785771,0.25565355618751806,11.2935350451256,1.0763718959818513,-1.1543027607917549,9.883742446380912,-11.579064431973919,7.472316387664772,5.739796681256336,6.8109107415457215,6.802665979830024,-16.177513826627127,14.08316211669973,3.8097805836908796,-8.385528399011529,-2.4344779097993614,16.23990989653108,-4.6361733852476235,13.82129144438342,-17.250435129039573,7.280453403462804,-0.35575166961875976,2.7678858636144548,10.909994333905145,6.9157053940840045,1.7205973870165538,7.651767113091359,14.999216022361912,6.652156997906209,-8.592200736004694,7.4950716464464415,-5.571160925211394,4.7464870525880976,7.632490410780711,-10.912629933609479,3.7883331256900936,1.5773180342520963,3.016465439564995,2.9031970415503943,15.11473585256049,12.431232926015936,4.9470298121129455,8.804915833205824,-17.9424533646697,13.208033790198314,-11.28061699916463,-0.33357869568819554,2.6596390612975362,3.628317639068077,-5.299193039502567,-5.814785435660255,12.62246420461641,15.270699883483015,3.982804876410775,10.10964217626239,-4.460344067791188,-4.256339471418368,-7.859490811107548,-5.0394013205149495,-2.673710387148922,-20.25449416183185,13.11192420373402,-10.808544040271045,17.855082002425007,-16.738127455963447,-14.273025621226548,5.963390567956479,-2.6772524089084584,-15.1084117302831,2.3632385843285624,4.35959225070564,11.772365649114672,-6.915014919663537,-15.232218052740725,20.906118923710793,-8.365769276739078,7.891145713313044,8.023656246315344,2.4377894304103025,17.956279347789557,3.2223770897143846,1.2393956410421727,14.826703877468319,20.59107942215077,-7.33522393521914,6.979115624472069,17.935165257396008,-2.161085896682021,4.165248148893326,6.709501561558078,10.910285588533014,-13.858692713659902,-14.86400010816992,-15.751347053037824,16.99246599819092,-1.6059959053464223,-12.452344348189115,2.9959304840988668,13.280205254142212,6.93830108461605,-0.3527409548007523,2.3832937209297858,6.552833734272927,-1.0043734751295346,-21.906463276689735,-0.9094813802360187,1.3835428251391422,15.3248494095886,13.254936918196327,2.1851782138809095,2.100982188125479,3.0551615895562487,12.337800859593356,-16.118939785088507,4.228720869466482,-19.70716085656112,-18.351478193740604,2.7550680555083535,3.321800166671175,4.51381907820409,9.526424721460044,12.488839525467556,22.10284765058443,6.9464813567943935,3.238675120739186,3.4412676249454854,1.313570203643411,22.36134496547427,14.722149303082498,-10.227180345141068,15.015066143915556,0.7763076527978551,-6.522596802102924,7.626161982080844,-12.803489681045136,-0.25540631033663674,-8.055794479057601,8.687378107356635,2.265626267244412,4.107289802150317,10.210092140059839,2.234476540748717,-15.758747567818528,6.296340957828283,3.0409531787311974,-13.739560804434026,5.802828782309779,-15.683746635463518,-15.351137431139902,-7.814605553541146,-9.100960463080456,-5.356678709216351,-1.3468752483586384,-5.400843261450887,4.565039039551715,3.4215635542734093,9.81271310823776,-14.203135520471276,-8.874465762656177,2.7491294046749157,8.663281650046747,-11.051005105499582,-9.85584875511981,1.002224204906245,-19.829812658400847,10.928288552177094,-18.35555586390078,-3.1235045563010924,-9.287319438872933,5.946454624635703,-8.398814777859052,7.657580235519774,-0.44812851028854495,1.8032472319428223,-5.550654412767168,-13.209596808245992,-2.5339526801303087,14.360699068439446,0.723532607748951,6.528308660954478,8.730833690103443,2.5898668630886656,22.307079856680218,1.933357669753601,7.689057496632881,-5.705893695056844,9.457108162736299,3.3144902208207747,-3.4545526748395248,-8.427609438936457,-8.210964680611298,-4.980653624227767,5.212280563139407,-17.033525175883906,-15.439715133222583,-8.623949168308561,-17.206842946052188,3.050189295054497,-2.577561375284682,-10.73498501098949,-13.133250000793995,-5.560981844694335,-2.0190330774040426,-15.439372334355818,10.16000231698371,2.4508961901576503,8.750168295496673,16.601377009972726,1.2769020472577597,7.98123618186631,3.867367618326479,15.840760413641508,5.999498663321976,11.458194756857136,12.961533720405892,-5.474749190484938,6.672057097415702,-2.1523717634960047,13.655843297265513,2.264011894453824,-5.586932174253786,-11.281380713200356,2.0841964541973823,-12.437494811750422,-0.033389749204142505,-2.0350701397904927,10.170194809318515,-11.847717312054009,-5.295643356493209,-7.8131851378779675,-1.667996522259963,-14.532506233742199,6.111275431194691,0.17704572204207727,-4.50099235831989,7.740686783007362,1.4381699229211065,-8.071643783048035,19.112450249624118,5.586892268794498,-0.7347506243893168,-1.8811255183107791,-12.107566294131203,-18.351591504569086,4.461670656810987,2.8084714122463965,-18.35874351069897,17.08912295351489,-16.144284383976522,-11.32662174483309,2.8632771785364803,14.802900260471793,7.3630035330369665,-4.9316232350858185,-4.865410765574917,5.808695494517457,1.38352130825403,14.66818844317455,7.67640369560117,-8.159060485123357,13.397122829688724,-5.904333163183263,-2.4574600980050856,19.469128146612846,-13.515544191265525,7.383513484203663,-4.652543948401297,9.981185501200349,16.94414035410555,-15.162384645996815,-2.0802645375923974,-17.067831238914433,-8.667185472008558,-17.81927969482285,10.834306228590062,3.79200626619058,8.686184868335141,10.742464296950883,-1.9105348913508038,13.75188661528441,-7.970748568712639,-13.763120306759843,13.183853435514248,0.2003702979019913,-2.0396706284534796,-7.938890641750671,-3.1598999053685297,-16.098524406872034,-3.756629566083487]}},\"id\":\"68b960ea-99b6-451c-8099-4f88caa2bcdf\",\"type\":\"ColumnDataSource\"},{\"attributes\":{\"data_source\":{\"id\":\"68b960ea-99b6-451c-8099-4f88caa2bcdf\",\"type\":\"ColumnDataSource\"},\"glyph\":{\"id\":\"adbad3c1-ec73-4515-8b74-375b077f9c52\",\"type\":\"Circle\"},\"hover_glyph\":null,\"nonselection_glyph\":{\"id\":\"50f9aea1-6ff4-447a-bcf2-9bb1fbf08f3b\",\"type\":\"Circle\"},\"selection_glyph\":null},\"id\":\"76456515-e0d1-4718-a4e1-209cf2101734\",\"type\":\"GlyphRenderer\"},{\"attributes\":{},\"id\":\"aab6faf9-6ae7-4d0d-a984-678b65088ff1\",\"type\":\"BasicTicker\"},{\"attributes\":{},\"id\":\"ab9c9495-fc2b-4fb2-b04a-42277dc3e2f2\",\"type\":\"BasicTickFormatter\"},{\"attributes\":{\"plot\":{\"id\":\"c4771b26-e647-4b5b-b401-269624ebf844\",\"subtype\":\"Figure\",\"type\":\"Plot\"}},\"id\":\"72e489f8-ba82-497f-9aaf-610144f23d9d\",\"type\":\"SaveTool\"},{\"attributes\":{\"below\":[{\"id\":\"12b75225-1e10-42da-a407-f0b58a237997\",\"type\":\"LinearAxis\"}],\"left\":[{\"id\":\"8d3e298f-57d9-43a1-b483-967c9de4f8f2\",\"type\":\"LinearAxis\"}],\"renderers\":[{\"id\":\"12b75225-1e10-42da-a407-f0b58a237997\",\"type\":\"LinearAxis\"},{\"id\":\"75ee41ba-a751-4bf0-99a5-342dbfcb43fb\",\"type\":\"Grid\"},{\"id\":\"8d3e298f-57d9-43a1-b483-967c9de4f8f2\",\"type\":\"LinearAxis\"},{\"id\":\"f09aee36-23db-4c81-bde1-115ca149132a\",\"type\":\"Grid\"},{\"id\":\"76456515-e0d1-4718-a4e1-209cf2101734\",\"type\":\"GlyphRenderer\"},{\"id\":\"a0a1dbe9-cc2d-4581-8231-0bf805a18041\",\"type\":\"LabelSet\"}],\"title\":{\"id\":\"d7c47208-2482-49fe-8456-f018f3a598be\",\"type\":\"Title\"},\"tool_events\":{\"id\":\"e46efc01-d57e-4749-8b60-07b57c9dac0a\",\"type\":\"ToolEvents\"},\"toolbar\":{\"id\":\"f808a406-25b5-4d94-b9d1-5bf75d6779bf\",\"type\":\"Toolbar\"},\"toolbar_location\":\"above\",\"x_range\":{\"id\":\"1c060328-73ad-4aaa-851f-069abba251f3\",\"type\":\"DataRange1d\"},\"y_range\":{\"id\":\"862b9165-29e4-4671-98b9-f9f842c29545\",\"type\":\"DataRange1d\"}},\"id\":\"c4771b26-e647-4b5b-b401-269624ebf844\",\"subtype\":\"Figure\",\"type\":\"Plot\"},{\"attributes\":{},\"id\":\"56dfeba2-250e-4724-9437-58484615916c\",\"type\":\"BasicTickFormatter\"},{\"attributes\":{\"callback\":null},\"id\":\"1c060328-73ad-4aaa-851f-069abba251f3\",\"type\":\"DataRange1d\"}],\"root_ids\":[\"c4771b26-e647-4b5b-b401-269624ebf844\"]},\"title\":\"Bokeh Application\",\"version\":\"0.12.2\"}};\n",
       "            var render_items = [{\"docid\":\"6968747d-e3fb-423a-8039-361551da8f12\",\"elementid\":\"88c5d456-dd33-4586-a4d9-113624aced93\",\"modelid\":\"c4771b26-e647-4b5b-b401-269624ebf844\"}];\n",
       "            \n",
       "            Bokeh.embed.embed_items(docs_json, render_items);\n",
       "        });\n",
       "      },\n",
       "      function(Bokeh) {\n",
       "      }\n",
       "    ];\n",
       "  \n",
       "    function run_inline_js() {\n",
       "      \n",
       "      if ((window.Bokeh !== undefined) || (force === \"1\")) {\n",
       "        for (var i = 0; i < inline_js.length; i++) {\n",
       "          inline_js[i](window.Bokeh);\n",
       "        }if (force === \"1\") {\n",
       "          display_loaded();\n",
       "        }} else if (Date.now() < window._bokeh_timeout) {\n",
       "        setTimeout(run_inline_js, 100);\n",
       "      } else if (!window._bokeh_failed_load) {\n",
       "        console.log(\"Bokeh: BokehJS failed to load within specified timeout.\");\n",
       "        window._bokeh_failed_load = true;\n",
       "      } else if (!force) {\n",
       "        var cell = $(\"#88c5d456-dd33-4586-a4d9-113624aced93\").parents('.cell').data().cell;\n",
       "        cell.output_area.append_execute_result(NB_LOAD_WARNING)\n",
       "      }\n",
       "  \n",
       "    }\n",
       "  \n",
       "    if (window._bokeh_is_loading === 0) {\n",
       "      console.log(\"Bokeh: BokehJS loaded, going straight to plotting\");\n",
       "      run_inline_js();\n",
       "    } else {\n",
       "      load_libs(js_urls, function() {\n",
       "        console.log(\"Bokeh: BokehJS plotting callback run at\", now());\n",
       "        run_inline_js();\n",
       "      });\n",
       "    }\n",
       "  }(this));\n",
       "</script>"
      ]
     },
     "metadata": {},
     "output_type": "display_data"
    }
   ],
   "source": [
    "p = figure(tools=\"pan,wheel_zoom,reset,save\",\n",
    "           toolbar_location=\"above\",\n",
    "           title=\"word2vec T-SNE for most common words\")\n",
    "\n",
    "source = ColumnDataSource(data=dict(x1=words_top_wiki_tsne[:,0],\n",
    "                                    x2=words_top_wiki_tsne[:,1],\n",
    "                                    names=words_top_wiki))\n",
    "\n",
    "p.scatter(x=\"x1\", y=\"x2\", size=8, source=source)\n",
    "\n",
    "labels = LabelSet(x=\"x1\", y=\"x2\", text=\"names\", y_offset=6,\n",
    "                  text_font_size=\"8pt\", text_color=\"#555555\",\n",
    "                  source=source, text_align='center')\n",
    "p.add_layout(labels)\n",
    "\n",
    "show(p)"
   ]
  },
  {
   "cell_type": "markdown",
   "metadata": {},
   "source": [
    "Intereseing 2 clusters can be seen above. One contains the modal verbs while the other contains month names. However since \"may\" can be both the month name and the verb it is clear from the cluster that it appears as a verb more often, and it could be that these 2 clusters are so close exactly because of the word \"may\". It also shows that it might not be a good idea to convert all words into lower case because they lose the context."
   ]
  },
  {
   "cell_type": "markdown",
   "metadata": {},
   "source": [
    "Notable difference between embeddings come form the fact that TED dataset is based on spoken language and WIKI dataset is based on written articles. Due to this TED dataset will tend to cluster words together in a more \"talkative\" way, especially given the nonchalante nature of TED talks, while the WIKI embedings will follow stricter grammar rules as well as the problem of classifying abbrevations and formulas in a strange way."
   ]
  },
  {
   "cell_type": "code",
   "execution_count": 49,
   "metadata": {
    "collapsed": false
   },
   "outputs": [
    {
     "data": {
      "image/png": "[encoded data removed]",
      "text/plain": [
       "<matplotlib.figure.Figure at 0x7fc7ddabb908>"
      ]
     },
     "metadata": {},
     "output_type": "display_data"
    }
   ],
   "source": [
    "from sklearn.decomposition import PCA\n",
    "from sklearn.cluster import KMeans\n",
    "#from sklearn.datasets import load_iris\n",
    "import pylab as pl\n",
    "\n",
    "k=45\n",
    "\n",
    "kmeans = KMeans(n_clusters=k, random_state=111)\n",
    "kmeans.fit(words_top_wiki_tsne)\n",
    "pl.figure('K-means')\n",
    "pl.scatter(words_top_wiki_tsne[:, 0], words_top_wiki_tsne[:, 1], c=kmeans.labels_)\n",
    "pl.show()"
   ]
  },
  {
   "cell_type": "code",
   "execution_count": 50,
   "metadata": {
    "collapsed": false
   },
   "outputs": [
    {
     "data": {
      "text/html": [
       "\n",
       "\n",
       "    <div class=\"bk-root\">\n",
       "        <div class=\"plotdiv\" id=\"9a10e6d5-5a11-4f8c-b2de-28befba53724\"></div>\n",
       "    </div>\n",
       "<script type=\"text/javascript\">\n",
       "  \n",
       "  (function(global) {\n",
       "    function now() {\n",
       "      return new Date();\n",
       "    }\n",
       "  \n",
       "    var force = \"\";\n",
       "  \n",
       "    if (typeof (window._bokeh_onload_callbacks) === \"undefined\" || force !== \"\") {\n",
       "      window._bokeh_onload_callbacks = [];\n",
       "      window._bokeh_is_loading = undefined;\n",
       "    }\n",
       "  \n",
       "  \n",
       "    \n",
       "    if (typeof (window._bokeh_timeout) === \"undefined\" || force !== \"\") {\n",
       "      window._bokeh_timeout = Date.now() + 0;\n",
       "      window._bokeh_failed_load = false;\n",
       "    }\n",
       "  \n",
       "    var NB_LOAD_WARNING = {'data': {'text/html':\n",
       "       \"<div style='background-color: #fdd'>\\n\"+\n",
       "       \"<p>\\n\"+\n",
       "       \"BokehJS does not appear to have successfully loaded. If loading BokehJS from CDN, this \\n\"+\n",
       "       \"may be due to a slow or bad network connection. Possible fixes:\\n\"+\n",
       "       \"</p>\\n\"+\n",
       "       \"<ul>\\n\"+\n",
       "       \"<li>re-rerun `output_notebook()` to attempt to load from CDN again, or</li>\\n\"+\n",
       "       \"<li>use INLINE resources instead, as so:</li>\\n\"+\n",
       "       \"</ul>\\n\"+\n",
       "       \"<code>\\n\"+\n",
       "       \"from bokeh.resources import INLINE\\n\"+\n",
       "       \"output_notebook(resources=INLINE)\\n\"+\n",
       "       \"</code>\\n\"+\n",
       "       \"</div>\"}};\n",
       "  \n",
       "    function display_loaded() {\n",
       "      if (window.Bokeh !== undefined) {\n",
       "        Bokeh.$(\"#9a10e6d5-5a11-4f8c-b2de-28befba53724\").text(\"BokehJS successfully loaded.\");\n",
       "      } else if (Date.now() < window._bokeh_timeout) {\n",
       "        setTimeout(display_loaded, 100)\n",
       "      }\n",
       "    }\n",
       "  \n",
       "    function run_callbacks() {\n",
       "      window._bokeh_onload_callbacks.forEach(function(callback) { callback() });\n",
       "      delete window._bokeh_onload_callbacks\n",
       "      console.info(\"Bokeh: all callbacks have finished\");\n",
       "    }\n",
       "  \n",
       "    function load_libs(js_urls, callback) {\n",
       "      window._bokeh_onload_callbacks.push(callback);\n",
       "      if (window._bokeh_is_loading > 0) {\n",
       "        console.log(\"Bokeh: BokehJS is being loaded, scheduling callback at\", now());\n",
       "        return null;\n",
       "      }\n",
       "      if (js_urls == null || js_urls.length === 0) {\n",
       "        run_callbacks();\n",
       "        return null;\n",
       "      }\n",
       "      console.log(\"Bokeh: BokehJS not loaded, scheduling load and callback at\", now());\n",
       "      window._bokeh_is_loading = js_urls.length;\n",
       "      for (var i = 0; i < js_urls.length; i++) {\n",
       "        var url = js_urls[i];\n",
       "        var s = document.createElement('script');\n",
       "        s.src = url;\n",
       "        s.async = false;\n",
       "        s.onreadystatechange = s.onload = function() {\n",
       "          window._bokeh_is_loading--;\n",
       "          if (window._bokeh_is_loading === 0) {\n",
       "            console.log(\"Bokeh: all BokehJS libraries loaded\");\n",
       "            run_callbacks()\n",
       "          }\n",
       "        };\n",
       "        s.onerror = function() {\n",
       "          console.warn(\"failed to load library \" + url);\n",
       "        };\n",
       "        console.log(\"Bokeh: injecting script tag for BokehJS library: \", url);\n",
       "        document.getElementsByTagName(\"head\")[0].appendChild(s);\n",
       "      }\n",
       "    };var element = document.getElementById(\"9a10e6d5-5a11-4f8c-b2de-28befba53724\");\n",
       "    if (element == null) {\n",
       "      console.log(\"Bokeh: ERROR: autoload.js configured with elementid '9a10e6d5-5a11-4f8c-b2de-28befba53724' but no matching script tag was found. \")\n",
       "      return false;\n",
       "    }\n",
       "  \n",
       "    var js_urls = [];\n",
       "  \n",
       "    var inline_js = [\n",
       "      function(Bokeh) {\n",
       "        Bokeh.$(function() {\n",
       "            var docs_json = {\"1f2f78a5-19ec-4611-98ca-449f8f0210ba\":{\"roots\":{\"references\":[{\"attributes\":{\"data_source\":{\"id\":\"981bef3d-1b94-4a83-80b4-1d88225946b9\",\"type\":\"ColumnDataSource\"},\"glyph\":{\"id\":\"1ae54d6b-aae6-4897-b9bf-4031fdc05047\",\"type\":\"Circle\"},\"hover_glyph\":null,\"nonselection_glyph\":{\"id\":\"cb2f3717-4372-48af-b223-1807c433a4bb\",\"type\":\"Circle\"},\"selection_glyph\":null},\"id\":\"576c6889-de03-4eb7-8012-341d2cf39b0a\",\"type\":\"GlyphRenderer\"},{\"attributes\":{\"formatter\":{\"id\":\"c373ceed-e2b3-4e7a-b260-9dfc227ef0fc\",\"type\":\"BasicTickFormatter\"},\"plot\":{\"id\":\"78132d75-ec0c-423b-b2b8-66971da12696\",\"subtype\":\"Figure\",\"type\":\"Plot\"},\"ticker\":{\"id\":\"f43c4219-09ee-46d7-a8f3-21a4052af822\",\"type\":\"BasicTicker\"}},\"id\":\"8aff7ad3-f9a5-4cd6-a936-9815a1057023\",\"type\":\"LinearAxis\"},{\"attributes\":{\"plot\":{\"id\":\"78132d75-ec0c-423b-b2b8-66971da12696\",\"subtype\":\"Figure\",\"type\":\"Plot\"}},\"id\":\"df817c1a-1375-4d79-b3d2-4a6525910f53\",\"type\":\"WheelZoomTool\"},{\"attributes\":{\"plot\":{\"id\":\"78132d75-ec0c-423b-b2b8-66971da12696\",\"subtype\":\"Figure\",\"type\":\"Plot\"},\"source\":{\"id\":\"981bef3d-1b94-4a83-80b4-1d88225946b9\",\"type\":\"ColumnDataSource\"},\"text\":{\"field\":\"names\"},\"text_align\":\"center\",\"text_color\":{\"value\":\"#555555\"},\"text_font_size\":{\"value\":\"8pt\"},\"x\":{\"field\":\"x1\"},\"y\":{\"field\":\"x2\"},\"y_offset\":{\"value\":6}},\"id\":\"b0449e21-3abd-4392-8465-83539795002a\",\"type\":\"LabelSet\"},{\"attributes\":{},\"id\":\"cbeb9ad2-178d-4d91-af6f-b2802d818ca6\",\"type\":\"BasicTicker\"},{\"attributes\":{\"plot\":{\"id\":\"78132d75-ec0c-423b-b2b8-66971da12696\",\"subtype\":\"Figure\",\"type\":\"Plot\"},\"ticker\":{\"id\":\"f43c4219-09ee-46d7-a8f3-21a4052af822\",\"type\":\"BasicTicker\"}},\"id\":\"3fe1631d-9e1a-4a5a-b2fd-71c4ad5f857a\",\"type\":\"Grid\"},{\"attributes\":{\"active_drag\":\"auto\",\"active_scroll\":\"auto\",\"active_tap\":\"auto\",\"tools\":[{\"id\":\"973cd396-3c5c-478e-b23f-f430e43750f6\",\"type\":\"PanTool\"},{\"id\":\"df817c1a-1375-4d79-b3d2-4a6525910f53\",\"type\":\"WheelZoomTool\"},{\"id\":\"1353d9c5-cd83-4877-b886-dc26a11f4be8\",\"type\":\"ResetTool\"},{\"id\":\"f3cb3ff7-0977-4c18-b4c0-487e2e1c0e95\",\"type\":\"SaveTool\"}]},\"id\":\"b3bec3f4-6575-40d9-b93a-38b0b813baf7\",\"type\":\"Toolbar\"},{\"attributes\":{\"fill_alpha\":{\"value\":0.1},\"fill_color\":{\"value\":\"#1f77b4\"},\"line_alpha\":{\"value\":0.1},\"line_color\":{\"value\":\"#1f77b4\"},\"size\":{\"units\":\"screen\",\"value\":8},\"x\":{\"field\":\"x1\"},\"y\":{\"field\":\"x2\"}},\"id\":\"cb2f3717-4372-48af-b223-1807c433a4bb\",\"type\":\"Circle\"},{\"attributes\":{\"callback\":null,\"column_names\":[\"x1\",\"x2\",\"names\",\"clust\"],\"data\":{\"clust\":[29,29,13,29,34,3,43,38,7,29,27,34,29,25,34,34,38,19,23,37,34,19,26,25,43,5,25,27,43,19,25,6,26,1,19,40,12,19,1,19,37,12,29,5,17,13,1,5,37,25,6,29,27,12,22,23,12,37,4,34,23,19,24,43,1,23,35,12,23,12,38,23,1,1,12,5,22,27,40,24,1,26,17,38,25,24,24,18,44,12,25,2,43,37,23,29,5,12,19,29,37,27,12,4,28,0,26,44,12,12,13,12,20,38,22,6,36,29,28,3,24,19,5,44,11,40,2,22,25,3,9,22,30,34,25,20,1,20,19,8,6,8,9,8,1,23,41,12,21,9,25,44,28,43,11,23,17,26,12,12,23,43,27,17,42,29,6,37,18,28,8,13,21,33,23,2,21,7,25,22,33,21,13,36,37,28,21,21,24,21,18,21,17,38,23,8,34,27,21,10,13,41,6,0,36,20,10,18,21,21,1,37,1,20,32,14,33,41,1,3,10,8,29,12,11,31,6,11,14,23,41,20,15,14,29,15,38,24,32,0,13,27,26,4,20,6,4,17,14,6,27,10,3,19,1,8,43,1,33,14,21,4,26,44,33,43,14,35,15,11,18,25,43,2,2,24,10,32,14,33,29,4,9,43,16,15,5,9,32,27,26,32,27,4,15,30,15,41,0,4,16,30,1,0,15,34,18,7,21,44,18,12,26,28,34,29,13,20,12,11,32,0,37,12,6,3,30,9,26,10,0,9,1,36,27,9,2,44,14,11,22,0,34,17,0,30,33,34,6,19,1,8,14,41,15,25,30,13,0,20,30,4,37,20,33,10,14,27,18,11,13,26,16,8,3,12,28,20,8,24,14,41,20,20,29,12,29,25,15,11,35,19,37,37,44,15,34,28,3,43,4,3,29,8,7,32,6,23,2,15,24,43,26,36,27,23,28,15,12,28,30,33,18,12,11,12,30,27,5,2,15,16,36,3,7,43,13,41,19,7,0,11,24,11,33,11,36,16,30,44,17,23,0,4,12,6,2,11,31,42,28,22,20,9,43,30,7,16,28,20,2,5,2,37,35,27,2,35,30,9,13,34,20,4,31,31,30,36,30,15,11,1,26,20,15,5,1,4,3,8,15,2,10,29,1,8,2,7,0,34,33,3,29,31,30,26,8,5,12,29,2,17,28,43,44,4,12,6,2,13,4,13,29,28,7,27,14,34,27,35,16,1,44,3,26,29,8,2,28,0,3,17,3,24,18,28,23,14,29,31,41,7,4,12,30,2,42,7,10,27,12,12,31,13,22,3,36,1,5,34,14,10,25,10,14,1,31,20,6,29,7,41,3,1,32,9,6,36,6,30,2,12,27,38,2,30,44,35,35,30,15,6,6,15,24,12,11,14,18,43,9,7,17,2,9,14,14,6,43,24,42,10,20,32,11,18,13,32,4,30,13,24,35,13,31,26,13,44,35,14,29,22,19,18,13,17,18,44,17,16,1,7,5,43,13,16,41,18,11,7,26,17,33,30,7,44,29,3,30,18,16,31,42,14,30,35,8,36,29,27,13,19,16,10,36,8,1,31,14,10,30,31,27,35,15,44,7,15,0,30,13,34,27,0,11,27,36,12,44,11,36,19,39,0,35,20,14,33,41,0,26,36,15,7,19,44,44,18,32,36,34,19,14,44,8,40,35,15,35,3,32,0,3,36,26,28,2,27,7,35,1,29,16,32,15,19,13,20,43,1,29,17,28,10,22,31,10,11,1,31,3,35,0,43,17,33,43,9,9,7,33,18,35,32,33,34,44,22,14,35,18,0,10,2,30,5,14,10,35,16,19,27,7,11,4,26,1,35,16,16,18,7,7,28,17,35,26,17,18,15,7,36,0,5,9,3,3,13,22,5,2,16,35,43,36,10,13,12,9,35,11,16,15,30,37,11,10,3,30,10,43,43,20,27,41,7,35,36,10,43,11,19,6,12,35,30,16,26,1,12,9,43,9,41,15,14,10,27,32,35,9,8,35,5,18,44,43,25,35,29,38,40,1,3,31,31,43,31,18,14,20,2,20,4,31,36,7,37,33,35,9,18,16,8,16,0,14,37,1,0,7,20,34,7,39,15,29,19,2,14,43,1,10,44,27,14,37,7,20,23,15,4,1,2,30,18,7,26,5,10,2,44,0,37,41,41,19,35,0,36,12,32,34,1,5,2,8,13,19,32,26,13,26,20,30,28,9,37,28,1,0,20,10,16,35,13,20,14,24,14],\"names\":[\"the\",\"of\",\"and\",\"in\",\"to\",\"n\",\"a\",\"was\",\"s\",\"on\",\"x\",\"as\",\"for\",\"that\",\"with\",\"by\",\"is\",\"his\",\"at\",\"he\",\"from\",\"it\",\"were\",\"xe\",\"an\",\"had\",\"which\",\"xc\",\"be\",\"this\",\"but\",\"first\",\"are\",\"not\",\"their\",\"after\",\"one\",\"her\",\"also\",\"its\",\"they\",\"two\",\"or\",\"have\",\"who\",\"been\",\"new\",\"has\",\"she\",\"when\",\"time\",\"during\",\"xa\",\"other\",\"would\",\"into\",\"all\",\"i\",\"more\",\"while\",\"over\",\"him\",\"game\",\"later\",\"only\",\"up\",\"most\",\"about\",\"out\",\"three\",\"th\",\"between\",\"than\",\"there\",\"some\",\"film\",\"may\",\"xb\",\"before\",\"year\",\"no\",\"made\",\"second\",\"such\",\"where\",\"season\",\"years\",\"war\",\"world\",\"both\",\"however\",\"used\",\"then\",\"song\",\"through\",\"being\",\"series\",\"these\",\"them\",\"against\",\"album\",\"m\",\"many\",\"team\",\"north\",\"city\",\"became\",\"united\",\"number\",\"several\",\"part\",\"four\",\"including\",\"well\",\"can\",\"early\",\"state\",\"under\",\"south\",\"music\",\"day\",\"so\",\"episode\",\"states\",\"said\",\"following\",\"known\",\"could\",\"although\",\"work\",\"american\",\"did\",\"began\",\"until\",\"because\",\"released\",\"like\",\"called\",\"t\",\"high\",\"end\",\"people\",\"british\",\"long\",\"since\",\"around\",\"life\",\"each\",\"september\",\"national\",\"if\",\"us\",\"west\",\"same\",\"found\",\"back\",\"best\",\"took\",\"five\",\"million\",\"along\",\"another\",\"d\",\"show\",\"km\",\"any\",\"final\",\"you\",\"group\",\"area\",\"century\",\"use\",\"august\",\"school\",\"off\",\"received\",\"october\",\"john\",\"what\",\"will\",\"line\",\"due\",\"system\",\"government\",\"single\",\"east\",\"july\",\"june\",\"games\",\"march\",\"home\",\"november\",\"third\",\"much\",\"down\",\"large\",\"set\",\"general\",\"april\",\"left\",\"major\",\"family\",\"place\",\"house\",\"york\",\"based\",\"played\",\"company\",\"december\",\"january\",\"just\",\"we\",\"history\",\"included\",\"character\",\"army\",\"road\",\"king\",\"now\",\"band\",\"won\",\"name\",\"main\",\"six\",\"wrote\",\"led\",\"last\",\"described\",\"men\",\"near\",\"death\",\"according\",\"own\",\"air\",\"within\",\"those\",\"st\",\"times\",\"video\",\"river\",\"record\",\"c\",\"de\",\"release\",\"named\",\"next\",\"league\",\"top\",\"battle\",\"late\",\"b\",\"way\",\"production\",\"very\",\"even\",\"small\",\"original\",\"still\",\"species\",\"ship\",\"february\",\"club\",\"make\",\"u\",\"route\",\"old\",\"force\",\"great\",\"man\",\"storm\",\"public\",\"though\",\"again\",\"held\",\"built\",\"days\",\"play\",\"book\",\"division\",\"university\",\"among\",\"service\",\"french\",\"further\",\"power\",\"side\",\"having\",\"german\",\"role\",\"h\",\"do\",\"story\",\"members\",\"match\",\"white\",\"continued\",\"point\",\"career\",\"park\",\"player\",\"water\",\"came\",\"often\",\"town\",\"black\",\"order\",\"local\",\"former\",\"despite\",\"england\",\"party\",\"half\",\"take\",\"island\",\"support\",\"without\",\"form\",\"written\",\"few\",\"considered\",\"version\",\"county\",\"songs\",\"different\",\"period\",\"development\",\"moved\",\"english\",\"become\",\"lost\",\"building\",\"military\",\"little\",\"court\",\"ii\",\"international\",\"given\",\"country\",\"forces\",\"tropical\",\"president\",\"london\",\"re\",\"performance\",\"church\",\"gave\",\"street\",\"lead\",\"tour\",\"my\",\"never\",\"short\",\"attack\",\"royal\",\"position\",\"xd\",\"returned\",\"similar\",\"land\",\"published\",\"went\",\"class\",\"track\",\"produced\",\"highway\",\"run\",\"aircraft\",\"e\",\"television\",\"stated\",\"using\",\"making\",\"control\",\"children\",\"live\",\"total\",\"western\",\"star\",\"women\",\"week\",\"ships\",\"father\",\"recorded\",\"include\",\"throughout\",\"per\",\"upon\",\"how\",\"right\",\"fire\",\"good\",\"himself\",\"me\",\"love\",\"australia\",\"head\",\"once\",\"central\",\"rock\",\"instead\",\"players\",\"design\",\"less\",\"title\",\"writing\",\"characters\",\"age\",\"across\",\"developed\",\"light\",\"months\",\"previous\",\"return\",\"law\",\"f\",\"away\",\"southern\",\"young\",\"seven\",\"sea\",\"remained\",\"station\",\"political\",\"ten\",\"hurricane\",\"eight\",\"died\",\"r\",\"ft\",\"created\",\"red\",\"field\",\"office\",\"style\",\"james\",\"eventually\",\"result\",\"son\",\"too\",\"william\",\"center\",\"noted\",\"night\",\"reported\",\"college\",\"felt\",\"act\",\"low\",\"reached\",\"america\",\"award\",\"together\",\"construction\",\"race\",\"various\",\"win\",\"followed\",\"announced\",\"sent\",\"miles\",\"areas\",\"should\",\"seen\",\"japanese\",\"full\",\"served\",\"george\",\"level\",\"northern\",\"performed\",\"taken\",\"range\",\"established\",\"chart\",\"campaign\",\"member\",\"located\",\"action\",\"killed\",\"australian\",\"common\",\"points\",\"appeared\",\"football\",\"able\",\"caused\",\"started\",\"post\",\"born\",\"others\",\"thought\",\"modern\",\"get\",\"features\",\"front\",\"mm\",\"present\",\"success\",\"works\",\"heavy\",\"body\",\"formed\",\"playing\",\"behind\",\"originally\",\"critics\",\"added\",\"director\",\"site\",\"addition\",\"bridge\",\"project\",\"rather\",\"decided\",\"saw\",\"see\",\"strong\",\"feet\",\"every\",\"special\",\"sold\",\"fourth\",\"eastern\",\"soon\",\"kingdom\",\"championship\",\"almost\",\"stage\",\"completed\",\"damage\",\"popular\",\"important\",\"open\",\"region\",\"david\",\"command\",\"fleet\",\"leading\",\"o\",\"case\",\"ground\",\"initially\",\"france\",\"art\",\"go\",\"non\",\"close\",\"opened\",\"coast\",\"hall\",\"recording\",\"awards\",\"working\",\"weeks\",\"union\",\"population\",\"towards\",\"guns\",\"free\",\"brought\",\"mother\",\"michael\",\"cup\",\"event\",\"worked\",\"provided\",\"mi\",\"henry\",\"scored\",\"l\",\"least\",\"average\",\"wanted\",\"records\",\"does\",\"sound\",\"washington\",\"generally\",\"scene\",\"help\",\"troops\",\"hit\",\"xce\",\"runs\",\"training\",\"ever\",\"allowed\",\"featured\",\"victory\",\"events\",\"robert\",\"wife\",\"studio\",\"either\",\"magazine\",\"navy\",\"mid\",\"council\",\"summer\",\"put\",\"placed\",\"nine\",\"co\",\"far\",\"designed\",\"finished\",\"europe\",\"example\",\"human\",\"joined\",\"brown\",\"start\",\"opening\",\"base\",\"hours\",\"list\",\"believed\",\"crew\",\"association\",\"earlier\",\"european\",\"al\",\"largest\",\"replaced\",\"official\",\"operation\",\"squadron\",\"beginning\",\"rest\",\"minutes\",\"mph\",\"shot\",\"involved\",\"review\",\"saying\",\"society\",\"change\",\"media\",\"successful\",\"met\",\"significant\",\"month\",\"particularly\",\"big\",\"forced\",\"come\",\"possible\",\"japan\",\"process\",\"police\",\"better\",\"must\",\"research\",\"radio\",\"available\",\"cast\",\"community\",\"test\",\"highest\",\"lower\",\"previously\",\"captain\",\"films\",\"additional\",\"increased\",\"middle\",\"relationship\",\"business\",\"praised\",\"charles\",\"taking\",\"appearance\",\"section\",\"ended\",\"thomas\",\"canada\",\"outside\",\"stone\",\"passed\",\"social\",\"above\",\"going\",\"winds\",\"units\",\"turned\",\"real\",\"reviews\",\"rights\",\"thus\",\"chief\",\"elements\",\"enough\",\"space\",\"move\",\"san\",\"critical\",\"future\",\"ordered\",\"infantry\",\"goal\",\"signed\",\"failed\",\"g\",\"interest\",\"female\",\"gold\",\"don\",\"cross\",\"hill\",\"spent\",\"parts\",\"overall\",\"v\",\"district\",\"gun\",\"type\",\"california\",\"round\",\"germany\",\"told\",\"board\",\"positive\",\"plan\",\"castle\",\"program\",\"directed\",\"staff\",\"lines\",\"brother\",\"lake\",\"find\",\"bill\",\"hand\",\"paul\",\"money\",\"india\",\"grand\",\"groups\",\"news\",\"committee\",\"attempt\",\"study\",\"battalion\",\"uk\",\"reception\",\"prior\",\"person\",\"personal\",\"evidence\",\"cover\",\"plot\",\"room\",\"musical\",\"election\",\"give\",\"port\",\"introduced\",\"p\",\"whose\",\"term\",\"already\",\"itself\",\"food\",\"novel\",\"green\",\"our\",\"limited\",\"stars\",\"complete\",\"past\",\"usually\",\"whom\",\"bay\",\"score\",\"governor\",\"asked\",\"loss\",\"claimed\",\"sometimes\",\"required\",\"background\",\"issue\",\"square\",\"entire\",\"debut\",\"students\",\"quickly\",\"anti\",\"indian\",\"smith\",\"ny\",\"industry\",\"effects\",\"press\",\"education\",\"response\",\"britain\",\"minister\",\"flight\",\"woman\",\"movement\",\"village\",\"turn\",\"carried\",\"arrived\",\"episodes\",\"operations\",\"car\",\"idea\",\"earth\",\"science\",\"k\",\"richard\",\"estimated\",\"teams\",\"la\",\"especially\",\"influence\",\"speed\",\"surface\",\"services\",\"mark\",\"peter\",\"islands\",\"fifth\",\"decision\",\"becoming\",\"shows\",\"commercial\",\"dark\",\"writer\",\"virginia\",\"centre\",\"length\",\"civil\",\"material\",\"voice\",\"structure\",\"might\",\"scenes\",\"appointed\",\"pressure\",\"living\",\"latter\",\"department\",\"running\",\"changes\",\"nearly\",\"language\",\"experience\",\"suggested\",\"larger\",\"blue\",\"destroyed\",\"tracks\",\"proposed\",\"cut\",\"pop\",\"entered\",\"leaving\",\"remaining\",\"shortly\",\"compared\",\"commander\",\"daughter\",\"producer\",\"child\",\"los\",\"defeated\",\"date\",\"depression\",\"god\",\"course\",\"percent\",\"nature\",\"married\",\"higher\",\"provide\",\"today\",\"approximately\",\"naval\",\"immediately\",\"spanish\",\"queen\",\"self\",\"brigade\",\"winning\",\"leader\",\"report\",\"lack\",\"soviet\",\"wide\",\"view\",\"size\",\"network\",\"empire\",\"finally\",\"whether\",\"fact\",\"regular\",\"nd\",\"manager\",\"current\",\"guitar\",\"agreed\",\"intended\",\"subsequently\",\"helped\",\"health\",\"officer\",\"done\",\"awarded\",\"related\",\"professional\",\"planned\",\"chicago\",\"ball\",\"hot\",\"railway\",\"natural\",\"chinese\",\"private\",\"cost\",\"fans\",\"upper\",\"museum\",\"regiment\",\"lyrics\",\"yet\",\"fort\",\"johnson\",\"associated\",\"contract\",\"edward\",\"plans\",\"face\",\"longer\",\"your\",\"supported\",\"corps\",\"initial\",\"probably\",\"moving\",\"countries\",\"j\",\"soldiers\",\"singles\",\"lord\",\"appear\",\"forward\",\"status\",\"conference\",\"remains\",\"extended\",\"got\",\"trade\",\"jackson\",\"create\",\"books\",\"captured\",\"changed\",\"copies\",\"buildings\",\"albums\",\"friend\",\"friends\",\"something\",\"effect\",\"location\",\"federal\",\"numerous\",\"information\",\"key\",\"mostly\",\"cm\",\"issued\",\"mixed\",\"minor\",\"themselves\",\"edition\",\"leave\",\"likely\",\"know\",\"inspired\",\"suffered\",\"atlantic\",\"independent\",\"billboard\",\"pacific\",\"always\",\"valley\",\"includes\",\"pass\",\"energy\",\"problems\",\"difficult\",\"feature\",\"unit\",\"minute\",\"officers\"],\"x1\":[4.7045923692803395,5.12446871057711,-2.7162682731611407,6.741976595521023,-1.8236460109527832,-9.789560759612922,7.295799852467118,-22.2462974525531,-11.840158311595163,7.350808304228855,-10.292811143829816,-2.3159653140245213,4.463876409811245,-14.865322337594618,-3.879156520204988,-1.265826797655865,-22.24371986623528,-4.255595759413032,15.20833546571222,-10.435736874680602,-0.587266351128173,-3.6525835255828865,-4.0217963406424255,-17.041476254217297,6.944283431578555,-4.722277833965896,-15.452055508423003,-12.737600515566655,3.019853036193216,-3.16735879831688,-14.670034552287328,3.2346580089735424,-4.022458440336071,-0.04816448215481639,-3.615843442978463,17.51763039756253,10.744858445124486,-4.310461655501549,1.2822773969544483,-3.5608578629985033,-8.599622053154805,13.531162634370043,3.8709639264190394,-4.6380132402371075,2.627258600630813,-6.362701601966558,3.095314163621981,-4.715051243777596,-10.45029754132639,-16.28312399346476,6.1121113779121705,8.328167736398017,-11.404966819889093,13.828903729493229,0.6996578198642686,16.861512011595167,12.250822376212946,-8.023008582423161,11.32431814506785,-4.235897663330395,16.773174741310786,-2.945429084048787,10.05315805494755,3.0154577813270658,2.016624431869304,14.078867705571145,-0.07630729789212902,9.861677736889186,14.79973823487296,13.40062814618787,-21.314882692371725,18.230527600293723,1.9979145627249781,0.7040515216051623,14.278999346971583,-8.274118083688442,1.4619362833248615,-11.319629688797406,17.54490087232328,11.216239669931094,2.739496984489096,-3.7744746806649023,3.2989975288555793,-19.83539499177046,-15.999207878047942,10.926585918959963,13.403478598137683,13.422010045985662,18.294596767114914,12.698219898746766,-14.584766487103302,-16.662910635720273,1.4311312757530585,-9.398103259048673,16.93111262448708,4.1770379061961895,-6.995757206881413,14.49978116449802,-2.5419185752863784,6.28806138768673,-9.557491172090046,-9.869168395145863,14.157798585940569,14.16192277066033,19.07688362150327,10.829274088730838,-5.165379105000053,17.28713969081062,11.809449401690644,13.809311388425366,-5.685489453554134,13.257184325612316,-8.76242032680373,-19.805708001397587,1.3351158910897223,3.755065133053198,9.055483795645305,7.701769628316608,19.00614199147544,-8.447832099370745,11.185024895222563,-5.07341755976603,-7.7828112034228125,20.99033767267569,-20.430852859326208,17.45682178155506,-15.981109918345833,0.7442279576627449,-14.548941491515478,-6.338171870946247,16.93327282491276,-0.8111454832313327,-11.64152456900811,-0.10695593173574805,-14.186387062340085,-11.356194770790982,0.138458944260614,-15.097275412329422,-6.694039256013516,1.9449559450528304,1.5489696478770916,1.825932183987128,15.772856965161262,0.19798267071845832,-0.9355469090183811,16.44026900989931,15.704093551909876,8.382856498079358,22.889581460032424,15.641806429737056,-13.966727028436939,16.37712081343693,18.584555826075018,6.020044391792843,-22.526071244413867,15.080995575901015,4.349924960636016,-5.052096677835449,12.961341243634065,10.959888250959311,16.33305583841086,7.3105687970280835,-10.478738758336108,7.6967361671618715,-13.657533389582758,3.7156060701312064,2.9351407667746066,-7.959874106399311,11.727360860473649,13.202747487893639,4.10328479120501,-7.767623955489414,22.927018970533478,6.948514588086916,14.873077474338817,-12.876897944884204,22.82603127410948,-15.34513016450337,-13.12652870843753,1.0425618785521749,6.272181864880406,31.93137214686788,-4.326876658754962,9.404001641981779,-9.203351060781332,18.62507543832155,22.82229324587926,22.74862235334033,10.054144370242655,22.388903588906945,9.425919858725154,22.514346829102596,3.358598604748918,-19.110498124162213,14.988441798072603,3.804026729357163,-6.099033541662555,-14.805250456227203,22.403367289005697,-5.7770706475988245,-5.2635672638952045,17.51058238019064,7.441043557273831,6.910792688718946,8.471582305073818,-8.540174969848273,-7.611120867883614,10.823367888045102,22.445579183110063,22.482402388682424,1.2556489274383966,-8.165108795808749,-1.7248396297637405,-9.779109205340697,-7.525651759958467,-20.071797097761035,10.340479186493697,18.077386725866162,0.3653140690383223,-9.544608387586159,-7.412266397419509,3.9744685559199397,5.647948095491837,13.071171350577634,-20.36422300684669,-14.159143792146121,3.1068539274236926,-21.36222462261446,-17.819450313536976,15.229459825275795,18.870983693138744,-12.4546478303019,3.73024558537898,-24.931033128969442,6.998686177943632,4.032549429149172,-21.316171495684642,8.388660582097108,-5.605242241309095,12.912553137821734,-7.779750391279611,-10.455951906883994,0.33024567976307767,10.507655094598714,-15.119094507018778,3.382625111029146,14.671075400126103,3.9529916938185137,-22.703844540007186,3.9020469978569428,-11.179267841698305,-1.5203678933117786,-5.145844429045095,-5.314167736643967,1.225397203463078,0.4822005578613151,4.135942705321156,1.8028197029664423,7.214517363792472,-23.480575570281705,22.634039835820914,14.65729798738274,-2.3613683380692554,16.371087973870445,10.401153718302265,3.5081404026096137,-19.96885134380849,1.6961507062929957,2.893426081712102,-25.347692952512272,9.60354298997249,-14.577675709133844,1.5728941396289142,-14.478406955949664,-15.814900501907522,13.033210124208484,-6.612176175872203,-4.2826828843630125,-21.189419055627212,7.142898848840497,8.702297581170642,11.710054505143653,15.616364821081538,2.6436891306094603,0.20035057839367515,8.026152559234593,-4.708003439235672,15.551578653043158,-7.625450901048038,-12.356687268542359,-0.16002326976442602,-6.441920265370794,-15.086478188889979,12.072982262229893,6.824324840142512,-12.133222711980176,7.664826517819022,15.363696322828364,11.740912711342293,12.813669271957654,2.1173792244511755,-12.64078062087415,3.355537818558393,12.18623428779837,5.885276211044627,-2.6092139109003205,10.719272247019358,-14.285885833085894,31.819381220542873,19.682707806383327,10.772817270170808,9.866340858229496,-3.744934326389916,14.58898770400056,-4.496664201820298,4.099014852909778,-4.374897415411022,-13.006244779125902,14.193500683027093,-22.4614784191073,-4.570153584111749,11.493821373207942,-9.88892240917678,13.538475558186576,5.069305349472051,-4.33327409891696,-11.920619085905805,15.579307956678567,-4.634039100189443,-7.378883454727009,8.518193917143666,13.643405499073507,1.7176777508629915,6.944127852143445,-11.271686103135142,15.836285331223685,-13.783339398761148,17.749284727291137,-19.54762816567198,-25.373315122681422,1.7103227580470193,9.334500413267735,0.17880303226197,6.565918686509816,8.615131675510224,-11.634680489142632,10.917283870953508,-1.7355776333395754,7.0568973943390265,-6.08961500200958,0.8114649635394031,0.21055502833711717,-21.241981651326107,18.08498686911812,5.292247269306834,-17.0365876367677,-11.35167925494482,-6.754111758390764,12.903308454743714,-12.647273559178025,-13.326242670965502,12.11141238495555,-10.285895283644917,-12.355723873331568,10.408552957244702,-3.6079265838963686,-23.216368040948364,-11.278134700027026,14.421764888737435,-20.56627748320576,-8.263694212482733,-3.805145374335062,-0.011857784514103959,2.6004902059239514,-8.466182506973704,11.092868475496708,17.671782166208157,-10.049791650396918,3.117652492902359,10.075272132595284,-23.51639087251944,18.153326885471742,-11.557269985752965,-8.926957476338819,8.223945573050019,9.60594025489741,7.397433029581516,-13.16068175715629,5.987934528079097,-20.556836866087828,1.5454365636809886,-3.1918268575542066,-7.114745588146214,-7.252283891773099,19.42461332736331,6.322017685824067,-1.798471578932381,17.918204749906877,-8.32553254352785,1.9080026277327584,13.392586434310322,-5.118500359116428,6.539874175971516,3.9587553311816572,-13.389686142636897,-7.564006569426033,2.465488877123197,16.56102963021385,-13.464766881250547,4.811321688222995,13.207129485636715,3.889342936635218,-1.5311352244422822,6.826870302443853,-11.065954503015346,14.973946749990901,17.632134870571008,3.474619947381948,12.804487868233176,15.354283330248496,-6.660421921576721,9.123602242306331,9.56079816192996,12.92958944995194,-25.355924517559455,12.79403016874655,-8.341138388912444,-11.821173837205977,-10.14336161085278,-14.602134375512954,6.275859359380596,5.002908467522589,6.7129009020541925,-7.842350388672313,-15.507288166720326,1.4631817124233018,-5.7617845249222395,18.702352425510743,-5.3975191629468515,-15.887575868112222,9.706053850841764,-20.933028155927637,9.804200166558122,-22.495294146834727,6.340385620822222,-20.852815966961753,6.193259718456501,2.1977396029068044,-10.372086185492282,17.837050131244276,6.088777887848807,13.723716654071007,8.063747003210198,10.89737911177269,13.697228629835138,-0.1454344890561323,-12.681870748639822,-19.64609365369762,-15.025825538388014,-13.36874476769695,13.209195933409699,0.957021135423781,-10.377978586316038,15.268644190070532,4.561001503258365,-9.708256146994776,-15.524368355593628,2.458365565896951,17.629922791176156,-11.124491214670925,-13.680558678878803,-11.644954869694542,-14.497797177007609,-10.956957520830306,-1.711397463363601,-15.005763976704737,-15.49634554811643,-1.4135217188231175,-8.23245577877522,16.84477082351112,-2.612092997385007,-3.756168845020927,-10.002692318877957,14.748661900892518,-16.82502859012161,-14.215066771210735,-11.274124972143913,6.64131234688577,-8.035853156011502,3.9426600696362883,-22.114934311390595,-1.77767549734719,-2.293837820445081,-8.77687647531044,7.678763288453836,-11.252469867015838,-1.6619554420308122,10.591883277011584,-6.559582697802746,1.925623974043264,5.192609299196965,-14.775193021592276,-6.855999982589546,6.814785427812971,0.8244914991498249,0.040020727772894255,-12.440408292557521,-14.392543112358858,9.976168097653122,-5.713974148240312,10.178798709866896,-5.113368566343444,8.154464877087001,-17.36557416722662,-11.84785539649884,-1.2041141504948207,1.7104840537473598,-10.105158930192093,8.223936815328312,5.6596326863641915,-12.382173699312684,3.3878181093563957,17.600517566367262,1.4539295773108585,20.989605236360067,12.872530168402747,10.91397484530799,6.897753056856332,-11.316839764571379,-4.038501438324821,10.231017264272474,-3.4272765374906107,6.1359348199980355,13.407530234521392,-14.519514071193067,-16.727371782374497,-22.91293663927251,-5.505500039893222,-12.703209427988691,-0.1666765009465217,4.76724979908772,0.9901586765400776,18.939103142506756,-7.102641516085254,-2.4278738962521387,4.971137915336087,1.5019734044692414,-11.38882481292845,16.136928192053674,8.133889122052034,-9.983608232812145,6.091258719938709,-6.266712130414226,13.16695157375118,12.22003646884874,13.035565901812836,17.30694706299205,-19.784335124509024,5.012078511915162,-14.859228857115479,18.314672593144927,-14.042456206349769,12.913681185912534,13.126829165696766,-9.622355197561436,-13.466879751431028,-13.428785458911918,-16.240949054097182,-6.3348982819438096,-11.554656523048905,8.899658900749168,10.793282990666299,-17.51200064603281,-7.7930385959040445,-0.8054998457626503,-8.578734545696866,8.318343466226676,1.9094749403869566,-9.039449103959496,-4.1291556203748545,-19.359122865284768,-5.252418140215541,-17.028334530213325,-3.7309155935286187,-20.516634861338535,-0.9734517066442998,-16.811538792042178,-10.023366816999358,-0.10536106355662199,8.743465169348845,-15.053196896523106,18.29025744160006,-10.071500959844245,3.5746669737756647,-3.3269577523470195,13.851218157491745,3.8683302807174043,8.685253198110326,4.681359052001578,-12.455091326526476,-14.588644366876366,12.701833753968529,-13.02686935208842,-19.14947016229764,-16.618035342800262,-10.477085985514945,18.225661574804498,-1.2705503428956282,1.191900167468863,-10.3484898646591,5.8427599525216465,1.7308773034209146,2.627031511216635,6.11498601232412,12.760447045271953,13.103497930053493,-22.120315370294094,-18.320301446716524,11.972437744558524,3.76501999801944,16.49155147169874,-14.509971948583082,5.431427092923192,-12.55789012231024,14.830331862508306,-21.61783273665358,-22.50945217719415,1.6245097363975107,5.477678947783052,12.22107051743423,-14.149901484267446,-4.300568254981406,-10.700218534479935,-2.8982981778708043,-18.88929489250357,10.684278755111883,-3.1014307017065867,-1.5899646875499145,10.283563145824699,-10.310721661471117,-5.028220902773695,13.598267336263275,-0.10722784248217393,-7.3894730812936436,-16.27774546155096,-2.555597855360552,-3.3385706504918122,18.308541873867362,-3.856590456705158,-17.1320345025681,8.213873153159103,1.1316715246030804,-3.086173880229348,14.752125467977578,-4.340705908279442,7.418728706113045,10.539647296993339,20.399769103531472,5.324864551202802,4.202921346032582,-0.12674265741113122,-16.19499517490754,-8.25010526661715,5.191975932502028,-4.056299843228744,4.693258945961407,16.530679448053533,11.385849585142452,-21.277703852339187,-15.829420283297827,-4.628676814359666,6.385889810725438,6.36820138936342,-10.788529079930722,-15.166008322352232,16.904655610022665,6.757491331018448,-7.216561644674602,-12.468919293185618,9.429226905768502,3.6332863856182427,-14.049959912475627,-14.534672589065272,-21.120893543277138,-12.488278111680607,1.9334069892320578,-0.52569987779774,5.751829034841509,3.7670410400539502,-15.666068035648879,-5.182383318292343,-5.60003731048891,5.628317396235477,-2.4806404447548402,10.225577497667302,-0.6732200907642122,-0.05926529821365012,-16.09212335464816,-20.511495496532845,-4.9553447735211895,-10.635230829893187,-16.73800705837985,-11.413808981991004,-1.8310312947680747,3.3129181338660105,17.241136202794983,-15.329455622194468,7.0664239524406645,10.473252946757414,-10.057593013024729,-5.339903987492956,-3.2873193178728504,-11.402239143100301,11.313509411675911,-19.27097791127134,-8.960651620743711,9.591919703831612,9.45844511100271,18.755261964313185,-20.406385461338278,8.415487762375427,-1.8782774078865623,23.103715475173004,9.474244217773101,-3.6406866082464764,-13.062442450768781,-17.931956503716112,6.08356410413072,18.831496301225087,12.694414282987935,-1.4329419940414099,5.7432345027698695,5.652281123178204,-14.231646695496265,-1.3668607658529752,17.9332269879492,16.525704319317008,11.801031730430369,-2.2040393609909383,8.603740602515918,-2.6150948546043056,-3.0922076144644097,-20.85892177777125,16.475359611457023,-0.7441634432204923,17.666151965040235,2.0356840108683887,2.7870373656490006,0.09604583553941654,-8.767919234269609,-7.137583500633978,6.649867731460643,-8.153118898196725,5.626768573295255,-2.212310008551684,14.17273157422305,-12.822712501771885,-11.328063934244426,-11.51412279686459,-3.0376076270057952,0.09904475995243445,4.38196488865859,1.6725744897098977,-5.873069150336801,6.379738748457735,-5.836028573629079,-4.179945436580535,-10.035073052180815,4.401617871456274,1.8218485625615222,4.327723187587749,2.6289620953514965,14.202691758055147,-4.963454265476468,1.71497317199163,-18.1086575366958,-6.500398260496262,-21.874270284112736,3.3668063829600725,-16.82827202418199,-9.359773788884151,0.318647464239992,8.298325872503503,5.32245769219342,5.825213436551037,6.9605146795619905,1.5081081657200444,13.756633945141182,16.549641995941208,-13.795833036918806,10.428728178279725,12.43338883656126,-2.6725145769474117,-1.3341648261784154,7.0129932227860285,-5.272050018908365,19.153853931108934,1.7389756203671811,-21.15341940308361,1.5864839395111492,11.178604336785073,10.091131148426351,-2.2679106339640014,-13.591350056303204,-9.782381346251006,-7.805691821622048,-22.060845707693105,-3.2038141957389725,-2.3901161037228045,2.956178850890382,-2.990718932491457,-11.235875454360226,-15.106726499039919,-23.21648261245176,14.592377633285972,0.3295232716887704,0.4808572191261533,-1.8267204273616526,2.2923730990539033,2.7964998501059153,11.370733331093376,-13.606176683710169,-14.278292375173542,14.853775431276407,3.3923934169309433,-0.22548571455868222,-4.793397263778949,7.683618820978446,11.698994189855554,5.3145931831621915,-13.855824895320316,8.399590304010477,9.688202356142476,-8.935246465207005,13.470677175286099,-6.724918214666915,-8.941995177767618,-4.562232452927137,0.9868715785861328,-9.018646926585662,-15.405112606875223,2.61038616043709,0.5846920612495802,4.516075555721391,8.49790148900004,-4.152899911096863,-3.6173627514443236,8.982911835350968,14.636888115167974,-1.9034801199542377,-23.36139374204128,3.3141873604283725,7.381927110995658,-8.797986803399844,-10.27875142468307,-22.735431599764556,-4.660574716206025,-8.388040546330041,-10.608802084466035,-5.499506694533711,6.3081171720166465,1.3307650617389513,-12.260375812462495,-16.412970665234948,18.553407888180534,-14.204511959918259,2.124603769484172,9.770538519621939,-8.06429927161335,3.859801811175162,-25.356519439005538,-5.194527127466427,0.7110123889400666,10.804481914744366,-0.3919541437069616,-8.032107411175318,3.214340780322253,-1.8647617744773677,-1.3779151186452656,10.076437000102887,13.82496125959593,1.246739489501237,15.404883989812555,18.06963317145101,2.5499948480265227,-20.831535856244727,-6.995738875224027,-15.072341098020374,-2.324903291927603,-0.5847663242422456,14.918268783698908,2.049622540905931,-0.9178773807780142,-10.059408590032678,14.135395511065674,19.43186793923596,3.3214955972952422,-13.827657058319863,-0.6433800269750264,5.56211750353678,-21.303536122020553,19.06641334548255,0.9030162999665667,-10.599639632841562,-17.41718091233209,-17.41784011786107,1.1507218117412688,-16.42589572281703,9.6874179965218,-16.826040318082924,-10.384397852475125,-13.760350549983558,-7.182280391381426,13.965403443169972,-17.494048102309996,8.893275228275991,-13.126411183108264,-10.925322846951511,9.147114501532519,0.8837353009075506,14.786044975218811,11.313019968369765,0.8563791221042836,1.531701567270918,3.5919388067183298,9.503912423076832,-20.81333388491606,-9.07741349901541,-0.2685829732824522,11.067817553294926,-13.689312838981513,-7.424279141410396,-0.7980668726814657,-16.201812932109565,22.787345840329575,4.9124716850576675,7.488721720753183,-6.074424646374021,-13.455857147143323,-20.820163008493566,3.641516121589367,-0.9091062908828778,-3.4617573169887144,17.555377067469557,-12.118325837708635,-18.264543084548322,-10.297541039685877,-16.419729676179312,-7.451186297244523,15.005859954559652,5.2599773468118824,15.236440863443335,-1.0810051256937658,-11.01736692868517,-13.534807510660777,12.19989454043376,-13.286399398256107,-1.8840087045974148,-6.2974979329149985,-5.761159042175302,-11.357919916830097,18.38269109100859,8.553559432423967,-10.197251618633485,17.322265882506144,17.13382480461667,-4.6175192708603126,-2.3420951770221836,10.098924096897576,8.903504260307402,13.697053002375492,-2.072275087021501,-5.755104125523562,3.262737442648425,-11.224060301730894,-14.866549701330545,0.1740003350405901,-5.6325107713390965,-2.4823470492948543,-4.5493018516942865,-1.6330774875522636,-2.288968806086048,-0.15491052938164962,-13.160558905575261,-8.830501050789753,16.013782596995505,14.76722034060286,-10.898032484967406,16.050595642018724,1.1032499479140636,12.693690895510763,-9.219458766180074,-2.494183354238019,0.9104444225920678,-2.7423570490352835,-3.0179891695501637,-7.722711225628206,-21.005696779110764,11.84761367214397,-17.506857737719304],\"x2\":[-5.891668379940373,-5.56886944390821,-3.569286966035297,-5.543212407612171,-7.785574072616419,1.8714190660338967,-10.03410883745884,-11.643999820756404,2.575286993308384,-6.606660948279649,-2.4285432897740353,-6.4948654255633524,-4.241125381791441,9.379466374335712,-7.2670257783268095,-6.917925455329255,-11.642459618377385,10.394156248450717,15.065561973041525,12.066727007391869,-8.77603583710229,5.562038342877303,-23.25879306209412,11.362719584049106,-9.807848364763666,20.385007235863473,8.747609334281448,-1.8234296656455018,-6.540430048430214,5.446394424078443,7.566752389362559,-15.284388716044724,-23.257871635471588,-4.344801048001549,10.976839045309395,-10.938133488629253,-12.47741459555417,10.378083593841287,-5.586546672066054,11.623654019975435,11.188074716500322,-10.364114847756314,-2.275407187906523,20.23663700503851,-20.253233733891726,-2.704012781046982,-5.081237029671497,20.3426220478592,12.081857283282734,8.189809740680284,-12.192228842792082,-5.714610200311501,-2.7595773192359903,-6.3412166444797,22.314749703748603,18.160680526069335,-7.586024773076164,10.65801014178749,-3.293575908464085,-6.680465719796611,15.966503468317104,9.621923855445983,-14.090897489071525,-10.175848039108589,-2.6749862109460008,19.340744485586836,-0.024913412026720705,-7.70207084195558,20.015249976720572,-10.550612209004802,-8.47829629348192,15.74380299807858,-1.6021126056449682,-2.8635393920122234,-7.977879924004415,16.161253843374034,22.659325539661133,-2.426764725662686,-10.93595961171591,-18.945491052267634,-2.4567980675763157,-19.02286188904524,-15.912007725093805,-12.320917377136707,8.438480288938326,-20.384135668874997,-17.004019107200214,4.746281665932266,4.88828559289156,-7.759044492976918,7.6151946152637695,-12.578239810850791,-9.374721551758231,6.516699216939514,17.42671315070375,-5.676086261065754,16.513888137486706,-7.016310979079516,9.88367969880399,-2.0334479829906917,6.822090491893877,0.2741936050316514,-8.169461972734652,-0.5823350183450033,12.371176326281306,12.474333231864684,-19.7129265995532,4.623457937065051,-11.143416037069784,-8.68045521684688,-0.6482674390031382,-10.624686436113516,-6.955307824478143,-12.242789126494541,21.675576652635637,-11.856359141532394,7.964203928041577,-4.221899264522721,12.339106272706395,5.173579956992338,-18.738420928061927,6.2233312649337185,17.087524184336374,3.0746384443328028,5.953238029554922,-10.930535914466711,-8.48659022562243,22.211176267277967,7.6303927501313185,3.709791747098201,8.081178403437892,22.034775602729855,-17.999875851591966,-9.646043363393693,7.837703998780284,-8.42203300215885,-1.5431110970232649,-7.42776589776078,7.808104277010652,9.677039352848436,-12.29397765412415,5.706742688555636,7.524255811684155,9.788205636703726,-5.34697003446211,16.425516860651815,-3.8413463347807357,-9.966212659004436,-2.8864874956509445,5.1665265959079685,9.314734700133247,3.6318675414755224,12.428398719098398,-9.194452896991585,5.223169036631906,19.45969121607475,-17.511019596148632,-17.079542901462567,-10.7323243135998,-10.180568808185116,16.847034429959546,-10.03168797413931,-0.7005266140761455,-17.088665786374488,15.558347866706159,-2.7480046721137055,-14.672066098628608,10.619693754006075,7.586762589368599,11.448908063839484,7.997390173192779,-2.941413282748493,-2.784520005778836,21.50483936755831,19.71972818809801,-13.463919751023209,-2.6835177872741633,2.5009721596869836,10.464577771459389,22.098306355908672,16.17122502718611,-2.313304341283903,1.7721551264665825,6.830069084196371,8.397344129137123,12.427347301226904,-2.6713362625079506,-2.428818628889363,-14.086990880367296,-2.457682729139519,1.464267854883471,-2.8467667529790655,-16.036132362482824,-10.820491544771166,19.697361629928352,9.39593711887285,-8.91021605701843,-1.0201992053215336,-2.7665659940921383,-15.421305311373152,-3.106315984033082,-3.6636836801629857,-12.03885934693282,12.317854101197817,10.469446312842761,-4.602566069373835,-11.113166013454778,2.6533232974557728,-2.7108860933471055,-2.355897466233825,-3.0773356121343847,10.800230324325115,-4.901632004039786,-8.392779364308302,13.915912659643542,-5.161818417061287,16.956929761188615,-0.5849944354554331,-3.0889191742749,5.604965865488857,-13.314626932920413,6.532233037034875,-6.5824553875154255,-10.698602837284968,6.720430362867927,-16.557679325397746,-14.633944071474172,3.2486978215122604,-4.607127399088837,15.04949489732663,-5.742122244525458,-4.918499924807294,1.3735874834350221,-2.455324902890445,-5.038693643340737,-0.04745912049404098,-8.470870290015771,-16.4023932037061,13.445590447907978,14.275845770587296,0.13122423491551954,0.7526318864059154,-21.918743098406594,-2.065927826459441,-7.45615516553525,-14.393131320254382,-1.4776285521065362,-17.035392713077634,-0.8309079597381166,-12.098703104107972,-1.3353070917112508,-12.687884384736877,3.7098280112342557,6.590358261724349,-2.0085044496150353,9.122797610460713,-7.217325834076145,-2.5079996674367067,17.743980685777622,-4.359040330835104,-2.3586422753260776,-1.1781586078280957,-18.03765972790886,3.8275566827026006,17.81513259337039,-10.407512289849858,-4.419902870422807,0.09327572883166801,3.5659393884863686,2.7628591993100238,3.9949580961668727,7.661781331285346,-8.48355871015764,-12.385297954629426,-11.37750004169837,-16.809692981740042,-10.761801510322172,13.999835233151673,-5.7127572326636145,21.23686328681128,-3.5912025650326487,0.7964805935157044,8.152711178102658,-7.83120821067195,13.122542724266697,0.636510253785983,20.359273130007722,6.120969917386771,13.119739776720946,-0.5779769122500931,-16.715254335758324,15.013230995928659,-3.517844735515464,-4.557673555243402,2.2336228987501214,-17.950541852765845,2.2864643931457316,-3.645392627425811,14.470921500880438,-1.5103177048816347,12.915757623733377,-18.245616819462498,-2.784163831664711,14.614103356962875,4.03277318715296,-8.333792764482334,4.501148769610375,1.193795580600027,-4.166444064428609,6.610329113976385,7.06741838462927,-11.127706284474447,-16.89441973536073,12.64327588466342,-8.09438860756342,-3.9626742105463264,1.0852832687316287,-7.964261137334512,-9.554592885624984,4.478509685893048,17.027850838661255,11.414566814197606,6.697706286764509,-6.368507404565127,-12.12044772748534,3.4923868506417053,-16.37590253324414,8.331281383192616,-19.9575883812665,-14.223199315482969,14.754867632071338,6.147782589698977,-1.0184597790126597,7.878747027757312,0.8350535452057515,5.209120991040006,-13.11389222243171,5.451064837334793,-4.6852857651243776,2.739170332289624,17.88257371536969,11.215077138541375,-7.536123298721223,-14.859028108172762,13.90323441767964,-19.77741966295023,16.61381179905539,-10.247886774673335,-13.99691324537855,10.172710523556153,-4.383805760628367,9.807050821134412,-0.5929180710716463,0.5818516267660533,5.538295671679428,11.549158166149626,-16.49789027758334,-5.131972545790591,12.365191035663004,-7.483201803668821,-18.199318006639942,-0.4414320878912589,5.9183305598929605,-8.911801609741005,17.88340906930539,-13.236018220069043,-3.294103161277421,-0.36601248285253285,1.8057542630376908,6.651957850608799,-3.0944498551193655,-19.054017309871693,13.099291336998805,5.421296947185787,2.5148237365012704,-10.156303622104312,11.300587998754974,-4.259687358395744,5.194588633275281,-18.69523384049833,-4.406706212679772,-5.741925965367427,-9.061845346478076,-7.187189838856796,-5.620857443445629,-9.8764863059369,-6.815606447503465,10.441465088305282,0.01823129702779447,1.688347789702116,-0.15006861904559754,9.430439413350804,9.735304974643407,8.886902038804198,6.2735072666711735,1.5281259540366925,-9.306165161627112,10.976299948108558,5.8098912864775745,-6.318788273994631,-3.315857303076922,2.0352934261442144,-1.38528383758576,6.498006103375728,5.110553350492212,14.07318123308333,-12.41740806423883,16.772975817704232,-10.259026310873345,3.571612555925256,-16.923389314847505,-10.20671221431085,-15.452758095337687,7.658295668547963,-0.929975414419751,19.636703035443972,11.390164067006063,3.6409023812902146,-10.712716158305513,11.47245438490537,-17.921529591024235,16.369145077404507,4.938785661066405,-11.280023963420492,2.7584966753613007,-10.741143550680459,-17.703546304779522,-1.0435034495361468,19.091884146700753,-8.55361557598,3.421581267148953,14.107633252238427,10.64650343452996,4.268499693071493,2.623175079404499,-8.313608948434645,-1.0238676780854425,-4.372766738159558,6.66148770158238,2.334283496573608,12.424029024003929,5.984932589670668,-18.8977198874621,5.7142643256572505,20.66495373543277,6.26255697503435,7.315037319103254,10.780386912876573,-15.78055157344281,7.8155493852343385,-20.832881150835934,17.742691365443076,15.09207197737529,-4.376588363817184,-7.7898916178759965,-13.819061356231582,-12.167092577813113,4.95874174771948,-15.347683103388427,15.788741190747299,11.399700341546977,22.253432646837023,-10.639833012491959,7.7765212665384915,-7.956082125639799,-13.051512079260664,2.1670592265557556,15.17957360613891,11.455122558985662,-9.237151546975262,-14.222156301357764,22.14233453846447,-10.904775069908014,8.786708463914941,5.167963472367886,-3.2715971273030955,-11.402907210907744,4.227680686619035,-16.22049217619194,7.752748423882383,-3.1565837504505985,-10.803666306806507,-9.601147239287615,-1.274526240345524,-15.65637942039035,-16.67588375435439,-17.916168464493715,10.176505073991038,-19.915359854880695,0.019665993752604076,5.6476467132379415,-3.7644020598592616,-16.62755607553178,-8.164299351655144,0.9648867598486378,19.467458563758893,-3.9098752705034068,-1.496349593020131,4.120211067098757,7.5176050454078345,0.5849643445947691,-10.77105427907517,-10.796390223262872,-4.281875254836253,-6.061978623567817,6.84605890909086,-11.018612571364184,4.662579281719541,14.634693853190885,-6.626340031868089,16.611461708220695,3.6586733656160577,-1.4421038036710425,-16.9695658207303,-18.86508010798538,-17.17218329644838,7.786588223911174,19.076803354807794,-9.920121486358871,-3.3261287504965495,-14.241323359367579,-16.11356745147629,11.446490496032292,-8.62781550607573,3.081479599558066,-3.9287858652390204,-7.7610257579714865,-12.665343482980504,-12.736862156388536,-0.9936847658410664,-0.2580270507167523,-3.220236865394865,-5.1155995187696215,11.402836430182957,2.9223201181370793,-1.3627960437215807,-4.929898712467471,-7.855968190047171,-0.17418275928508065,3.8437837072431864,14.137133849153628,-6.412688699044547,5.889488761124442,4.660567480968156,-16.07936593148541,-1.9376532938711337,8.0472001357623,-13.00365025487242,11.766225192195227,12.793707726538353,4.424334894244239,-20.826367497527432,2.376667071539667,-16.88587659125586,5.593900290286057,10.212363346457778,17.246237626552688,-1.510010983281881,-4.4664633341505855,-15.736155873119127,-3.6671741437117316,3.0522598348519323,-3.926449797481879,-6.134061405315856,-13.072566382649274,-12.005652384369315,15.742617599876324,2.1490918991565553,-12.283053785979293,-0.09103361979855695,-8.314832594938832,-9.44955061526412,-17.09728718506628,0.14014538993366848,22.029747249461767,4.392516171569512,9.730652959338514,-3.2379148022712245,14.703854700245534,-8.60645427249364,-4.823203657830416,-13.758207456655574,11.610841139151226,-11.823711155762886,-1.8591288503916297,-4.531853239594072,-15.499091940680204,-8.773393126262535,-13.822578307448575,-4.3314810260763466,2.5626963942074017,-4.650120025273748,4.2265892475181746,-2.2990104455115024,15.263730999930376,5.691529290770485,-12.00093319254454,6.64395769754899,-12.990811527549345,-15.707574001526433,-12.137636825987853,-10.809300321148939,0.8610766093433699,-10.884316047501093,-12.528840533368472,-17.937407384056037,6.245859746486697,-0.6254123721956565,1.3946071617706606,-14.743877537654171,2.728104172045224,-12.369519532850594,-14.158887089176341,3.517948757881292,-16.604285968831622,-12.68153494189118,4.773873123146172,-2.355366888403881,5.519165857089759,-10.469056747881442,6.033162713541984,0.2501002497394371,-17.7377721320416,-11.617709151932985,3.7736659335555616,-1.7977185429441138,-5.00724272956717,-12.246171381822746,-7.1337347518544805,-16.270763561631757,15.110314104343372,-13.353831686305428,-6.7751439569376295,15.243939407640474,7.079847327834758,5.7664742218833105,-0.21743146367502786,14.94691192373293,-0.3381952366291846,-14.787919078595705,-3.9682823784277312,-19.85860497689025,0.22387283456960105,-1.5494252441457812,-15.840755413033245,-16.070965524571736,-2.081386461320339,5.968977236291538,2.768071825607999,-3.6528666578301,-2.1462518107454986,22.045939670607176,7.4476818396666316,2.0865358550913067,-2.4958414212914652,-16.96467143737638,5.746944692629723,5.6661421764395925,-17.690505503520953,10.747664182724359,-5.728216550855666,-0.33378235037307713,16.20792473983609,-8.530710574314257,-3.916326015203609,11.581178074846735,-5.634668166318741,3.7739720806400605,6.310265087112329,2.1458894775411035,-16.88011595665779,-15.10375028704362,15.858955077245126,-18.01175706079279,2.3592361643036663,5.169151066317804,-4.817280919056341,1.3546272387137308,-15.455854375497998,4.812236019430642,11.827857294150256,-18.59579411826886,14.772536771205734,-3.293301573369598,-16.10920998364855,1.200805843243754,6.928260483177794,6.479149226644918,-4.6915520902954855,-1.4502772644819988,0.7664599061132884,6.789012798024594,12.860909562465084,-14.169010062754326,9.753470304935812,7.548142648512329,-3.791295258382342,-15.802731379189217,-5.4714566146274635,-10.964507828102079,-14.406917280068965,-17.46492835337298,-1.9585294961582336,2.2893504716040387,3.5013771811470016,3.212803458673901,4.069783093178382,3.4229173870687686,13.691468413698615,-16.926700677377568,0.058001404706894105,-10.242706619785771,0.25565355618751806,11.2935350451256,1.0763718959818513,-1.1543027607917549,9.883742446380912,-11.579064431973919,7.472316387664772,5.739796681256336,6.8109107415457215,6.802665979830024,-16.177513826627127,14.08316211669973,3.8097805836908796,-8.385528399011529,-2.4344779097993614,16.23990989653108,-4.6361733852476235,13.82129144438342,-17.250435129039573,7.280453403462804,-0.35575166961875976,2.7678858636144548,10.909994333905145,6.9157053940840045,1.7205973870165538,7.651767113091359,14.999216022361912,6.652156997906209,-8.592200736004694,7.4950716464464415,-5.571160925211394,4.7464870525880976,7.632490410780711,-10.912629933609479,3.7883331256900936,1.5773180342520963,3.016465439564995,2.9031970415503943,15.11473585256049,12.431232926015936,4.9470298121129455,8.804915833205824,-17.9424533646697,13.208033790198314,-11.28061699916463,-0.33357869568819554,2.6596390612975362,3.628317639068077,-5.299193039502567,-5.814785435660255,12.62246420461641,15.270699883483015,3.982804876410775,10.10964217626239,-4.460344067791188,-4.256339471418368,-7.859490811107548,-5.0394013205149495,-2.673710387148922,-20.25449416183185,13.11192420373402,-10.808544040271045,17.855082002425007,-16.738127455963447,-14.273025621226548,5.963390567956479,-2.6772524089084584,-15.1084117302831,2.3632385843285624,4.35959225070564,11.772365649114672,-6.915014919663537,-15.232218052740725,20.906118923710793,-8.365769276739078,7.891145713313044,8.023656246315344,2.4377894304103025,17.956279347789557,3.2223770897143846,1.2393956410421727,14.826703877468319,20.59107942215077,-7.33522393521914,6.979115624472069,17.935165257396008,-2.161085896682021,4.165248148893326,6.709501561558078,10.910285588533014,-13.858692713659902,-14.86400010816992,-15.751347053037824,16.99246599819092,-1.6059959053464223,-12.452344348189115,2.9959304840988668,13.280205254142212,6.93830108461605,-0.3527409548007523,2.3832937209297858,6.552833734272927,-1.0043734751295346,-21.906463276689735,-0.9094813802360187,1.3835428251391422,15.3248494095886,13.254936918196327,2.1851782138809095,2.100982188125479,3.0551615895562487,12.337800859593356,-16.118939785088507,4.228720869466482,-19.70716085656112,-18.351478193740604,2.7550680555083535,3.321800166671175,4.51381907820409,9.526424721460044,12.488839525467556,22.10284765058443,6.9464813567943935,3.238675120739186,3.4412676249454854,1.313570203643411,22.36134496547427,14.722149303082498,-10.227180345141068,15.015066143915556,0.7763076527978551,-6.522596802102924,7.626161982080844,-12.803489681045136,-0.25540631033663674,-8.055794479057601,8.687378107356635,2.265626267244412,4.107289802150317,10.210092140059839,2.234476540748717,-15.758747567818528,6.296340957828283,3.0409531787311974,-13.739560804434026,5.802828782309779,-15.683746635463518,-15.351137431139902,-7.814605553541146,-9.100960463080456,-5.356678709216351,-1.3468752483586384,-5.400843261450887,4.565039039551715,3.4215635542734093,9.81271310823776,-14.203135520471276,-8.874465762656177,2.7491294046749157,8.663281650046747,-11.051005105499582,-9.85584875511981,1.002224204906245,-19.829812658400847,10.928288552177094,-18.35555586390078,-3.1235045563010924,-9.287319438872933,5.946454624635703,-8.398814777859052,7.657580235519774,-0.44812851028854495,1.8032472319428223,-5.550654412767168,-13.209596808245992,-2.5339526801303087,14.360699068439446,0.723532607748951,6.528308660954478,8.730833690103443,2.5898668630886656,22.307079856680218,1.933357669753601,7.689057496632881,-5.705893695056844,9.457108162736299,3.3144902208207747,-3.4545526748395248,-8.427609438936457,-8.210964680611298,-4.980653624227767,5.212280563139407,-17.033525175883906,-15.439715133222583,-8.623949168308561,-17.206842946052188,3.050189295054497,-2.577561375284682,-10.73498501098949,-13.133250000793995,-5.560981844694335,-2.0190330774040426,-15.439372334355818,10.16000231698371,2.4508961901576503,8.750168295496673,16.601377009972726,1.2769020472577597,7.98123618186631,3.867367618326479,15.840760413641508,5.999498663321976,11.458194756857136,12.961533720405892,-5.474749190484938,6.672057097415702,-2.1523717634960047,13.655843297265513,2.264011894453824,-5.586932174253786,-11.281380713200356,2.0841964541973823,-12.437494811750422,-0.033389749204142505,-2.0350701397904927,10.170194809318515,-11.847717312054009,-5.295643356493209,-7.8131851378779675,-1.667996522259963,-14.532506233742199,6.111275431194691,0.17704572204207727,-4.50099235831989,7.740686783007362,1.4381699229211065,-8.071643783048035,19.112450249624118,5.586892268794498,-0.7347506243893168,-1.8811255183107791,-12.107566294131203,-18.351591504569086,4.461670656810987,2.8084714122463965,-18.35874351069897,17.08912295351489,-16.144284383976522,-11.32662174483309,2.8632771785364803,14.802900260471793,7.3630035330369665,-4.9316232350858185,-4.865410765574917,5.808695494517457,1.38352130825403,14.66818844317455,7.67640369560117,-8.159060485123357,13.397122829688724,-5.904333163183263,-2.4574600980050856,19.469128146612846,-13.515544191265525,7.383513484203663,-4.652543948401297,9.981185501200349,16.94414035410555,-15.162384645996815,-2.0802645375923974,-17.067831238914433,-8.667185472008558,-17.81927969482285,10.834306228590062,3.79200626619058,8.686184868335141,10.742464296950883,-1.9105348913508038,13.75188661528441,-7.970748568712639,-13.763120306759843,13.183853435514248,0.2003702979019913,-2.0396706284534796,-7.938890641750671,-3.1598999053685297,-16.098524406872034,-3.756629566083487]}},\"id\":\"981bef3d-1b94-4a83-80b4-1d88225946b9\",\"type\":\"ColumnDataSource\"},{\"attributes\":{\"plot\":{\"id\":\"78132d75-ec0c-423b-b2b8-66971da12696\",\"subtype\":\"Figure\",\"type\":\"Plot\"}},\"id\":\"1353d9c5-cd83-4877-b886-dc26a11f4be8\",\"type\":\"ResetTool\"},{\"attributes\":{},\"id\":\"f43c4219-09ee-46d7-a8f3-21a4052af822\",\"type\":\"BasicTicker\"},{\"attributes\":{\"plot\":{\"id\":\"78132d75-ec0c-423b-b2b8-66971da12696\",\"subtype\":\"Figure\",\"type\":\"Plot\"}},\"id\":\"973cd396-3c5c-478e-b23f-f430e43750f6\",\"type\":\"PanTool\"},{\"attributes\":{\"fill_color\":{\"field\":\"clust\"},\"line_color\":{\"field\":\"clust\"},\"size\":{\"units\":\"screen\",\"value\":8},\"x\":{\"field\":\"x1\"},\"y\":{\"field\":\"x2\"}},\"id\":\"1ae54d6b-aae6-4897-b9bf-4031fdc05047\",\"type\":\"Circle\"},{\"attributes\":{\"below\":[{\"id\":\"8aff7ad3-f9a5-4cd6-a936-9815a1057023\",\"type\":\"LinearAxis\"}],\"left\":[{\"id\":\"690297c1-44a1-4eac-acca-4686ca31c54f\",\"type\":\"LinearAxis\"}],\"renderers\":[{\"id\":\"8aff7ad3-f9a5-4cd6-a936-9815a1057023\",\"type\":\"LinearAxis\"},{\"id\":\"3fe1631d-9e1a-4a5a-b2fd-71c4ad5f857a\",\"type\":\"Grid\"},{\"id\":\"690297c1-44a1-4eac-acca-4686ca31c54f\",\"type\":\"LinearAxis\"},{\"id\":\"a202096c-0cdd-43fd-9cdb-2021f1c83cdc\",\"type\":\"Grid\"},{\"id\":\"576c6889-de03-4eb7-8012-341d2cf39b0a\",\"type\":\"GlyphRenderer\"},{\"id\":\"b0449e21-3abd-4392-8465-83539795002a\",\"type\":\"LabelSet\"}],\"title\":{\"id\":\"7e09a068-98b9-4c56-9fc9-da4da6cbbc5c\",\"type\":\"Title\"},\"tool_events\":{\"id\":\"c6d09aed-afcb-47ab-89de-51008ac4d68d\",\"type\":\"ToolEvents\"},\"toolbar\":{\"id\":\"b3bec3f4-6575-40d9-b93a-38b0b813baf7\",\"type\":\"Toolbar\"},\"toolbar_location\":\"above\",\"x_range\":{\"id\":\"c652b33e-6a06-49fb-99f8-f7c3297880ce\",\"type\":\"DataRange1d\"},\"y_range\":{\"id\":\"8b757bdd-5288-4868-b491-1b205424e72c\",\"type\":\"DataRange1d\"}},\"id\":\"78132d75-ec0c-423b-b2b8-66971da12696\",\"subtype\":\"Figure\",\"type\":\"Plot\"},{\"attributes\":{},\"id\":\"3ebecc97-6885-4f10-982c-ebccac14051b\",\"type\":\"BasicTickFormatter\"},{\"attributes\":{\"plot\":{\"id\":\"78132d75-ec0c-423b-b2b8-66971da12696\",\"subtype\":\"Figure\",\"type\":\"Plot\"}},\"id\":\"f3cb3ff7-0977-4c18-b4c0-487e2e1c0e95\",\"type\":\"SaveTool\"},{\"attributes\":{},\"id\":\"c6d09aed-afcb-47ab-89de-51008ac4d68d\",\"type\":\"ToolEvents\"},{\"attributes\":{\"plot\":null,\"text\":\"word2vec T-SNE for most common words\"},\"id\":\"7e09a068-98b9-4c56-9fc9-da4da6cbbc5c\",\"type\":\"Title\"},{\"attributes\":{\"callback\":null},\"id\":\"c652b33e-6a06-49fb-99f8-f7c3297880ce\",\"type\":\"DataRange1d\"},{\"attributes\":{\"callback\":null},\"id\":\"8b757bdd-5288-4868-b491-1b205424e72c\",\"type\":\"DataRange1d\"},{\"attributes\":{\"formatter\":{\"id\":\"3ebecc97-6885-4f10-982c-ebccac14051b\",\"type\":\"BasicTickFormatter\"},\"plot\":{\"id\":\"78132d75-ec0c-423b-b2b8-66971da12696\",\"subtype\":\"Figure\",\"type\":\"Plot\"},\"ticker\":{\"id\":\"cbeb9ad2-178d-4d91-af6f-b2802d818ca6\",\"type\":\"BasicTicker\"}},\"id\":\"690297c1-44a1-4eac-acca-4686ca31c54f\",\"type\":\"LinearAxis\"},{\"attributes\":{\"dimension\":1,\"plot\":{\"id\":\"78132d75-ec0c-423b-b2b8-66971da12696\",\"subtype\":\"Figure\",\"type\":\"Plot\"},\"ticker\":{\"id\":\"cbeb9ad2-178d-4d91-af6f-b2802d818ca6\",\"type\":\"BasicTicker\"}},\"id\":\"a202096c-0cdd-43fd-9cdb-2021f1c83cdc\",\"type\":\"Grid\"},{\"attributes\":{},\"id\":\"c373ceed-e2b3-4e7a-b260-9dfc227ef0fc\",\"type\":\"BasicTickFormatter\"}],\"root_ids\":[\"78132d75-ec0c-423b-b2b8-66971da12696\"]},\"title\":\"Bokeh Application\",\"version\":\"0.12.2\"}};\n",
       "            var render_items = [{\"docid\":\"1f2f78a5-19ec-4611-98ca-449f8f0210ba\",\"elementid\":\"9a10e6d5-5a11-4f8c-b2de-28befba53724\",\"modelid\":\"78132d75-ec0c-423b-b2b8-66971da12696\"}];\n",
       "            \n",
       "            Bokeh.embed.embed_items(docs_json, render_items);\n",
       "        });\n",
       "      },\n",
       "      function(Bokeh) {\n",
       "      }\n",
       "    ];\n",
       "  \n",
       "    function run_inline_js() {\n",
       "      \n",
       "      if ((window.Bokeh !== undefined) || (force === \"1\")) {\n",
       "        for (var i = 0; i < inline_js.length; i++) {\n",
       "          inline_js[i](window.Bokeh);\n",
       "        }if (force === \"1\") {\n",
       "          display_loaded();\n",
       "        }} else if (Date.now() < window._bokeh_timeout) {\n",
       "        setTimeout(run_inline_js, 100);\n",
       "      } else if (!window._bokeh_failed_load) {\n",
       "        console.log(\"Bokeh: BokehJS failed to load within specified timeout.\");\n",
       "        window._bokeh_failed_load = true;\n",
       "      } else if (!force) {\n",
       "        var cell = $(\"#9a10e6d5-5a11-4f8c-b2de-28befba53724\").parents('.cell').data().cell;\n",
       "        cell.output_area.append_execute_result(NB_LOAD_WARNING)\n",
       "      }\n",
       "  \n",
       "    }\n",
       "  \n",
       "    if (window._bokeh_is_loading === 0) {\n",
       "      console.log(\"Bokeh: BokehJS loaded, going straight to plotting\");\n",
       "      run_inline_js();\n",
       "    } else {\n",
       "      load_libs(js_urls, function() {\n",
       "        console.log(\"Bokeh: BokehJS plotting callback run at\", now());\n",
       "        run_inline_js();\n",
       "      });\n",
       "    }\n",
       "  }(this));\n",
       "</script>"
      ]
     },
     "metadata": {},
     "output_type": "display_data"
    }
   ],
   "source": [
    "p = figure(tools=\"pan,wheel_zoom,reset,save\",\n",
    "           toolbar_location=\"above\",\n",
    "           title=\"word2vec T-SNE for most common words\")\n",
    "\n",
    "source = ColumnDataSource(data=dict(x1=words_top_wiki_tsne[:,0],\n",
    "                                    x2=words_top_wiki_tsne[:,1],\n",
    "                                    names=words_top_wiki,\n",
    "                                    clust=kmeans.labels_))\n",
    "\n",
    "p.scatter(x='x1', y='x2', color='clust', size=8, source=source)\n",
    "\n",
    "labels = LabelSet(x=\"x1\", y=\"x2\", text=\"names\", y_offset=6,\n",
    "                  text_font_size=\"8pt\", text_color=\"#555555\",\n",
    "                  source=source, text_align='center')\n",
    "p.add_layout(labels)\n",
    "\n",
    "show(p)"
   ]
  },
  {
   "cell_type": "code",
   "execution_count": null,
   "metadata": {
    "collapsed": true
   },
   "outputs": [],
   "source": []
  }
 ],
 "metadata": {
  "anaconda-cloud": {},
  "kernelspec": {
   "display_name": "Python [conda root]",
   "language": "python",
   "name": "conda-root-py"
  },
  "language_info": {
   "codemirror_mode": {
    "name": "ipython",
    "version": 3
   },
   "file_extension": ".py",
   "mimetype": "text/x-python",
   "name": "python",
   "nbconvert_exporter": "python",
   "pygments_lexer": "ipython3",
   "version": "3.5.2"
  }
 },
 "nbformat": 4,
 "nbformat_minor": 0
}
